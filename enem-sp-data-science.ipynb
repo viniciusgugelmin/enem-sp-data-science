{
  "nbformat": 4,
  "nbformat_minor": 0,
  "metadata": {
    "colab": {
      "provenance": [],
      "collapsed_sections": []
    },
    "kernelspec": {
      "name": "python3",
      "display_name": "Python 3"
    },
    "language_info": {
      "name": "python"
    }
  },
  "cells": [
    {
      "cell_type": "markdown",
      "source": [
        "# Cabeçalho\n",
        "\n",
        "**Universidade Positivo**\n",
        "\n",
        "**Nome:**  Vinícius Kruchelski Gugelmin\n",
        "\n",
        "**Turma:** Osório - Noite - 4ª feira"
      ],
      "metadata": {
        "id": "r8dy3TvWc-Ye"
      }
    },
    {
      "cell_type": "markdown",
      "source": [
        "# Configuração de ambiente\n",
        "\n",
        "Importação das bibliotecas:\n",
        "\n",
        "- Numpy: para computação numérica\n",
        "- Pandas: para manipulação de dados através do alias \"pd\"\n",
        "- Google Colab: para manipulação de arquivos no Google Drive\n",
        "- Matplotlib: para criação de gráficos e visualizações de dados\n",
        "- Seaborn: para visualização de dados\n",
        "- Warnings: para poder alterar a visualização de warnings do sistema\n",
        "\n",
        "E execução do comando \"%matplotlib inline\" para que os gráficos sejam exibidos no notebook logo abaixo da célula de código que os gerou."
      ],
      "metadata": {
        "id": "4fcQjomOdbxX"
      }
    },
    {
      "cell_type": "code",
      "execution_count": null,
      "metadata": {
        "id": "LvnoMqLhY7B3"
      },
      "outputs": [],
      "source": [
        "import numpy as np\n",
        "import pandas as pd\n",
        "from google.colab import drive\n",
        "from matplotlib import pyplot as plt\n",
        "import seaborn as sns\n",
        "import warnings\n",
        "\n",
        "warnings.filterwarnings(\"ignore\", category=FutureWarning)\n",
        "\n",
        "sns.set()\n",
        "\n",
        "%matplotlib inline"
      ]
    },
    {
      "cell_type": "markdown",
      "source": [
        "Carregamento do Drive para que o notebook possa acessar os arquivos do Google Drive e com o parâmetro \"force_remount=True\" para que o Drive seja montado a cada execução do notebook."
      ],
      "metadata": {
        "id": "GXsifK8eeJqO"
      }
    },
    {
      "cell_type": "code",
      "source": [
        "drive.mount('/content/drive', force_remount=True)"
      ],
      "metadata": {
        "colab": {
          "base_uri": "https://localhost:8080/"
        },
        "id": "_29OcIjUZ55X",
        "outputId": "5b454af5-8300-4545-cf1d-e6e48cdb5984"
      },
      "execution_count": null,
      "outputs": [
        {
          "output_type": "stream",
          "name": "stdout",
          "text": [
            "Mounted at /content/drive\n"
          ]
        }
      ]
    },
    {
      "cell_type": "markdown",
      "source": [
        "# Leitura e visualização do dataset\n",
        "\n",
        "Leitura do dataset através da função \"read_csv\" do Pandas e armazenamento do resultado na variável \"df\".\n",
        "\n",
        "Uso do parâmetro \"sep\" para informar qual o separador de colunas do arquivo e do parâmetro \"encoding\" para informar qual o tipo de codificação do arquivo."
      ],
      "metadata": {
        "id": "V2zLZfgaeOrv"
      }
    },
    {
      "cell_type": "code",
      "source": [
        "df = pd.read_csv('/content/drive/MyDrive/UP/Ciência de Dados/Notebooks/data/microdados_enem_2019_sp.csv',\n",
        "                      sep=',', encoding='utf-8')"
      ],
      "metadata": {
        "id": "RXenssYmZ8TD"
      },
      "execution_count": null,
      "outputs": []
    },
    {
      "cell_type": "markdown",
      "source": [
        "Exibição das 5 primeiras linhas do DataFrame através da função \"head\" do Pandas para verificar se o arquivo foi carregado corretamente e ter uma ideia do que ele contém."
      ],
      "metadata": {
        "id": "NbToW6KKedDx"
      }
    },
    {
      "cell_type": "code",
      "source": [
        "df.head()"
      ],
      "metadata": {
        "colab": {
          "base_uri": "https://localhost:8080/",
          "height": 300
        },
        "id": "G581kIPUZ9Mr",
        "outputId": "c7171e40-b6d3-4333-d701-f705b7168d94"
      },
      "execution_count": null,
      "outputs": [
        {
          "output_type": "execute_result",
          "data": {
            "text/plain": [
              "  INSCRICAO   MUNICIPIO_RESIDENCIA  IDADE SEXO ESTADO_CIVIL COR_RACA  \\\n",
              "0  1,90E+11           Santa Isabel     22    M  solteiro(a)    parda   \n",
              "1  1,90E+11              São Paulo     17    F  solteiro(a)    parda   \n",
              "2  1,90E+11  São Bernardo do Campo     19    M  solteiro(a)    parda   \n",
              "3  1,90E+11             Embu-Guaçu     17    F  solteiro(a)    parda   \n",
              "4  1,90E+11              Guarulhos     23    F  solteiro(a)   branca   \n",
              "\n",
              "   NACIONALIDADE     CONCLUSAO         ESCOLA TREINEIRO  ...  NOTA_MT  \\\n",
              "0  brasileiro(a)   ja_concluiu  nao_declarado       nao  ...    600.2   \n",
              "1  brasileiro(a)  conclui_2019        privada       nao  ...    731.8   \n",
              "2  brasileiro(a)  conclui_2019        publica       nao  ...    393.2   \n",
              "3  brasileiro(a)  conclui_2019        publica       nao  ...    419.2   \n",
              "4  brasileiro(a)   ja_concluiu  nao_declarado       nao  ...    796.1   \n",
              "\n",
              "     LINGUA STATUS_REDACAO NOTA_COMP1 NOTA_COMP2  NOTA_COMP3  NOTA_COMP4  \\\n",
              "0    ingles  sem_problemas      160.0      200.0       180.0       200.0   \n",
              "1    ingles  sem_problemas      160.0      120.0       200.0       200.0   \n",
              "2  espanhol  sem_problemas       80.0      160.0       120.0       100.0   \n",
              "3    ingles  sem_problemas      120.0      120.0       120.0       120.0   \n",
              "4    ingles  sem_problemas      160.0      200.0       180.0       180.0   \n",
              "\n",
              "   NOTA_COMP5  NOTA_REDACAO Q025  \n",
              "0       200.0         940.0    B  \n",
              "1       200.0         880.0    A  \n",
              "2       100.0         560.0    B  \n",
              "3        80.0         560.0    B  \n",
              "4       160.0         880.0    B  \n",
              "\n",
              "[5 rows x 28 columns]"
            ],
            "text/html": [
              "\n",
              "  <div id=\"df-6ebfff1c-ebd6-4d87-9a1f-48ce03abfc98\">\n",
              "    <div class=\"colab-df-container\">\n",
              "      <div>\n",
              "<style scoped>\n",
              "    .dataframe tbody tr th:only-of-type {\n",
              "        vertical-align: middle;\n",
              "    }\n",
              "\n",
              "    .dataframe tbody tr th {\n",
              "        vertical-align: top;\n",
              "    }\n",
              "\n",
              "    .dataframe thead th {\n",
              "        text-align: right;\n",
              "    }\n",
              "</style>\n",
              "<table border=\"1\" class=\"dataframe\">\n",
              "  <thead>\n",
              "    <tr style=\"text-align: right;\">\n",
              "      <th></th>\n",
              "      <th>INSCRICAO</th>\n",
              "      <th>MUNICIPIO_RESIDENCIA</th>\n",
              "      <th>IDADE</th>\n",
              "      <th>SEXO</th>\n",
              "      <th>ESTADO_CIVIL</th>\n",
              "      <th>COR_RACA</th>\n",
              "      <th>NACIONALIDADE</th>\n",
              "      <th>CONCLUSAO</th>\n",
              "      <th>ESCOLA</th>\n",
              "      <th>TREINEIRO</th>\n",
              "      <th>...</th>\n",
              "      <th>NOTA_MT</th>\n",
              "      <th>LINGUA</th>\n",
              "      <th>STATUS_REDACAO</th>\n",
              "      <th>NOTA_COMP1</th>\n",
              "      <th>NOTA_COMP2</th>\n",
              "      <th>NOTA_COMP3</th>\n",
              "      <th>NOTA_COMP4</th>\n",
              "      <th>NOTA_COMP5</th>\n",
              "      <th>NOTA_REDACAO</th>\n",
              "      <th>Q025</th>\n",
              "    </tr>\n",
              "  </thead>\n",
              "  <tbody>\n",
              "    <tr>\n",
              "      <th>0</th>\n",
              "      <td>1,90E+11</td>\n",
              "      <td>Santa Isabel</td>\n",
              "      <td>22</td>\n",
              "      <td>M</td>\n",
              "      <td>solteiro(a)</td>\n",
              "      <td>parda</td>\n",
              "      <td>brasileiro(a)</td>\n",
              "      <td>ja_concluiu</td>\n",
              "      <td>nao_declarado</td>\n",
              "      <td>nao</td>\n",
              "      <td>...</td>\n",
              "      <td>600.2</td>\n",
              "      <td>ingles</td>\n",
              "      <td>sem_problemas</td>\n",
              "      <td>160.0</td>\n",
              "      <td>200.0</td>\n",
              "      <td>180.0</td>\n",
              "      <td>200.0</td>\n",
              "      <td>200.0</td>\n",
              "      <td>940.0</td>\n",
              "      <td>B</td>\n",
              "    </tr>\n",
              "    <tr>\n",
              "      <th>1</th>\n",
              "      <td>1,90E+11</td>\n",
              "      <td>São Paulo</td>\n",
              "      <td>17</td>\n",
              "      <td>F</td>\n",
              "      <td>solteiro(a)</td>\n",
              "      <td>parda</td>\n",
              "      <td>brasileiro(a)</td>\n",
              "      <td>conclui_2019</td>\n",
              "      <td>privada</td>\n",
              "      <td>nao</td>\n",
              "      <td>...</td>\n",
              "      <td>731.8</td>\n",
              "      <td>ingles</td>\n",
              "      <td>sem_problemas</td>\n",
              "      <td>160.0</td>\n",
              "      <td>120.0</td>\n",
              "      <td>200.0</td>\n",
              "      <td>200.0</td>\n",
              "      <td>200.0</td>\n",
              "      <td>880.0</td>\n",
              "      <td>A</td>\n",
              "    </tr>\n",
              "    <tr>\n",
              "      <th>2</th>\n",
              "      <td>1,90E+11</td>\n",
              "      <td>São Bernardo do Campo</td>\n",
              "      <td>19</td>\n",
              "      <td>M</td>\n",
              "      <td>solteiro(a)</td>\n",
              "      <td>parda</td>\n",
              "      <td>brasileiro(a)</td>\n",
              "      <td>conclui_2019</td>\n",
              "      <td>publica</td>\n",
              "      <td>nao</td>\n",
              "      <td>...</td>\n",
              "      <td>393.2</td>\n",
              "      <td>espanhol</td>\n",
              "      <td>sem_problemas</td>\n",
              "      <td>80.0</td>\n",
              "      <td>160.0</td>\n",
              "      <td>120.0</td>\n",
              "      <td>100.0</td>\n",
              "      <td>100.0</td>\n",
              "      <td>560.0</td>\n",
              "      <td>B</td>\n",
              "    </tr>\n",
              "    <tr>\n",
              "      <th>3</th>\n",
              "      <td>1,90E+11</td>\n",
              "      <td>Embu-Guaçu</td>\n",
              "      <td>17</td>\n",
              "      <td>F</td>\n",
              "      <td>solteiro(a)</td>\n",
              "      <td>parda</td>\n",
              "      <td>brasileiro(a)</td>\n",
              "      <td>conclui_2019</td>\n",
              "      <td>publica</td>\n",
              "      <td>nao</td>\n",
              "      <td>...</td>\n",
              "      <td>419.2</td>\n",
              "      <td>ingles</td>\n",
              "      <td>sem_problemas</td>\n",
              "      <td>120.0</td>\n",
              "      <td>120.0</td>\n",
              "      <td>120.0</td>\n",
              "      <td>120.0</td>\n",
              "      <td>80.0</td>\n",
              "      <td>560.0</td>\n",
              "      <td>B</td>\n",
              "    </tr>\n",
              "    <tr>\n",
              "      <th>4</th>\n",
              "      <td>1,90E+11</td>\n",
              "      <td>Guarulhos</td>\n",
              "      <td>23</td>\n",
              "      <td>F</td>\n",
              "      <td>solteiro(a)</td>\n",
              "      <td>branca</td>\n",
              "      <td>brasileiro(a)</td>\n",
              "      <td>ja_concluiu</td>\n",
              "      <td>nao_declarado</td>\n",
              "      <td>nao</td>\n",
              "      <td>...</td>\n",
              "      <td>796.1</td>\n",
              "      <td>ingles</td>\n",
              "      <td>sem_problemas</td>\n",
              "      <td>160.0</td>\n",
              "      <td>200.0</td>\n",
              "      <td>180.0</td>\n",
              "      <td>180.0</td>\n",
              "      <td>160.0</td>\n",
              "      <td>880.0</td>\n",
              "      <td>B</td>\n",
              "    </tr>\n",
              "  </tbody>\n",
              "</table>\n",
              "<p>5 rows × 28 columns</p>\n",
              "</div>\n",
              "      <button class=\"colab-df-convert\" onclick=\"convertToInteractive('df-6ebfff1c-ebd6-4d87-9a1f-48ce03abfc98')\"\n",
              "              title=\"Convert this dataframe to an interactive table.\"\n",
              "              style=\"display:none;\">\n",
              "        \n",
              "  <svg xmlns=\"http://www.w3.org/2000/svg\" height=\"24px\"viewBox=\"0 0 24 24\"\n",
              "       width=\"24px\">\n",
              "    <path d=\"M0 0h24v24H0V0z\" fill=\"none\"/>\n",
              "    <path d=\"M18.56 5.44l.94 2.06.94-2.06 2.06-.94-2.06-.94-.94-2.06-.94 2.06-2.06.94zm-11 1L8.5 8.5l.94-2.06 2.06-.94-2.06-.94L8.5 2.5l-.94 2.06-2.06.94zm10 10l.94 2.06.94-2.06 2.06-.94-2.06-.94-.94-2.06-.94 2.06-2.06.94z\"/><path d=\"M17.41 7.96l-1.37-1.37c-.4-.4-.92-.59-1.43-.59-.52 0-1.04.2-1.43.59L10.3 9.45l-7.72 7.72c-.78.78-.78 2.05 0 2.83L4 21.41c.39.39.9.59 1.41.59.51 0 1.02-.2 1.41-.59l7.78-7.78 2.81-2.81c.8-.78.8-2.07 0-2.86zM5.41 20L4 18.59l7.72-7.72 1.47 1.35L5.41 20z\"/>\n",
              "  </svg>\n",
              "      </button>\n",
              "      \n",
              "  <style>\n",
              "    .colab-df-container {\n",
              "      display:flex;\n",
              "      flex-wrap:wrap;\n",
              "      gap: 12px;\n",
              "    }\n",
              "\n",
              "    .colab-df-convert {\n",
              "      background-color: #E8F0FE;\n",
              "      border: none;\n",
              "      border-radius: 50%;\n",
              "      cursor: pointer;\n",
              "      display: none;\n",
              "      fill: #1967D2;\n",
              "      height: 32px;\n",
              "      padding: 0 0 0 0;\n",
              "      width: 32px;\n",
              "    }\n",
              "\n",
              "    .colab-df-convert:hover {\n",
              "      background-color: #E2EBFA;\n",
              "      box-shadow: 0px 1px 2px rgba(60, 64, 67, 0.3), 0px 1px 3px 1px rgba(60, 64, 67, 0.15);\n",
              "      fill: #174EA6;\n",
              "    }\n",
              "\n",
              "    [theme=dark] .colab-df-convert {\n",
              "      background-color: #3B4455;\n",
              "      fill: #D2E3FC;\n",
              "    }\n",
              "\n",
              "    [theme=dark] .colab-df-convert:hover {\n",
              "      background-color: #434B5C;\n",
              "      box-shadow: 0px 1px 3px 1px rgba(0, 0, 0, 0.15);\n",
              "      filter: drop-shadow(0px 1px 2px rgba(0, 0, 0, 0.3));\n",
              "      fill: #FFFFFF;\n",
              "    }\n",
              "  </style>\n",
              "\n",
              "      <script>\n",
              "        const buttonEl =\n",
              "          document.querySelector('#df-6ebfff1c-ebd6-4d87-9a1f-48ce03abfc98 button.colab-df-convert');\n",
              "        buttonEl.style.display =\n",
              "          google.colab.kernel.accessAllowed ? 'block' : 'none';\n",
              "\n",
              "        async function convertToInteractive(key) {\n",
              "          const element = document.querySelector('#df-6ebfff1c-ebd6-4d87-9a1f-48ce03abfc98');\n",
              "          const dataTable =\n",
              "            await google.colab.kernel.invokeFunction('convertToInteractive',\n",
              "                                                     [key], {});\n",
              "          if (!dataTable) return;\n",
              "\n",
              "          const docLinkHtml = 'Like what you see? Visit the ' +\n",
              "            '<a target=\"_blank\" href=https://colab.research.google.com/notebooks/data_table.ipynb>data table notebook</a>'\n",
              "            + ' to learn more about interactive tables.';\n",
              "          element.innerHTML = '';\n",
              "          dataTable['output_type'] = 'display_data';\n",
              "          await google.colab.output.renderOutput(dataTable, element);\n",
              "          const docLink = document.createElement('div');\n",
              "          docLink.innerHTML = docLinkHtml;\n",
              "          element.appendChild(docLink);\n",
              "        }\n",
              "      </script>\n",
              "    </div>\n",
              "  </div>\n",
              "  "
            ]
          },
          "metadata": {},
          "execution_count": 82
        }
      ]
    },
    {
      "cell_type": "markdown",
      "source": [
        "# Criação de funções utilitárias"
      ],
      "metadata": {
        "id": "f-pCasYoiD5k"
      }
    },
    {
      "cell_type": "code",
      "source": [
        "def contLinhasDfFormatado(_df):\n",
        "  aux = f'{len(_df):_.0f}'\n",
        "  aux = aux.replace('.', ',')\n",
        "  return aux.replace('_', '.')"
      ],
      "metadata": {
        "id": "nIs9cO0eiKrf"
      },
      "execution_count": null,
      "outputs": []
    },
    {
      "cell_type": "markdown",
      "source": [
        "# Perguntas iniciais"
      ],
      "metadata": {
        "id": "O-tG_3znfj3b"
      }
    },
    {
      "cell_type": "markdown",
      "source": [
        "- Quantas pessoas fizeram a prova?"
      ],
      "metadata": {
        "id": "lgeMwQL9fvLf"
      }
    },
    {
      "cell_type": "code",
      "source": [
        "cont_df = contLinhasDfFormatado(df)\n",
        "\n",
        "print(\"Total:\", cont_df)"
      ],
      "metadata": {
        "colab": {
          "base_uri": "https://localhost:8080/"
        },
        "id": "t4u1VKY2fyOm",
        "outputId": "747337bb-824c-4139-826f-3688bc6c2183"
      },
      "execution_count": null,
      "outputs": [
        {
          "output_type": "stream",
          "name": "stdout",
          "text": [
            "Total: 581.171\n"
          ]
        }
      ]
    },
    {
      "cell_type": "markdown",
      "source": [
        "É importante analisar primeiramente qual a quantidade de dados estamos para analisar"
      ],
      "metadata": {
        "id": "n5BmlnaDnw50"
      }
    },
    {
      "cell_type": "markdown",
      "source": [
        "- Quantas pessoas do sexo masculino (M) e feminino (F) fizeram a prova?"
      ],
      "metadata": {
        "id": "uR7xjgPCgBXH"
      }
    },
    {
      "cell_type": "code",
      "source": [
        "df_m = df[df['SEXO'] == \"M\"]\n",
        "df_f = df[df['SEXO'] == \"F\"]\n",
        "\n",
        "print(\"M:\", contLinhasDfFormatado(df_m))\n",
        "print(\"F:\", contLinhasDfFormatado(df_f))\n"
      ],
      "metadata": {
        "colab": {
          "base_uri": "https://localhost:8080/"
        },
        "id": "UfIAfjAEgLnX",
        "outputId": "9175b75f-b29a-460d-d1de-134eb5676bf0"
      },
      "execution_count": null,
      "outputs": [
        {
          "output_type": "stream",
          "name": "stdout",
          "text": [
            "M: 241.201\n",
            "F: 339.970\n"
          ]
        }
      ]
    },
    {
      "cell_type": "markdown",
      "source": [
        "Verifico se há uma grande diferença ou não entre o sexo dos participantes."
      ],
      "metadata": {
        "id": "uDMD8L2RoAGK"
      }
    },
    {
      "cell_type": "markdown",
      "source": [
        "- Qual a porcentagem de homens e mulheres que fizeram a prova?"
      ],
      "metadata": {
        "id": "qYPFCm1xnX_s"
      }
    },
    {
      "cell_type": "code",
      "source": [
        "porcentagem_m = (len(df_m)/len(df))*100\n",
        "porcentagem_f = (len(df_f)/len(df))*100\n",
        "\n",
        "print(\"Porcentagem de homens:\", f'{porcentagem_m:.1f}%')\n",
        "print(\"Porcentagem de mulheres:\", f'{porcentagem_f:.1f}%')"
      ],
      "metadata": {
        "colab": {
          "base_uri": "https://localhost:8080/"
        },
        "id": "1uKXxeuInbwo",
        "outputId": "f50ea9f5-ae22-4f88-c012-55944ac11a78"
      },
      "execution_count": null,
      "outputs": [
        {
          "output_type": "stream",
          "name": "stdout",
          "text": [
            "Porcentagem de homens: 41.5%\n",
            "Porcentagem de mulheres: 58.5%\n"
          ]
        }
      ]
    },
    {
      "cell_type": "markdown",
      "source": [
        "Percebo que não, mas acho interessante ressaltar essa diferença pendendo para o lado das mulheres."
      ],
      "metadata": {
        "id": "GlcCnNKaoIxy"
      }
    },
    {
      "cell_type": "markdown",
      "source": [
        "- Qual a idade da pessoa mais velha e mais nova que fizeram a prova?"
      ],
      "metadata": {
        "id": "Ho6jykS8kRvH"
      }
    },
    {
      "cell_type": "code",
      "source": [
        "maior_idade = df['IDADE'].max()\n",
        "menor_idade = df['IDADE'].min()\n",
        "\n",
        "print(\"Mais velha:\", maior_idade, \"anos\")\n",
        "print(\"Mais nova:\", menor_idade, \"anos\")"
      ],
      "metadata": {
        "colab": {
          "base_uri": "https://localhost:8080/"
        },
        "id": "YLcIBKIPkjC8",
        "outputId": "bf42b797-fc4a-4f8e-b31d-a225f96692e5"
      },
      "execution_count": null,
      "outputs": [
        {
          "output_type": "stream",
          "name": "stdout",
          "text": [
            "Mais velha: 91 anos\n",
            "Mais nova: 12 anos\n"
          ]
        }
      ]
    },
    {
      "cell_type": "markdown",
      "source": [
        "Tento analisar então um pouco da idade dos participantes, notando um \"range\" enorme do mais velho para o mais novo."
      ],
      "metadata": {
        "id": "Vkyq_kbWoWKb"
      }
    },
    {
      "cell_type": "markdown",
      "source": [
        "- Quantos menores de 18 anos fizeram a prova?"
      ],
      "metadata": {
        "id": "aL3LVZ8slTWM"
      }
    },
    {
      "cell_type": "code",
      "source": [
        "df_menores_idade = df[df['IDADE'] < 18]\n",
        "\n",
        "print(\"Menores de idade:\", contLinhasDfFormatado(df_menores_idade))"
      ],
      "metadata": {
        "colab": {
          "base_uri": "https://localhost:8080/"
        },
        "id": "Za9kFN_alYwZ",
        "outputId": "e99e94de-eb58-4598-c6e5-d12c64e6fe59"
      },
      "execution_count": null,
      "outputs": [
        {
          "output_type": "stream",
          "name": "stdout",
          "text": [
            "Menores de idade: 247.613\n"
          ]
        }
      ]
    },
    {
      "cell_type": "markdown",
      "source": [
        "Ressaltando ainda mais com a quantidade de participantes menores de 18 anos."
      ],
      "metadata": {
        "id": "thASYGgoogTG"
      }
    },
    {
      "cell_type": "markdown",
      "source": [
        "- Qual a porcentagem de menores de idade que fizeram a prova?"
      ],
      "metadata": {
        "id": "SPQw5jGZl9Mv"
      }
    },
    {
      "cell_type": "code",
      "source": [
        "porcentagem_menor_idade = (len(df_menores_idade)/len(df))*100\n",
        "\n",
        "print(\"Porcentagem de menores de idade:\", f'{porcentagem_menor_idade:.1f}%')"
      ],
      "metadata": {
        "colab": {
          "base_uri": "https://localhost:8080/"
        },
        "id": "C0IxpRMWmBfp",
        "outputId": "73203bb8-293e-487c-fa85-975b491d1af2"
      },
      "execution_count": null,
      "outputs": [
        {
          "output_type": "stream",
          "name": "stdout",
          "text": [
            "Porcentagem de menores de idade: 42.6%\n"
          ]
        }
      ]
    },
    {
      "cell_type": "markdown",
      "source": [
        "E agora com a porcentagem acima."
      ],
      "metadata": {
        "id": "LqZt72PBoopq"
      }
    },
    {
      "cell_type": "markdown",
      "source": [
        "# Visualização dos dados"
      ],
      "metadata": {
        "id": "vb7gMZ9AsDsf"
      }
    },
    {
      "cell_type": "markdown",
      "source": [
        "- Visualização dos dados já apresentados com a disparidade de menores de idade realizando o ENEM através de histograma usando o método **sturges** para determinar o número de intervalos."
      ],
      "metadata": {
        "id": "wlf84BZ7u6FP"
      }
    },
    {
      "cell_type": "code",
      "source": [
        "bins = np.histogram_bin_edges(df.IDADE, bins='sturges')\n",
        "bins\n",
        "\n",
        "df[\"IDADE\"].hist(bins=bins)\n",
        "plt.title('Distribuição de IDADE dos participantes do ENEM')\n",
        "plt.show()   "
      ],
      "metadata": {
        "colab": {
          "base_uri": "https://localhost:8080/",
          "height": 284
        },
        "id": "skcBcxBcsNOW",
        "outputId": "04334cf8-10ee-4694-ab67-21d10ee26933"
      },
      "execution_count": null,
      "outputs": [
        {
          "output_type": "display_data",
          "data": {
            "text/plain": [
              "<Figure size 432x288 with 1 Axes>"
            ],
            "image/png": "[encoded data removed]"
          },
          "metadata": {
            "needs_background": "light"
          }
        }
      ]
    },
    {
      "cell_type": "markdown",
      "source": [
        "- Visualização dos dados já apresentados com o percentual de homens e mulheres que realizaram o ENEM através do **seaborn**."
      ],
      "metadata": {
        "id": "OvOK6yyDwbfi"
      }
    },
    {
      "cell_type": "code",
      "source": [
        "sns.histplot(data=df, x=\"SEXO\", hue=\"SEXO\", stat=\"percent\").set(title='Pecentual de homens e mulheres no ENEM')"
      ],
      "metadata": {
        "colab": {
          "base_uri": "https://localhost:8080/",
          "height": 318
        },
        "id": "w1fV2sD0vC9m",
        "outputId": "f8f5425c-01ca-4fcd-b539-ebb1db399103"
      },
      "execution_count": null,
      "outputs": [
        {
          "output_type": "execute_result",
          "data": {
            "text/plain": [
              "[Text(0.5, 1.0, 'Pecentual de homens e mulheres no ENEM')]"
            ]
          },
          "metadata": {},
          "execution_count": 110
        },
        {
          "output_type": "display_data",
          "data": {
            "text/plain": [
              "<Figure size 432x288 with 1 Axes>"
            ],
            "image/png": "[encoded data removed]"
          },
          "metadata": {
            "needs_background": "light"
          }
        }
      ]
    }
  ]
}