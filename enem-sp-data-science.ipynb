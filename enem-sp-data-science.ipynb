{
  "nbformat": 4,
  "nbformat_minor": 0,
  "metadata": {
    "colab": {
      "provenance": [],
      "collapsed_sections": []
    },
    "kernelspec": {
      "name": "python3",
      "display_name": "Python 3"
    },
    "language_info": {
      "name": "python"
    }
  },
  "cells": [
    {
      "cell_type": "markdown",
      "source": [
        "# Cabeçalho\n",
        "\n",
        "**Universidade Positivo**\n",
        "\n",
        "**Nome:**  Vinícius Kruchelski Gugelmin\n",
        "\n",
        "**Turma:** Osório - Noite - 4ª feira"
      ],
      "metadata": {
        "id": "r8dy3TvWc-Ye"
      }
    },
    {
      "cell_type": "markdown",
      "source": [
        "# Configuração de ambiente\n",
        "\n",
        "Importação das bibliotecas:\n",
        "\n",
        "- Numpy: para computação numérica\n",
        "- Pandas: para manipulação de dados através do alias \"pd\"\n",
        "- Google Colab: para manipulação de arquivos no Google Drive\n",
        "- Matplotlib: para criação de gráficos e visualizações de dados\n",
        "- Seaborn: para visualização de dados\n",
        "- Warnings: para poder alterar a visualização de warnings do sistema\n",
        "\n",
        "E execução do comando \"%matplotlib inline\" para que os gráficos sejam exibidos no notebook logo abaixo da célula de código que os gerou."
      ],
      "metadata": {
        "id": "4fcQjomOdbxX"
      }
    },
    {
      "cell_type": "code",
      "execution_count": 2,
      "metadata": {
        "id": "LvnoMqLhY7B3"
      },
      "outputs": [],
      "source": [
        "import numpy as np\n",
        "import pandas as pd\n",
        "from google.colab import drive\n",
        "from matplotlib import pyplot as plt\n",
        "import seaborn as sns\n",
        "import warnings\n",
        "\n",
        "warnings.filterwarnings(\"ignore\", category=FutureWarning)\n",
        "\n",
        "sns.set()\n",
        "\n",
        "%matplotlib inline"
      ]
    },
    {
      "cell_type": "markdown",
      "source": [
        "Carregamento do Drive para que o notebook possa acessar os arquivos do Google Drive e com o parâmetro \"force_remount=True\" para que o Drive seja montado a cada execução do notebook."
      ],
      "metadata": {
        "id": "GXsifK8eeJqO"
      }
    },
    {
      "cell_type": "code",
      "source": [
        "drive.mount('/content/drive', force_remount=True)"
      ],
      "metadata": {
        "colab": {
          "base_uri": "https://localhost:8080/"
        },
        "id": "_29OcIjUZ55X",
        "outputId": "82842517-d0f7-43c0-dc4e-ec5cc45d69e9"
      },
      "execution_count": 3,
      "outputs": [
        {
          "output_type": "stream",
          "name": "stdout",
          "text": [
            "Mounted at /content/drive\n"
          ]
        }
      ]
    },
    {
      "cell_type": "markdown",
      "source": [
        "# Leitura e visualização do dataset\n",
        "\n",
        "Leitura do dataset através da função \"read_csv\" do Pandas e armazenamento do resultado na variável \"df\".\n",
        "\n",
        "Uso do parâmetro \"sep\" para informar qual o separador de colunas do arquivo e do parâmetro \"encoding\" para informar qual o tipo de codificação do arquivo."
      ],
      "metadata": {
        "id": "V2zLZfgaeOrv"
      }
    },
    {
      "cell_type": "code",
      "source": [
        "df = pd.read_csv('/content/drive/MyDrive/UP/Ciência de Dados/Notebooks/data/microdados_enem_2019_sp.csv',\n",
        "                      sep=',', encoding='utf-8')"
      ],
      "metadata": {
        "id": "RXenssYmZ8TD"
      },
      "execution_count": 4,
      "outputs": []
    },
    {
      "cell_type": "markdown",
      "source": [
        "Exibição das 5 primeiras linhas do DataFrame através da função \"head\" do Pandas para verificar se o arquivo foi carregado corretamente e ter uma ideia do que ele contém."
      ],
      "metadata": {
        "id": "NbToW6KKedDx"
      }
    },
    {
      "cell_type": "code",
      "source": [
        "df.head()"
      ],
      "metadata": {
        "colab": {
          "base_uri": "https://localhost:8080/",
          "height": 300
        },
        "id": "G581kIPUZ9Mr",
        "outputId": "00d8b084-1e8c-4d3f-d4c5-a03be8fb8740"
      },
      "execution_count": 5,
      "outputs": [
        {
          "output_type": "execute_result",
          "data": {
            "text/plain": [
              "  INSCRICAO   MUNICIPIO_RESIDENCIA  IDADE SEXO ESTADO_CIVIL COR_RACA  \\\n",
              "0  1,90E+11           Santa Isabel     22    M  solteiro(a)    parda   \n",
              "1  1,90E+11              São Paulo     17    F  solteiro(a)    parda   \n",
              "2  1,90E+11  São Bernardo do Campo     19    M  solteiro(a)    parda   \n",
              "3  1,90E+11             Embu-Guaçu     17    F  solteiro(a)    parda   \n",
              "4  1,90E+11              Guarulhos     23    F  solteiro(a)   branca   \n",
              "\n",
              "   NACIONALIDADE     CONCLUSAO         ESCOLA TREINEIRO  ...  NOTA_MT  \\\n",
              "0  brasileiro(a)   ja_concluiu  nao_declarado       nao  ...    600.2   \n",
              "1  brasileiro(a)  conclui_2019        privada       nao  ...    731.8   \n",
              "2  brasileiro(a)  conclui_2019        publica       nao  ...    393.2   \n",
              "3  brasileiro(a)  conclui_2019        publica       nao  ...    419.2   \n",
              "4  brasileiro(a)   ja_concluiu  nao_declarado       nao  ...    796.1   \n",
              "\n",
              "     LINGUA STATUS_REDACAO NOTA_COMP1 NOTA_COMP2  NOTA_COMP3  NOTA_COMP4  \\\n",
              "0    ingles  sem_problemas      160.0      200.0       180.0       200.0   \n",
              "1    ingles  sem_problemas      160.0      120.0       200.0       200.0   \n",
              "2  espanhol  sem_problemas       80.0      160.0       120.0       100.0   \n",
              "3    ingles  sem_problemas      120.0      120.0       120.0       120.0   \n",
              "4    ingles  sem_problemas      160.0      200.0       180.0       180.0   \n",
              "\n",
              "   NOTA_COMP5  NOTA_REDACAO Q025  \n",
              "0       200.0         940.0    B  \n",
              "1       200.0         880.0    A  \n",
              "2       100.0         560.0    B  \n",
              "3        80.0         560.0    B  \n",
              "4       160.0         880.0    B  \n",
              "\n",
              "[5 rows x 28 columns]"
            ],
            "text/html": [
              "\n",
              "  <div id=\"df-c24a4a7b-1ebc-4a49-b3a8-8f1297d35070\">\n",
              "    <div class=\"colab-df-container\">\n",
              "      <div>\n",
              "<style scoped>\n",
              "    .dataframe tbody tr th:only-of-type {\n",
              "        vertical-align: middle;\n",
              "    }\n",
              "\n",
              "    .dataframe tbody tr th {\n",
              "        vertical-align: top;\n",
              "    }\n",
              "\n",
              "    .dataframe thead th {\n",
              "        text-align: right;\n",
              "    }\n",
              "</style>\n",
              "<table border=\"1\" class=\"dataframe\">\n",
              "  <thead>\n",
              "    <tr style=\"text-align: right;\">\n",
              "      <th></th>\n",
              "      <th>INSCRICAO</th>\n",
              "      <th>MUNICIPIO_RESIDENCIA</th>\n",
              "      <th>IDADE</th>\n",
              "      <th>SEXO</th>\n",
              "      <th>ESTADO_CIVIL</th>\n",
              "      <th>COR_RACA</th>\n",
              "      <th>NACIONALIDADE</th>\n",
              "      <th>CONCLUSAO</th>\n",
              "      <th>ESCOLA</th>\n",
              "      <th>TREINEIRO</th>\n",
              "      <th>...</th>\n",
              "      <th>NOTA_MT</th>\n",
              "      <th>LINGUA</th>\n",
              "      <th>STATUS_REDACAO</th>\n",
              "      <th>NOTA_COMP1</th>\n",
              "      <th>NOTA_COMP2</th>\n",
              "      <th>NOTA_COMP3</th>\n",
              "      <th>NOTA_COMP4</th>\n",
              "      <th>NOTA_COMP5</th>\n",
              "      <th>NOTA_REDACAO</th>\n",
              "      <th>Q025</th>\n",
              "    </tr>\n",
              "  </thead>\n",
              "  <tbody>\n",
              "    <tr>\n",
              "      <th>0</th>\n",
              "      <td>1,90E+11</td>\n",
              "      <td>Santa Isabel</td>\n",
              "      <td>22</td>\n",
              "      <td>M</td>\n",
              "      <td>solteiro(a)</td>\n",
              "      <td>parda</td>\n",
              "      <td>brasileiro(a)</td>\n",
              "      <td>ja_concluiu</td>\n",
              "      <td>nao_declarado</td>\n",
              "      <td>nao</td>\n",
              "      <td>...</td>\n",
              "      <td>600.2</td>\n",
              "      <td>ingles</td>\n",
              "      <td>sem_problemas</td>\n",
              "      <td>160.0</td>\n",
              "      <td>200.0</td>\n",
              "      <td>180.0</td>\n",
              "      <td>200.0</td>\n",
              "      <td>200.0</td>\n",
              "      <td>940.0</td>\n",
              "      <td>B</td>\n",
              "    </tr>\n",
              "    <tr>\n",
              "      <th>1</th>\n",
              "      <td>1,90E+11</td>\n",
              "      <td>São Paulo</td>\n",
              "      <td>17</td>\n",
              "      <td>F</td>\n",
              "      <td>solteiro(a)</td>\n",
              "      <td>parda</td>\n",
              "      <td>brasileiro(a)</td>\n",
              "      <td>conclui_2019</td>\n",
              "      <td>privada</td>\n",
              "      <td>nao</td>\n",
              "      <td>...</td>\n",
              "      <td>731.8</td>\n",
              "      <td>ingles</td>\n",
              "      <td>sem_problemas</td>\n",
              "      <td>160.0</td>\n",
              "      <td>120.0</td>\n",
              "      <td>200.0</td>\n",
              "      <td>200.0</td>\n",
              "      <td>200.0</td>\n",
              "      <td>880.0</td>\n",
              "      <td>A</td>\n",
              "    </tr>\n",
              "    <tr>\n",
              "      <th>2</th>\n",
              "      <td>1,90E+11</td>\n",
              "      <td>São Bernardo do Campo</td>\n",
              "      <td>19</td>\n",
              "      <td>M</td>\n",
              "      <td>solteiro(a)</td>\n",
              "      <td>parda</td>\n",
              "      <td>brasileiro(a)</td>\n",
              "      <td>conclui_2019</td>\n",
              "      <td>publica</td>\n",
              "      <td>nao</td>\n",
              "      <td>...</td>\n",
              "      <td>393.2</td>\n",
              "      <td>espanhol</td>\n",
              "      <td>sem_problemas</td>\n",
              "      <td>80.0</td>\n",
              "      <td>160.0</td>\n",
              "      <td>120.0</td>\n",
              "      <td>100.0</td>\n",
              "      <td>100.0</td>\n",
              "      <td>560.0</td>\n",
              "      <td>B</td>\n",
              "    </tr>\n",
              "    <tr>\n",
              "      <th>3</th>\n",
              "      <td>1,90E+11</td>\n",
              "      <td>Embu-Guaçu</td>\n",
              "      <td>17</td>\n",
              "      <td>F</td>\n",
              "      <td>solteiro(a)</td>\n",
              "      <td>parda</td>\n",
              "      <td>brasileiro(a)</td>\n",
              "      <td>conclui_2019</td>\n",
              "      <td>publica</td>\n",
              "      <td>nao</td>\n",
              "      <td>...</td>\n",
              "      <td>419.2</td>\n",
              "      <td>ingles</td>\n",
              "      <td>sem_problemas</td>\n",
              "      <td>120.0</td>\n",
              "      <td>120.0</td>\n",
              "      <td>120.0</td>\n",
              "      <td>120.0</td>\n",
              "      <td>80.0</td>\n",
              "      <td>560.0</td>\n",
              "      <td>B</td>\n",
              "    </tr>\n",
              "    <tr>\n",
              "      <th>4</th>\n",
              "      <td>1,90E+11</td>\n",
              "      <td>Guarulhos</td>\n",
              "      <td>23</td>\n",
              "      <td>F</td>\n",
              "      <td>solteiro(a)</td>\n",
              "      <td>branca</td>\n",
              "      <td>brasileiro(a)</td>\n",
              "      <td>ja_concluiu</td>\n",
              "      <td>nao_declarado</td>\n",
              "      <td>nao</td>\n",
              "      <td>...</td>\n",
              "      <td>796.1</td>\n",
              "      <td>ingles</td>\n",
              "      <td>sem_problemas</td>\n",
              "      <td>160.0</td>\n",
              "      <td>200.0</td>\n",
              "      <td>180.0</td>\n",
              "      <td>180.0</td>\n",
              "      <td>160.0</td>\n",
              "      <td>880.0</td>\n",
              "      <td>B</td>\n",
              "    </tr>\n",
              "  </tbody>\n",
              "</table>\n",
              "<p>5 rows × 28 columns</p>\n",
              "</div>\n",
              "      <button class=\"colab-df-convert\" onclick=\"convertToInteractive('df-c24a4a7b-1ebc-4a49-b3a8-8f1297d35070')\"\n",
              "              title=\"Convert this dataframe to an interactive table.\"\n",
              "              style=\"display:none;\">\n",
              "        \n",
              "  <svg xmlns=\"http://www.w3.org/2000/svg\" height=\"24px\"viewBox=\"0 0 24 24\"\n",
              "       width=\"24px\">\n",
              "    <path d=\"M0 0h24v24H0V0z\" fill=\"none\"/>\n",
              "    <path d=\"M18.56 5.44l.94 2.06.94-2.06 2.06-.94-2.06-.94-.94-2.06-.94 2.06-2.06.94zm-11 1L8.5 8.5l.94-2.06 2.06-.94-2.06-.94L8.5 2.5l-.94 2.06-2.06.94zm10 10l.94 2.06.94-2.06 2.06-.94-2.06-.94-.94-2.06-.94 2.06-2.06.94z\"/><path d=\"M17.41 7.96l-1.37-1.37c-.4-.4-.92-.59-1.43-.59-.52 0-1.04.2-1.43.59L10.3 9.45l-7.72 7.72c-.78.78-.78 2.05 0 2.83L4 21.41c.39.39.9.59 1.41.59.51 0 1.02-.2 1.41-.59l7.78-7.78 2.81-2.81c.8-.78.8-2.07 0-2.86zM5.41 20L4 18.59l7.72-7.72 1.47 1.35L5.41 20z\"/>\n",
              "  </svg>\n",
              "      </button>\n",
              "      \n",
              "  <style>\n",
              "    .colab-df-container {\n",
              "      display:flex;\n",
              "      flex-wrap:wrap;\n",
              "      gap: 12px;\n",
              "    }\n",
              "\n",
              "    .colab-df-convert {\n",
              "      background-color: #E8F0FE;\n",
              "      border: none;\n",
              "      border-radius: 50%;\n",
              "      cursor: pointer;\n",
              "      display: none;\n",
              "      fill: #1967D2;\n",
              "      height: 32px;\n",
              "      padding: 0 0 0 0;\n",
              "      width: 32px;\n",
              "    }\n",
              "\n",
              "    .colab-df-convert:hover {\n",
              "      background-color: #E2EBFA;\n",
              "      box-shadow: 0px 1px 2px rgba(60, 64, 67, 0.3), 0px 1px 3px 1px rgba(60, 64, 67, 0.15);\n",
              "      fill: #174EA6;\n",
              "    }\n",
              "\n",
              "    [theme=dark] .colab-df-convert {\n",
              "      background-color: #3B4455;\n",
              "      fill: #D2E3FC;\n",
              "    }\n",
              "\n",
              "    [theme=dark] .colab-df-convert:hover {\n",
              "      background-color: #434B5C;\n",
              "      box-shadow: 0px 1px 3px 1px rgba(0, 0, 0, 0.15);\n",
              "      filter: drop-shadow(0px 1px 2px rgba(0, 0, 0, 0.3));\n",
              "      fill: #FFFFFF;\n",
              "    }\n",
              "  </style>\n",
              "\n",
              "      <script>\n",
              "        const buttonEl =\n",
              "          document.querySelector('#df-c24a4a7b-1ebc-4a49-b3a8-8f1297d35070 button.colab-df-convert');\n",
              "        buttonEl.style.display =\n",
              "          google.colab.kernel.accessAllowed ? 'block' : 'none';\n",
              "\n",
              "        async function convertToInteractive(key) {\n",
              "          const element = document.querySelector('#df-c24a4a7b-1ebc-4a49-b3a8-8f1297d35070');\n",
              "          const dataTable =\n",
              "            await google.colab.kernel.invokeFunction('convertToInteractive',\n",
              "                                                     [key], {});\n",
              "          if (!dataTable) return;\n",
              "\n",
              "          const docLinkHtml = 'Like what you see? Visit the ' +\n",
              "            '<a target=\"_blank\" href=https://colab.research.google.com/notebooks/data_table.ipynb>data table notebook</a>'\n",
              "            + ' to learn more about interactive tables.';\n",
              "          element.innerHTML = '';\n",
              "          dataTable['output_type'] = 'display_data';\n",
              "          await google.colab.output.renderOutput(dataTable, element);\n",
              "          const docLink = document.createElement('div');\n",
              "          docLink.innerHTML = docLinkHtml;\n",
              "          element.appendChild(docLink);\n",
              "        }\n",
              "      </script>\n",
              "    </div>\n",
              "  </div>\n",
              "  "
            ]
          },
          "metadata": {},
          "execution_count": 5
        }
      ]
    },
    {
      "cell_type": "markdown",
      "source": [
        "# Criação de funções utilitárias"
      ],
      "metadata": {
        "id": "f-pCasYoiD5k"
      }
    },
    {
      "cell_type": "code",
      "source": [
        "def contLinhasDfFormatado(_df):\n",
        "  aux = f'{len(_df):_.0f}'\n",
        "  aux = aux.replace('.', ',')\n",
        "  return aux.replace('_', '.')"
      ],
      "metadata": {
        "id": "nIs9cO0eiKrf"
      },
      "execution_count": 6,
      "outputs": []
    },
    {
      "cell_type": "markdown",
      "source": [
        "# Perguntas iniciais"
      ],
      "metadata": {
        "id": "O-tG_3znfj3b"
      }
    },
    {
      "cell_type": "markdown",
      "source": [
        "- Quantas pessoas fizeram a prova?"
      ],
      "metadata": {
        "id": "lgeMwQL9fvLf"
      }
    },
    {
      "cell_type": "code",
      "source": [
        "cont_df = contLinhasDfFormatado(df)\n",
        "\n",
        "print(\"Total:\", cont_df)"
      ],
      "metadata": {
        "colab": {
          "base_uri": "https://localhost:8080/"
        },
        "id": "t4u1VKY2fyOm",
        "outputId": "24decb13-dfac-479b-9ce8-0f85a5636d51"
      },
      "execution_count": 7,
      "outputs": [
        {
          "output_type": "stream",
          "name": "stdout",
          "text": [
            "Total: 581.171\n"
          ]
        }
      ]
    },
    {
      "cell_type": "markdown",
      "source": [
        "É importante analisar primeiramente qual a quantidade de dados estamos para analisar"
      ],
      "metadata": {
        "id": "n5BmlnaDnw50"
      }
    },
    {
      "cell_type": "markdown",
      "source": [
        "- Quantas pessoas do sexo masculino (M) e feminino (F) fizeram a prova?"
      ],
      "metadata": {
        "id": "uR7xjgPCgBXH"
      }
    },
    {
      "cell_type": "code",
      "source": [
        "df_m = df[df['SEXO'] == \"M\"]\n",
        "df_f = df[df['SEXO'] == \"F\"]\n",
        "\n",
        "print(\"M:\", contLinhasDfFormatado(df_m))\n",
        "print(\"F:\", contLinhasDfFormatado(df_f))\n"
      ],
      "metadata": {
        "colab": {
          "base_uri": "https://localhost:8080/"
        },
        "id": "UfIAfjAEgLnX",
        "outputId": "7e288258-b991-489f-ef64-282201c85fc7"
      },
      "execution_count": 8,
      "outputs": [
        {
          "output_type": "stream",
          "name": "stdout",
          "text": [
            "M: 241.201\n",
            "F: 339.970\n"
          ]
        }
      ]
    },
    {
      "cell_type": "markdown",
      "source": [
        "Verifico se há uma grande diferença ou não entre o sexo dos participantes."
      ],
      "metadata": {
        "id": "uDMD8L2RoAGK"
      }
    },
    {
      "cell_type": "markdown",
      "source": [
        "- Qual a porcentagem de homens e mulheres que fizeram a prova?"
      ],
      "metadata": {
        "id": "qYPFCm1xnX_s"
      }
    },
    {
      "cell_type": "code",
      "source": [
        "porcentagem_m = (len(df_m)/len(df))*100\n",
        "porcentagem_f = (len(df_f)/len(df))*100\n",
        "\n",
        "print(\"Porcentagem de homens:\", f'{porcentagem_m:.1f}%')\n",
        "print(\"Porcentagem de mulheres:\", f'{porcentagem_f:.1f}%')"
      ],
      "metadata": {
        "colab": {
          "base_uri": "https://localhost:8080/"
        },
        "id": "1uKXxeuInbwo",
        "outputId": "9f272d1d-28c4-4479-9243-65a83d5ef309"
      },
      "execution_count": 9,
      "outputs": [
        {
          "output_type": "stream",
          "name": "stdout",
          "text": [
            "Porcentagem de homens: 41.5%\n",
            "Porcentagem de mulheres: 58.5%\n"
          ]
        }
      ]
    },
    {
      "cell_type": "markdown",
      "source": [
        "Percebo que não, mas acho interessante ressaltar essa diferença pendendo para o lado das mulheres."
      ],
      "metadata": {
        "id": "GlcCnNKaoIxy"
      }
    },
    {
      "cell_type": "markdown",
      "source": [
        "- Qual a idade da pessoa mais velha e mais nova que fizeram a prova?"
      ],
      "metadata": {
        "id": "Ho6jykS8kRvH"
      }
    },
    {
      "cell_type": "code",
      "source": [
        "maior_idade = df['IDADE'].max()\n",
        "menor_idade = df['IDADE'].min()\n",
        "\n",
        "print(\"Mais velha:\", maior_idade, \"anos\")\n",
        "print(\"Mais nova:\", menor_idade, \"anos\")"
      ],
      "metadata": {
        "colab": {
          "base_uri": "https://localhost:8080/"
        },
        "id": "YLcIBKIPkjC8",
        "outputId": "fd32b219-79f2-441c-8583-25ad894cbbf8"
      },
      "execution_count": 10,
      "outputs": [
        {
          "output_type": "stream",
          "name": "stdout",
          "text": [
            "Mais velha: 91 anos\n",
            "Mais nova: 12 anos\n"
          ]
        }
      ]
    },
    {
      "cell_type": "markdown",
      "source": [
        "Tentamos analisar então um pouco da idade dos participantes, notando uma variação enorme do mais velho para o mais novo."
      ],
      "metadata": {
        "id": "Vkyq_kbWoWKb"
      }
    },
    {
      "cell_type": "markdown",
      "source": [
        "- Quantos menores de 18 anos fizeram a prova?"
      ],
      "metadata": {
        "id": "aL3LVZ8slTWM"
      }
    },
    {
      "cell_type": "code",
      "source": [
        "df_menores_idade = df[df['IDADE'] < 18]\n",
        "\n",
        "print(\"Menores de idade:\", contLinhasDfFormatado(df_menores_idade))"
      ],
      "metadata": {
        "colab": {
          "base_uri": "https://localhost:8080/"
        },
        "id": "Za9kFN_alYwZ",
        "outputId": "ad76edbe-8b12-45cc-dbea-f1ba08cccda4"
      },
      "execution_count": 11,
      "outputs": [
        {
          "output_type": "stream",
          "name": "stdout",
          "text": [
            "Menores de idade: 247.613\n"
          ]
        }
      ]
    },
    {
      "cell_type": "markdown",
      "source": [
        "Ressaltando ainda mais com a quantidade de participantes menores de 18 anos."
      ],
      "metadata": {
        "id": "thASYGgoogTG"
      }
    },
    {
      "cell_type": "markdown",
      "source": [
        "- Qual a porcentagem de menores de idade que fizeram a prova?"
      ],
      "metadata": {
        "id": "SPQw5jGZl9Mv"
      }
    },
    {
      "cell_type": "code",
      "source": [
        "porcentagem_menor_idade = (len(df_menores_idade)/len(df))*100\n",
        "\n",
        "print(\"Porcentagem de menores de idade:\", f'{porcentagem_menor_idade:.1f}%')"
      ],
      "metadata": {
        "colab": {
          "base_uri": "https://localhost:8080/"
        },
        "id": "C0IxpRMWmBfp",
        "outputId": "15493960-e89a-45fe-df25-3ef29e432731"
      },
      "execution_count": 12,
      "outputs": [
        {
          "output_type": "stream",
          "name": "stdout",
          "text": [
            "Porcentagem de menores de idade: 42.6%\n"
          ]
        }
      ]
    },
    {
      "cell_type": "markdown",
      "source": [
        "E agora com a porcentagem acima."
      ],
      "metadata": {
        "id": "LqZt72PBoopq"
      }
    },
    {
      "cell_type": "markdown",
      "source": [
        "# Visualização dos dados"
      ],
      "metadata": {
        "id": "vb7gMZ9AsDsf"
      }
    },
    {
      "cell_type": "markdown",
      "source": [
        "- Visualização dos dados já apresentados com a disparidade de menores de idade realizando o ENEM através de histograma usando o método **sturges** para determinar o número de intervalos."
      ],
      "metadata": {
        "id": "wlf84BZ7u6FP"
      }
    },
    {
      "cell_type": "code",
      "source": [
        "bins = np.histogram_bin_edges(df.IDADE, bins='sturges')\n",
        "bins\n",
        "\n",
        "df[\"IDADE\"].hist(bins=bins)\n",
        "plt.title('Distribuição de IDADE dos participantes do ENEM')\n",
        "plt.show()   "
      ],
      "metadata": {
        "colab": {
          "base_uri": "https://localhost:8080/",
          "height": 284
        },
        "id": "skcBcxBcsNOW",
        "outputId": "f9233e66-e603-45f1-9206-8118517d96e2"
      },
      "execution_count": 13,
      "outputs": [
        {
          "output_type": "display_data",
          "data": {
            "text/plain": [
              "<Figure size 432x288 with 1 Axes>"
            ],
            "image/png": "[encoded data removed]"
          },
          "metadata": {
            "needs_background": "light"
          }
        }
      ]
    },
    {
      "cell_type": "markdown",
      "source": [
        "- Visualização dos dados já apresentados com o percentual de homens e mulheres que realizaram o ENEM utilizando o método **histplot** do **seaborn**."
      ],
      "metadata": {
        "id": "OvOK6yyDwbfi"
      }
    },
    {
      "cell_type": "code",
      "source": [
        "sns.histplot(data=df, x=\"SEXO\", hue=\"SEXO\", stat=\"percent\", palette=\"bright\").set(title='Pecentual de homens e mulheres no ENEM')"
      ],
      "metadata": {
        "colab": {
          "base_uri": "https://localhost:8080/",
          "height": 318
        },
        "id": "w1fV2sD0vC9m",
        "outputId": "5bfb6566-1844-48d0-d72d-e9ff53d398d9"
      },
      "execution_count": 14,
      "outputs": [
        {
          "output_type": "execute_result",
          "data": {
            "text/plain": [
              "[Text(0.5, 1.0, 'Pecentual de homens e mulheres no ENEM')]"
            ]
          },
          "metadata": {},
          "execution_count": 14
        },
        {
          "output_type": "display_data",
          "data": {
            "text/plain": [
              "<Figure size 432x288 with 1 Axes>"
            ],
            "image/png": "[encoded data removed]"
          },
          "metadata": {
            "needs_background": "light"
          }
        }
      ]
    },
    {
      "cell_type": "markdown",
      "source": [
        "- Visualização dos dados de idade por sexo separados por colunas com a intenção de tentar identifcar algum grupo de idade em que o grupo masculino se sobressai."
      ],
      "metadata": {
        "id": "cQTNGGt_15LS"
      }
    },
    {
      "cell_type": "code",
      "source": [
        "sns.histplot(data=df, x=\"IDADE\", hue=\"SEXO\", multiple=\"dodge\", palette=\"bright\", bins=bins).set(title='Distribuição de idade por sexo de participantes do ENEM')"
      ],
      "metadata": {
        "colab": {
          "base_uri": "https://localhost:8080/",
          "height": 318
        },
        "id": "M5LMbFWQq2UD",
        "outputId": "22e7daf2-0a57-4076-f502-c8ed37da3b50"
      },
      "execution_count": 15,
      "outputs": [
        {
          "output_type": "execute_result",
          "data": {
            "text/plain": [
              "[Text(0.5, 1.0, 'Distribuição de idade por sexo de participantes do ENEM')]"
            ]
          },
          "metadata": {},
          "execution_count": 15
        },
        {
          "output_type": "display_data",
          "data": {
            "text/plain": [
              "<Figure size 432x288 with 1 Axes>"
            ],
            "image/png": "[encoded data removed]"
          },
          "metadata": {
            "needs_background": "light"
          }
        }
      ]
    },
    {
      "cell_type": "markdown",
      "source": [
        "Apesar da dificuldade de visualizar com exatidão, devido aos outliers, percebemos que o grupo feminino é predominante em quase todas as idades, senão todas."
      ],
      "metadata": {
        "id": "q5YNPMEt2OAN"
      }
    },
    {
      "cell_type": "markdown",
      "source": [
        "- Visualização de concentração de idade por sexo para tentar identificar onde começam os grupos relevantes a serem analisados, e onde se encontram os outliers."
      ],
      "metadata": {
        "id": "ZJwUXFTw2efU"
      }
    },
    {
      "cell_type": "code",
      "source": [
        "sns.boxplot(data=df, x=\"IDADE\", y=\"SEXO\", palette=\"bright\").set(title='Visualização de concentração de idade por sexo de participantes do ENEM')"
      ],
      "metadata": {
        "colab": {
          "base_uri": "https://localhost:8080/",
          "height": 318
        },
        "id": "WcRd49y3qX1a",
        "outputId": "c39e1af7-3838-420b-b826-730a7cc81994"
      },
      "execution_count": 16,
      "outputs": [
        {
          "output_type": "execute_result",
          "data": {
            "text/plain": [
              "[Text(0.5, 1.0, 'Visualização de concentração de idade por sexo de participantes do ENEM')]"
            ]
          },
          "metadata": {},
          "execution_count": 16
        },
        {
          "output_type": "display_data",
          "data": {
            "text/plain": [
              "<Figure size 432x288 with 1 Axes>"
            ],
            "image/png": "[encoded data removed]"
          },
          "metadata": {
            "needs_background": "light"
          }
        }
      ]
    },
    {
      "cell_type": "markdown",
      "source": [
        "Percebemos então que temos outliers por volta dos 80 e 90 anos, mas precisamos analisar com outros gráficos para ter certeza e tentar pegar apenas o grupo de maior concentração."
      ],
      "metadata": {
        "id": "OcWO7Trh2uDL"
      }
    },
    {
      "cell_type": "markdown",
      "source": [
        "- Visualização de concentração de idade por sexo abaixo dos 50 anos para tentar achar o grupo predominante."
      ],
      "metadata": {
        "id": "nOEszQod4oLj"
      }
    },
    {
      "cell_type": "code",
      "source": [
        "df_menor_cinquenta = df[df['IDADE'] < 50]\n",
        "sns.boxplot(data=df_menor_cinquenta, x=\"IDADE\", y=\"SEXO\", palette=\"bright\").set(title='Visualização de concentração de idade por sexo de participantes do ENEM com menos 50 anos')"
      ],
      "metadata": {
        "colab": {
          "base_uri": "https://localhost:8080/",
          "height": 318
        },
        "id": "fi_PR58Frbog",
        "outputId": "4bd7bee4-171a-4d63-ad3b-c3eff14b34e5"
      },
      "execution_count": 17,
      "outputs": [
        {
          "output_type": "execute_result",
          "data": {
            "text/plain": [
              "[Text(0.5, 1.0, 'Visualização de concentração de idade por sexo de participantes do ENEM com menos 50 anos')]"
            ]
          },
          "metadata": {},
          "execution_count": 17
        },
        {
          "output_type": "display_data",
          "data": {
            "text/plain": [
              "<Figure size 432x288 with 1 Axes>"
            ],
            "image/png": "[encoded data removed]"
          },
          "metadata": {
            "needs_background": "light"
          }
        }
      ]
    },
    {
      "cell_type": "markdown",
      "source": [
        "Diminuindo a variação de idade percemos que o grupo se encontra entre os menores de 24 anos e maiores de 13, sendo assim, vamos retira-los para ter essa certeza e conseguir formular outros gráficos."
      ],
      "metadata": {
        "id": "851u-Bdn5YD5"
      }
    },
    {
      "cell_type": "markdown",
      "source": [
        "- Visualização de concentração de idade por sexo abaixo de 24 anos e maior de 13 anos."
      ],
      "metadata": {
        "id": "bf0vX2MG5ley"
      }
    },
    {
      "cell_type": "code",
      "source": [
        "df_sem_outlier = df[df['IDADE'] < 24]\n",
        "df_sem_outlier = df_sem_outlier[df_sem_outlier['IDADE'] > 13]\n",
        "sns.boxplot(data=df_sem_outlier, x=\"IDADE\", y=\"SEXO\", palette=\"bright\").set(title='Visualização de concentração de idade por sexo de participantes do ENEM entre 14 - 23 anos')"
      ],
      "metadata": {
        "colab": {
          "base_uri": "https://localhost:8080/",
          "height": 318
        },
        "id": "BkBuBZEqrwoq",
        "outputId": "6b27d3ad-9938-425a-bed1-ebe9efa0fd54"
      },
      "execution_count": 18,
      "outputs": [
        {
          "output_type": "execute_result",
          "data": {
            "text/plain": [
              "[Text(0.5, 1.0, 'Visualização de concentração de idade por sexo de participantes do ENEM entre 14 - 23 anos')]"
            ]
          },
          "metadata": {},
          "execution_count": 18
        },
        {
          "output_type": "display_data",
          "data": {
            "text/plain": [
              "<Figure size 432x288 with 1 Axes>"
            ],
            "image/png": "[encoded data removed]"
          },
          "metadata": {
            "needs_background": "light"
          }
        }
      ]
    },
    {
      "cell_type": "markdown",
      "source": [
        "Apenas confirmando a hipótese apontada acima."
      ],
      "metadata": {
        "id": "mQGXL-M35vkK"
      }
    },
    {
      "cell_type": "markdown",
      "source": [
        "- Visualização de distribuição de idade por sexo da concentração dividida acima."
      ],
      "metadata": {
        "id": "rO4tsnhN6See"
      }
    },
    {
      "cell_type": "code",
      "source": [
        "sns.histplot(data=df_sem_outlier, x=\"IDADE\", hue=\"SEXO\", palette=\"bright\", bins=10).set(title='Distribuição de idade por sexo de participantes do ENEM entre 14 - 23 anos')"
      ],
      "metadata": {
        "colab": {
          "base_uri": "https://localhost:8080/",
          "height": 318
        },
        "id": "5lJtbFOgsqE-",
        "outputId": "d421b732-205a-4131-ab21-af737d85deca"
      },
      "execution_count": 19,
      "outputs": [
        {
          "output_type": "execute_result",
          "data": {
            "text/plain": [
              "[Text(0.5, 1.0, 'Distribuição de idade por sexo de participantes do ENEM entre 14 - 23 anos')]"
            ]
          },
          "metadata": {},
          "execution_count": 19
        },
        {
          "output_type": "display_data",
          "data": {
            "text/plain": [
              "<Figure size 432x288 with 1 Axes>"
            ],
            "image/png": "[encoded data removed]"
          },
          "metadata": {
            "needs_background": "light"
          }
        }
      ]
    },
    {
      "cell_type": "markdown",
      "source": [
        "Mesmo separando para visualizar a concentração de idade, continumaos com a afirmação de que o grupo feminino predomina em quase todas, senão todas as idades,"
      ],
      "metadata": {
        "id": "A7MALWQM7E2M"
      }
    },
    {
      "cell_type": "markdown",
      "source": [
        "- Visualização de distribuição de idade por sexo da concentração dividida acima com KDE para visualizar a curvatura."
      ],
      "metadata": {
        "id": "HgGfPrxL7Xnc"
      }
    },
    {
      "cell_type": "code",
      "source": [
        "sns.histplot(data=df_sem_outlier, x=\"IDADE\", kde=True, hue=\"SEXO\", palette=\"bright\", bins=10).set(title='Distribuição de idade por sexo de participantes do ENEM entre 14 - 23 anos com KDE')"
      ],
      "metadata": {
        "colab": {
          "base_uri": "https://localhost:8080/",
          "height": 318
        },
        "id": "DbUR7zZhtD9k",
        "outputId": "443a764e-bebc-4645-e2ec-4c570f99b374"
      },
      "execution_count": 20,
      "outputs": [
        {
          "output_type": "execute_result",
          "data": {
            "text/plain": [
              "[Text(0.5, 1.0, 'Distribuição de idade por sexo de participantes do ENEM entre 14 - 23 anos com KDE')]"
            ]
          },
          "metadata": {},
          "execution_count": 20
        },
        {
          "output_type": "display_data",
          "data": {
            "text/plain": [
              "<Figure size 432x288 with 1 Axes>"
            ],
            "image/png": "[encoded data removed]"
          },
          "metadata": {
            "needs_background": "light"
          }
        }
      ]
    },
    {
      "cell_type": "markdown",
      "source": [
        "# Seleção de dados"
      ],
      "metadata": {
        "id": "etO0wulduIAn"
      }
    },
    {
      "cell_type": "markdown",
      "source": [
        "- Nesta etapa vamos filtrar os dados por cor/raça para analisar esse lado do dataset, fazendo uma listagem ordenada da cor/raça que mais apareceu no ENEM para a que menos apareceu."
      ],
      "metadata": {
        "id": "Da8ZoCjc8hiA"
      }
    },
    {
      "cell_type": "code",
      "source": [
        "df_raca_grupo = df.groupby([\"COR_RACA\"]).size().reset_index(name=\"COUNT\").sort_values(by=\"COUNT\", ascending=False)\n",
        "df_raca_grupo"
      ],
      "metadata": {
        "colab": {
          "base_uri": "https://localhost:8080/",
          "height": 238
        },
        "id": "Mf9FAqwQuLKz",
        "outputId": "2b5eb33a-9ab9-4a52-cbc6-3bb5a32750b0"
      },
      "execution_count": 21,
      "outputs": [
        {
          "output_type": "execute_result",
          "data": {
            "text/plain": [
              "        COR_RACA   COUNT\n",
              "1         branca  336478\n",
              "4          parda  165280\n",
              "5          preta   54290\n",
              "0        amarela   14496\n",
              "3  nao_declarado    8541\n",
              "2       indigena    2086"
            ],
            "text/html": [
              "\n",
              "  <div id=\"df-7fb66df7-19fe-4d5e-ac3b-eb9beacf007c\">\n",
              "    <div class=\"colab-df-container\">\n",
              "      <div>\n",
              "<style scoped>\n",
              "    .dataframe tbody tr th:only-of-type {\n",
              "        vertical-align: middle;\n",
              "    }\n",
              "\n",
              "    .dataframe tbody tr th {\n",
              "        vertical-align: top;\n",
              "    }\n",
              "\n",
              "    .dataframe thead th {\n",
              "        text-align: right;\n",
              "    }\n",
              "</style>\n",
              "<table border=\"1\" class=\"dataframe\">\n",
              "  <thead>\n",
              "    <tr style=\"text-align: right;\">\n",
              "      <th></th>\n",
              "      <th>COR_RACA</th>\n",
              "      <th>COUNT</th>\n",
              "    </tr>\n",
              "  </thead>\n",
              "  <tbody>\n",
              "    <tr>\n",
              "      <th>1</th>\n",
              "      <td>branca</td>\n",
              "      <td>336478</td>\n",
              "    </tr>\n",
              "    <tr>\n",
              "      <th>4</th>\n",
              "      <td>parda</td>\n",
              "      <td>165280</td>\n",
              "    </tr>\n",
              "    <tr>\n",
              "      <th>5</th>\n",
              "      <td>preta</td>\n",
              "      <td>54290</td>\n",
              "    </tr>\n",
              "    <tr>\n",
              "      <th>0</th>\n",
              "      <td>amarela</td>\n",
              "      <td>14496</td>\n",
              "    </tr>\n",
              "    <tr>\n",
              "      <th>3</th>\n",
              "      <td>nao_declarado</td>\n",
              "      <td>8541</td>\n",
              "    </tr>\n",
              "    <tr>\n",
              "      <th>2</th>\n",
              "      <td>indigena</td>\n",
              "      <td>2086</td>\n",
              "    </tr>\n",
              "  </tbody>\n",
              "</table>\n",
              "</div>\n",
              "      <button class=\"colab-df-convert\" onclick=\"convertToInteractive('df-7fb66df7-19fe-4d5e-ac3b-eb9beacf007c')\"\n",
              "              title=\"Convert this dataframe to an interactive table.\"\n",
              "              style=\"display:none;\">\n",
              "        \n",
              "  <svg xmlns=\"http://www.w3.org/2000/svg\" height=\"24px\"viewBox=\"0 0 24 24\"\n",
              "       width=\"24px\">\n",
              "    <path d=\"M0 0h24v24H0V0z\" fill=\"none\"/>\n",
              "    <path d=\"M18.56 5.44l.94 2.06.94-2.06 2.06-.94-2.06-.94-.94-2.06-.94 2.06-2.06.94zm-11 1L8.5 8.5l.94-2.06 2.06-.94-2.06-.94L8.5 2.5l-.94 2.06-2.06.94zm10 10l.94 2.06.94-2.06 2.06-.94-2.06-.94-.94-2.06-.94 2.06-2.06.94z\"/><path d=\"M17.41 7.96l-1.37-1.37c-.4-.4-.92-.59-1.43-.59-.52 0-1.04.2-1.43.59L10.3 9.45l-7.72 7.72c-.78.78-.78 2.05 0 2.83L4 21.41c.39.39.9.59 1.41.59.51 0 1.02-.2 1.41-.59l7.78-7.78 2.81-2.81c.8-.78.8-2.07 0-2.86zM5.41 20L4 18.59l7.72-7.72 1.47 1.35L5.41 20z\"/>\n",
              "  </svg>\n",
              "      </button>\n",
              "      \n",
              "  <style>\n",
              "    .colab-df-container {\n",
              "      display:flex;\n",
              "      flex-wrap:wrap;\n",
              "      gap: 12px;\n",
              "    }\n",
              "\n",
              "    .colab-df-convert {\n",
              "      background-color: #E8F0FE;\n",
              "      border: none;\n",
              "      border-radius: 50%;\n",
              "      cursor: pointer;\n",
              "      display: none;\n",
              "      fill: #1967D2;\n",
              "      height: 32px;\n",
              "      padding: 0 0 0 0;\n",
              "      width: 32px;\n",
              "    }\n",
              "\n",
              "    .colab-df-convert:hover {\n",
              "      background-color: #E2EBFA;\n",
              "      box-shadow: 0px 1px 2px rgba(60, 64, 67, 0.3), 0px 1px 3px 1px rgba(60, 64, 67, 0.15);\n",
              "      fill: #174EA6;\n",
              "    }\n",
              "\n",
              "    [theme=dark] .colab-df-convert {\n",
              "      background-color: #3B4455;\n",
              "      fill: #D2E3FC;\n",
              "    }\n",
              "\n",
              "    [theme=dark] .colab-df-convert:hover {\n",
              "      background-color: #434B5C;\n",
              "      box-shadow: 0px 1px 3px 1px rgba(0, 0, 0, 0.15);\n",
              "      filter: drop-shadow(0px 1px 2px rgba(0, 0, 0, 0.3));\n",
              "      fill: #FFFFFF;\n",
              "    }\n",
              "  </style>\n",
              "\n",
              "      <script>\n",
              "        const buttonEl =\n",
              "          document.querySelector('#df-7fb66df7-19fe-4d5e-ac3b-eb9beacf007c button.colab-df-convert');\n",
              "        buttonEl.style.display =\n",
              "          google.colab.kernel.accessAllowed ? 'block' : 'none';\n",
              "\n",
              "        async function convertToInteractive(key) {\n",
              "          const element = document.querySelector('#df-7fb66df7-19fe-4d5e-ac3b-eb9beacf007c');\n",
              "          const dataTable =\n",
              "            await google.colab.kernel.invokeFunction('convertToInteractive',\n",
              "                                                     [key], {});\n",
              "          if (!dataTable) return;\n",
              "\n",
              "          const docLinkHtml = 'Like what you see? Visit the ' +\n",
              "            '<a target=\"_blank\" href=https://colab.research.google.com/notebooks/data_table.ipynb>data table notebook</a>'\n",
              "            + ' to learn more about interactive tables.';\n",
              "          element.innerHTML = '';\n",
              "          dataTable['output_type'] = 'display_data';\n",
              "          await google.colab.output.renderOutput(dataTable, element);\n",
              "          const docLink = document.createElement('div');\n",
              "          docLink.innerHTML = docLinkHtml;\n",
              "          element.appendChild(docLink);\n",
              "        }\n",
              "      </script>\n",
              "    </div>\n",
              "  </div>\n",
              "  "
            ]
          },
          "metadata": {},
          "execution_count": 21
        }
      ]
    },
    {
      "cell_type": "markdown",
      "source": [
        "Identificamos que pessoas da cor/raça branca são as que mais apareceram para o ENEM e indígenas as que menos apareceram. Também identificamos pessoa que escolheram a opção \"nao_declarado\" para cor/raça, isso será retirado em alguns momentos para analisar apenas opções relevantes para a analise escolhida."
      ],
      "metadata": {
        "id": "44vfL1LC81SA"
      }
    },
    {
      "cell_type": "markdown",
      "source": [
        "- Listagem de cor/raça com ordenação."
      ],
      "metadata": {
        "id": "t4OZ5kKT9L85"
      }
    },
    {
      "cell_type": "code",
      "source": [
        "lista_raca = list(df_raca_grupo[\"COR_RACA\"])\n",
        "lista_raca"
      ],
      "metadata": {
        "colab": {
          "base_uri": "https://localhost:8080/"
        },
        "id": "664RxtKyvpap",
        "outputId": "f51a7fba-b566-4679-e9d8-1f37fc966e14"
      },
      "execution_count": 22,
      "outputs": [
        {
          "output_type": "execute_result",
          "data": {
            "text/plain": [
              "['branca', 'parda', 'preta', 'amarela', 'nao_declarado', 'indigena']"
            ]
          },
          "metadata": {},
          "execution_count": 22
        }
      ]
    },
    {
      "cell_type": "markdown",
      "source": [
        "- Listagem das 3 cores/raças que mais apareceram no ENEM."
      ],
      "metadata": {
        "id": "R1XfLCzW9eMv"
      }
    },
    {
      "cell_type": "code",
      "source": [
        "lista_raca_maior = df_raca_grupo.sort_values(by=\"COUNT\", ascending=False)\n",
        "lista_raca_maior = list(lista_raca_maior.head(3)[\"COR_RACA\"])\n",
        "lista_raca_maior"
      ],
      "metadata": {
        "colab": {
          "base_uri": "https://localhost:8080/"
        },
        "id": "MoxaFa0Guv6O",
        "outputId": "0d768c34-f79a-4d8b-b9c5-80d28ca4cb2d"
      },
      "execution_count": 23,
      "outputs": [
        {
          "output_type": "execute_result",
          "data": {
            "text/plain": [
              "['branca', 'parda', 'preta']"
            ]
          },
          "metadata": {},
          "execution_count": 23
        }
      ]
    },
    {
      "cell_type": "markdown",
      "source": [
        "- Listagem das 3 cores/raças que menos apareceram no ENEM."
      ],
      "metadata": {
        "id": "YVwC8AUT_Rgc"
      }
    },
    {
      "cell_type": "code",
      "source": [
        "lista_raca_menor = df_raca_grupo.sort_values(by=\"COUNT\", ascending=True)\n",
        "lista_raca_menor = list(lista_raca_menor.head(3)[\"COR_RACA\"])\n",
        "lista_raca_menor"
      ],
      "metadata": {
        "colab": {
          "base_uri": "https://localhost:8080/"
        },
        "id": "IJ_UVpsPu9GC",
        "outputId": "b6cb5028-fc03-44a7-bb5d-7e6a87921bb6"
      },
      "execution_count": 24,
      "outputs": [
        {
          "output_type": "execute_result",
          "data": {
            "text/plain": [
              "['indigena', 'nao_declarado', 'amarela']"
            ]
          },
          "metadata": {},
          "execution_count": 24
        }
      ]
    },
    {
      "cell_type": "markdown",
      "source": [
        "- Criação de um dataframe ordenado pela lista criada da cor/raça que mais apareceu no ENEM para a que menos apareceu."
      ],
      "metadata": {
        "id": "W1q75zBc_Veq"
      }
    },
    {
      "cell_type": "code",
      "source": [
        "df_raca = df.set_index('COR_RACA')\n",
        "df_raca = df_raca.loc[lista_raca]\n",
        "df_raca"
      ],
      "metadata": {
        "colab": {
          "base_uri": "https://localhost:8080/",
          "height": 519
        },
        "id": "gGC6UNWTxcfe",
        "outputId": "6f56ef73-81b7-412a-964e-5bddc035e810"
      },
      "execution_count": 25,
      "outputs": [
        {
          "output_type": "execute_result",
          "data": {
            "text/plain": [
              "         INSCRICAO   MUNICIPIO_RESIDENCIA  IDADE SEXO ESTADO_CIVIL  \\\n",
              "COR_RACA                                                             \n",
              "branca    1,90E+11              Guarulhos     23    F  solteiro(a)   \n",
              "branca    1,90E+11  São José do Rio Preto     18    F  solteiro(a)   \n",
              "branca    1,90E+11              São Paulo     26    M  solteiro(a)   \n",
              "branca    1,90E+11               Campinas     17    F  solteiro(a)   \n",
              "branca    1,90E+11              São Paulo     18    F  solteiro(a)   \n",
              "...            ...                    ...    ...  ...          ...   \n",
              "indigena  1,90E+11           Praia Grande     18    M  solteiro(a)   \n",
              "indigena  1,90E+11        Itaquaquecetuba     17    F  solteiro(a)   \n",
              "indigena  1,90E+11              São Paulo     17    F  solteiro(a)   \n",
              "indigena  1,90E+11                Itupeva     19    M  solteiro(a)   \n",
              "indigena  1,90E+11  São José do Rio Preto     20    F  solteiro(a)   \n",
              "\n",
              "          NACIONALIDADE     CONCLUSAO         ESCOLA TREINEIRO  COD_ESCOLA  \\\n",
              "COR_RACA                                                                     \n",
              "branca    brasileiro(a)   ja_concluiu  nao_declarado       nao         NaN   \n",
              "branca    brasileiro(a)  conclui_2019        publica       nao  35028927.0   \n",
              "branca    brasileiro(a)   ja_concluiu  nao_declarado       nao         NaN   \n",
              "branca    brasileiro(a)   ja_concluiu  nao_declarado       nao         NaN   \n",
              "branca    brasileiro(a)  conclui_2019        privada       nao  35132287.0   \n",
              "...                 ...           ...            ...       ...         ...   \n",
              "indigena  brasileiro(a)  conclui_2019        publica       nao  35269335.0   \n",
              "indigena  brasileiro(a)  conclui_2019        publica       nao  35923936.0   \n",
              "indigena  brasileiro(a)  conclui_2019        publica       nao  35924647.0   \n",
              "indigena  brasileiro(a)   ja_concluiu  nao_declarado       nao         NaN   \n",
              "indigena  brasileiro(a)   ja_concluiu  nao_declarado       nao         NaN   \n",
              "\n",
              "          ... NOTA_MT    LINGUA STATUS_REDACAO NOTA_COMP1  NOTA_COMP2  \\\n",
              "COR_RACA  ...                                                           \n",
              "branca    ...   796.1    ingles  sem_problemas      160.0       200.0   \n",
              "branca    ...   612.8  espanhol  sem_problemas      120.0       160.0   \n",
              "branca    ...   681.2  espanhol  sem_problemas      180.0       200.0   \n",
              "branca    ...   496.5    ingles  sem_problemas      160.0       120.0   \n",
              "branca    ...    49.1    ingles  sem_problemas      160.0       140.0   \n",
              "...       ...     ...       ...            ...        ...         ...   \n",
              "indigena  ...   595.3    ingles  sem_problemas      120.0       120.0   \n",
              "indigena  ...   544.2    ingles  sem_problemas       80.0       120.0   \n",
              "indigena  ...   399.4  espanhol  sem_problemas      120.0       120.0   \n",
              "indigena  ...    54.7    ingles  sem_problemas      120.0       160.0   \n",
              "indigena  ...   446.6    ingles  sem_problemas      180.0       200.0   \n",
              "\n",
              "          NOTA_COMP3  NOTA_COMP4  NOTA_COMP5 NOTA_REDACAO Q025  \n",
              "COR_RACA                                                        \n",
              "branca         180.0       180.0       160.0        880.0    B  \n",
              "branca         120.0        80.0       100.0        580.0    A  \n",
              "branca         200.0       200.0       120.0        900.0    B  \n",
              "branca         140.0       140.0       120.0        680.0    B  \n",
              "branca         140.0       160.0       160.0        760.0    B  \n",
              "...              ...         ...         ...          ...  ...  \n",
              "indigena       100.0       100.0        80.0        520.0    B  \n",
              "indigena        80.0       100.0       100.0        480.0    B  \n",
              "indigena       120.0       160.0        40.0        560.0    B  \n",
              "indigena       120.0       120.0       160.0        680.0    B  \n",
              "indigena       180.0       200.0       200.0        960.0    B  \n",
              "\n",
              "[581171 rows x 27 columns]"
            ],
            "text/html": [
              "\n",
              "  <div id=\"df-a0fd9b64-7690-4318-8144-988c4bae660f\">\n",
              "    <div class=\"colab-df-container\">\n",
              "      <div>\n",
              "<style scoped>\n",
              "    .dataframe tbody tr th:only-of-type {\n",
              "        vertical-align: middle;\n",
              "    }\n",
              "\n",
              "    .dataframe tbody tr th {\n",
              "        vertical-align: top;\n",
              "    }\n",
              "\n",
              "    .dataframe thead th {\n",
              "        text-align: right;\n",
              "    }\n",
              "</style>\n",
              "<table border=\"1\" class=\"dataframe\">\n",
              "  <thead>\n",
              "    <tr style=\"text-align: right;\">\n",
              "      <th></th>\n",
              "      <th>INSCRICAO</th>\n",
              "      <th>MUNICIPIO_RESIDENCIA</th>\n",
              "      <th>IDADE</th>\n",
              "      <th>SEXO</th>\n",
              "      <th>ESTADO_CIVIL</th>\n",
              "      <th>NACIONALIDADE</th>\n",
              "      <th>CONCLUSAO</th>\n",
              "      <th>ESCOLA</th>\n",
              "      <th>TREINEIRO</th>\n",
              "      <th>COD_ESCOLA</th>\n",
              "      <th>...</th>\n",
              "      <th>NOTA_MT</th>\n",
              "      <th>LINGUA</th>\n",
              "      <th>STATUS_REDACAO</th>\n",
              "      <th>NOTA_COMP1</th>\n",
              "      <th>NOTA_COMP2</th>\n",
              "      <th>NOTA_COMP3</th>\n",
              "      <th>NOTA_COMP4</th>\n",
              "      <th>NOTA_COMP5</th>\n",
              "      <th>NOTA_REDACAO</th>\n",
              "      <th>Q025</th>\n",
              "    </tr>\n",
              "    <tr>\n",
              "      <th>COR_RACA</th>\n",
              "      <th></th>\n",
              "      <th></th>\n",
              "      <th></th>\n",
              "      <th></th>\n",
              "      <th></th>\n",
              "      <th></th>\n",
              "      <th></th>\n",
              "      <th></th>\n",
              "      <th></th>\n",
              "      <th></th>\n",
              "      <th></th>\n",
              "      <th></th>\n",
              "      <th></th>\n",
              "      <th></th>\n",
              "      <th></th>\n",
              "      <th></th>\n",
              "      <th></th>\n",
              "      <th></th>\n",
              "      <th></th>\n",
              "      <th></th>\n",
              "      <th></th>\n",
              "    </tr>\n",
              "  </thead>\n",
              "  <tbody>\n",
              "    <tr>\n",
              "      <th>branca</th>\n",
              "      <td>1,90E+11</td>\n",
              "      <td>Guarulhos</td>\n",
              "      <td>23</td>\n",
              "      <td>F</td>\n",
              "      <td>solteiro(a)</td>\n",
              "      <td>brasileiro(a)</td>\n",
              "      <td>ja_concluiu</td>\n",
              "      <td>nao_declarado</td>\n",
              "      <td>nao</td>\n",
              "      <td>NaN</td>\n",
              "      <td>...</td>\n",
              "      <td>796.1</td>\n",
              "      <td>ingles</td>\n",
              "      <td>sem_problemas</td>\n",
              "      <td>160.0</td>\n",
              "      <td>200.0</td>\n",
              "      <td>180.0</td>\n",
              "      <td>180.0</td>\n",
              "      <td>160.0</td>\n",
              "      <td>880.0</td>\n",
              "      <td>B</td>\n",
              "    </tr>\n",
              "    <tr>\n",
              "      <th>branca</th>\n",
              "      <td>1,90E+11</td>\n",
              "      <td>São José do Rio Preto</td>\n",
              "      <td>18</td>\n",
              "      <td>F</td>\n",
              "      <td>solteiro(a)</td>\n",
              "      <td>brasileiro(a)</td>\n",
              "      <td>conclui_2019</td>\n",
              "      <td>publica</td>\n",
              "      <td>nao</td>\n",
              "      <td>35028927.0</td>\n",
              "      <td>...</td>\n",
              "      <td>612.8</td>\n",
              "      <td>espanhol</td>\n",
              "      <td>sem_problemas</td>\n",
              "      <td>120.0</td>\n",
              "      <td>160.0</td>\n",
              "      <td>120.0</td>\n",
              "      <td>80.0</td>\n",
              "      <td>100.0</td>\n",
              "      <td>580.0</td>\n",
              "      <td>A</td>\n",
              "    </tr>\n",
              "    <tr>\n",
              "      <th>branca</th>\n",
              "      <td>1,90E+11</td>\n",
              "      <td>São Paulo</td>\n",
              "      <td>26</td>\n",
              "      <td>M</td>\n",
              "      <td>solteiro(a)</td>\n",
              "      <td>brasileiro(a)</td>\n",
              "      <td>ja_concluiu</td>\n",
              "      <td>nao_declarado</td>\n",
              "      <td>nao</td>\n",
              "      <td>NaN</td>\n",
              "      <td>...</td>\n",
              "      <td>681.2</td>\n",
              "      <td>espanhol</td>\n",
              "      <td>sem_problemas</td>\n",
              "      <td>180.0</td>\n",
              "      <td>200.0</td>\n",
              "      <td>200.0</td>\n",
              "      <td>200.0</td>\n",
              "      <td>120.0</td>\n",
              "      <td>900.0</td>\n",
              "      <td>B</td>\n",
              "    </tr>\n",
              "    <tr>\n",
              "      <th>branca</th>\n",
              "      <td>1,90E+11</td>\n",
              "      <td>Campinas</td>\n",
              "      <td>17</td>\n",
              "      <td>F</td>\n",
              "      <td>solteiro(a)</td>\n",
              "      <td>brasileiro(a)</td>\n",
              "      <td>ja_concluiu</td>\n",
              "      <td>nao_declarado</td>\n",
              "      <td>nao</td>\n",
              "      <td>NaN</td>\n",
              "      <td>...</td>\n",
              "      <td>496.5</td>\n",
              "      <td>ingles</td>\n",
              "      <td>sem_problemas</td>\n",
              "      <td>160.0</td>\n",
              "      <td>120.0</td>\n",
              "      <td>140.0</td>\n",
              "      <td>140.0</td>\n",
              "      <td>120.0</td>\n",
              "      <td>680.0</td>\n",
              "      <td>B</td>\n",
              "    </tr>\n",
              "    <tr>\n",
              "      <th>branca</th>\n",
              "      <td>1,90E+11</td>\n",
              "      <td>São Paulo</td>\n",
              "      <td>18</td>\n",
              "      <td>F</td>\n",
              "      <td>solteiro(a)</td>\n",
              "      <td>brasileiro(a)</td>\n",
              "      <td>conclui_2019</td>\n",
              "      <td>privada</td>\n",
              "      <td>nao</td>\n",
              "      <td>35132287.0</td>\n",
              "      <td>...</td>\n",
              "      <td>49.1</td>\n",
              "      <td>ingles</td>\n",
              "      <td>sem_problemas</td>\n",
              "      <td>160.0</td>\n",
              "      <td>140.0</td>\n",
              "      <td>140.0</td>\n",
              "      <td>160.0</td>\n",
              "      <td>160.0</td>\n",
              "      <td>760.0</td>\n",
              "      <td>B</td>\n",
              "    </tr>\n",
              "    <tr>\n",
              "      <th>...</th>\n",
              "      <td>...</td>\n",
              "      <td>...</td>\n",
              "      <td>...</td>\n",
              "      <td>...</td>\n",
              "      <td>...</td>\n",
              "      <td>...</td>\n",
              "      <td>...</td>\n",
              "      <td>...</td>\n",
              "      <td>...</td>\n",
              "      <td>...</td>\n",
              "      <td>...</td>\n",
              "      <td>...</td>\n",
              "      <td>...</td>\n",
              "      <td>...</td>\n",
              "      <td>...</td>\n",
              "      <td>...</td>\n",
              "      <td>...</td>\n",
              "      <td>...</td>\n",
              "      <td>...</td>\n",
              "      <td>...</td>\n",
              "      <td>...</td>\n",
              "    </tr>\n",
              "    <tr>\n",
              "      <th>indigena</th>\n",
              "      <td>1,90E+11</td>\n",
              "      <td>Praia Grande</td>\n",
              "      <td>18</td>\n",
              "      <td>M</td>\n",
              "      <td>solteiro(a)</td>\n",
              "      <td>brasileiro(a)</td>\n",
              "      <td>conclui_2019</td>\n",
              "      <td>publica</td>\n",
              "      <td>nao</td>\n",
              "      <td>35269335.0</td>\n",
              "      <td>...</td>\n",
              "      <td>595.3</td>\n",
              "      <td>ingles</td>\n",
              "      <td>sem_problemas</td>\n",
              "      <td>120.0</td>\n",
              "      <td>120.0</td>\n",
              "      <td>100.0</td>\n",
              "      <td>100.0</td>\n",
              "      <td>80.0</td>\n",
              "      <td>520.0</td>\n",
              "      <td>B</td>\n",
              "    </tr>\n",
              "    <tr>\n",
              "      <th>indigena</th>\n",
              "      <td>1,90E+11</td>\n",
              "      <td>Itaquaquecetuba</td>\n",
              "      <td>17</td>\n",
              "      <td>F</td>\n",
              "      <td>solteiro(a)</td>\n",
              "      <td>brasileiro(a)</td>\n",
              "      <td>conclui_2019</td>\n",
              "      <td>publica</td>\n",
              "      <td>nao</td>\n",
              "      <td>35923936.0</td>\n",
              "      <td>...</td>\n",
              "      <td>544.2</td>\n",
              "      <td>ingles</td>\n",
              "      <td>sem_problemas</td>\n",
              "      <td>80.0</td>\n",
              "      <td>120.0</td>\n",
              "      <td>80.0</td>\n",
              "      <td>100.0</td>\n",
              "      <td>100.0</td>\n",
              "      <td>480.0</td>\n",
              "      <td>B</td>\n",
              "    </tr>\n",
              "    <tr>\n",
              "      <th>indigena</th>\n",
              "      <td>1,90E+11</td>\n",
              "      <td>São Paulo</td>\n",
              "      <td>17</td>\n",
              "      <td>F</td>\n",
              "      <td>solteiro(a)</td>\n",
              "      <td>brasileiro(a)</td>\n",
              "      <td>conclui_2019</td>\n",
              "      <td>publica</td>\n",
              "      <td>nao</td>\n",
              "      <td>35924647.0</td>\n",
              "      <td>...</td>\n",
              "      <td>399.4</td>\n",
              "      <td>espanhol</td>\n",
              "      <td>sem_problemas</td>\n",
              "      <td>120.0</td>\n",
              "      <td>120.0</td>\n",
              "      <td>120.0</td>\n",
              "      <td>160.0</td>\n",
              "      <td>40.0</td>\n",
              "      <td>560.0</td>\n",
              "      <td>B</td>\n",
              "    </tr>\n",
              "    <tr>\n",
              "      <th>indigena</th>\n",
              "      <td>1,90E+11</td>\n",
              "      <td>Itupeva</td>\n",
              "      <td>19</td>\n",
              "      <td>M</td>\n",
              "      <td>solteiro(a)</td>\n",
              "      <td>brasileiro(a)</td>\n",
              "      <td>ja_concluiu</td>\n",
              "      <td>nao_declarado</td>\n",
              "      <td>nao</td>\n",
              "      <td>NaN</td>\n",
              "      <td>...</td>\n",
              "      <td>54.7</td>\n",
              "      <td>ingles</td>\n",
              "      <td>sem_problemas</td>\n",
              "      <td>120.0</td>\n",
              "      <td>160.0</td>\n",
              "      <td>120.0</td>\n",
              "      <td>120.0</td>\n",
              "      <td>160.0</td>\n",
              "      <td>680.0</td>\n",
              "      <td>B</td>\n",
              "    </tr>\n",
              "    <tr>\n",
              "      <th>indigena</th>\n",
              "      <td>1,90E+11</td>\n",
              "      <td>São José do Rio Preto</td>\n",
              "      <td>20</td>\n",
              "      <td>F</td>\n",
              "      <td>solteiro(a)</td>\n",
              "      <td>brasileiro(a)</td>\n",
              "      <td>ja_concluiu</td>\n",
              "      <td>nao_declarado</td>\n",
              "      <td>nao</td>\n",
              "      <td>NaN</td>\n",
              "      <td>...</td>\n",
              "      <td>446.6</td>\n",
              "      <td>ingles</td>\n",
              "      <td>sem_problemas</td>\n",
              "      <td>180.0</td>\n",
              "      <td>200.0</td>\n",
              "      <td>180.0</td>\n",
              "      <td>200.0</td>\n",
              "      <td>200.0</td>\n",
              "      <td>960.0</td>\n",
              "      <td>B</td>\n",
              "    </tr>\n",
              "  </tbody>\n",
              "</table>\n",
              "<p>581171 rows × 27 columns</p>\n",
              "</div>\n",
              "      <button class=\"colab-df-convert\" onclick=\"convertToInteractive('df-a0fd9b64-7690-4318-8144-988c4bae660f')\"\n",
              "              title=\"Convert this dataframe to an interactive table.\"\n",
              "              style=\"display:none;\">\n",
              "        \n",
              "  <svg xmlns=\"http://www.w3.org/2000/svg\" height=\"24px\"viewBox=\"0 0 24 24\"\n",
              "       width=\"24px\">\n",
              "    <path d=\"M0 0h24v24H0V0z\" fill=\"none\"/>\n",
              "    <path d=\"M18.56 5.44l.94 2.06.94-2.06 2.06-.94-2.06-.94-.94-2.06-.94 2.06-2.06.94zm-11 1L8.5 8.5l.94-2.06 2.06-.94-2.06-.94L8.5 2.5l-.94 2.06-2.06.94zm10 10l.94 2.06.94-2.06 2.06-.94-2.06-.94-.94-2.06-.94 2.06-2.06.94z\"/><path d=\"M17.41 7.96l-1.37-1.37c-.4-.4-.92-.59-1.43-.59-.52 0-1.04.2-1.43.59L10.3 9.45l-7.72 7.72c-.78.78-.78 2.05 0 2.83L4 21.41c.39.39.9.59 1.41.59.51 0 1.02-.2 1.41-.59l7.78-7.78 2.81-2.81c.8-.78.8-2.07 0-2.86zM5.41 20L4 18.59l7.72-7.72 1.47 1.35L5.41 20z\"/>\n",
              "  </svg>\n",
              "      </button>\n",
              "      \n",
              "  <style>\n",
              "    .colab-df-container {\n",
              "      display:flex;\n",
              "      flex-wrap:wrap;\n",
              "      gap: 12px;\n",
              "    }\n",
              "\n",
              "    .colab-df-convert {\n",
              "      background-color: #E8F0FE;\n",
              "      border: none;\n",
              "      border-radius: 50%;\n",
              "      cursor: pointer;\n",
              "      display: none;\n",
              "      fill: #1967D2;\n",
              "      height: 32px;\n",
              "      padding: 0 0 0 0;\n",
              "      width: 32px;\n",
              "    }\n",
              "\n",
              "    .colab-df-convert:hover {\n",
              "      background-color: #E2EBFA;\n",
              "      box-shadow: 0px 1px 2px rgba(60, 64, 67, 0.3), 0px 1px 3px 1px rgba(60, 64, 67, 0.15);\n",
              "      fill: #174EA6;\n",
              "    }\n",
              "\n",
              "    [theme=dark] .colab-df-convert {\n",
              "      background-color: #3B4455;\n",
              "      fill: #D2E3FC;\n",
              "    }\n",
              "\n",
              "    [theme=dark] .colab-df-convert:hover {\n",
              "      background-color: #434B5C;\n",
              "      box-shadow: 0px 1px 3px 1px rgba(0, 0, 0, 0.15);\n",
              "      filter: drop-shadow(0px 1px 2px rgba(0, 0, 0, 0.3));\n",
              "      fill: #FFFFFF;\n",
              "    }\n",
              "  </style>\n",
              "\n",
              "      <script>\n",
              "        const buttonEl =\n",
              "          document.querySelector('#df-a0fd9b64-7690-4318-8144-988c4bae660f button.colab-df-convert');\n",
              "        buttonEl.style.display =\n",
              "          google.colab.kernel.accessAllowed ? 'block' : 'none';\n",
              "\n",
              "        async function convertToInteractive(key) {\n",
              "          const element = document.querySelector('#df-a0fd9b64-7690-4318-8144-988c4bae660f');\n",
              "          const dataTable =\n",
              "            await google.colab.kernel.invokeFunction('convertToInteractive',\n",
              "                                                     [key], {});\n",
              "          if (!dataTable) return;\n",
              "\n",
              "          const docLinkHtml = 'Like what you see? Visit the ' +\n",
              "            '<a target=\"_blank\" href=https://colab.research.google.com/notebooks/data_table.ipynb>data table notebook</a>'\n",
              "            + ' to learn more about interactive tables.';\n",
              "          element.innerHTML = '';\n",
              "          dataTable['output_type'] = 'display_data';\n",
              "          await google.colab.output.renderOutput(dataTable, element);\n",
              "          const docLink = document.createElement('div');\n",
              "          docLink.innerHTML = docLinkHtml;\n",
              "          element.appendChild(docLink);\n",
              "        }\n",
              "      </script>\n",
              "    </div>\n",
              "  </div>\n",
              "  "
            ]
          },
          "metadata": {},
          "execution_count": 25
        }
      ]
    },
    {
      "cell_type": "markdown",
      "source": [
        "- Criação de um dataframe com as raças que mais apareceram no ENEM."
      ],
      "metadata": {
        "id": "Pz0tMM-3ArSn"
      }
    },
    {
      "cell_type": "code",
      "source": [
        "df_raca_maior = df[df[\"COR_RACA\"].isin(lista_raca_maior)]\n",
        "df_raca_maior"
      ],
      "metadata": {
        "colab": {
          "base_uri": "https://localhost:8080/",
          "height": 488
        },
        "id": "q6fb4qxjvJv5",
        "outputId": "bc4d2004-5f35-4fc1-8c82-bcafff44d29c"
      },
      "execution_count": 26,
      "outputs": [
        {
          "output_type": "execute_result",
          "data": {
            "text/plain": [
              "       INSCRICAO   MUNICIPIO_RESIDENCIA  IDADE SEXO ESTADO_CIVIL COR_RACA  \\\n",
              "0       1,90E+11           Santa Isabel     22    M  solteiro(a)    parda   \n",
              "1       1,90E+11              São Paulo     17    F  solteiro(a)    parda   \n",
              "2       1,90E+11  São Bernardo do Campo     19    M  solteiro(a)    parda   \n",
              "3       1,90E+11             Embu-Guaçu     17    F  solteiro(a)    parda   \n",
              "4       1,90E+11              Guarulhos     23    F  solteiro(a)   branca   \n",
              "...          ...                    ...    ...  ...          ...      ...   \n",
              "581166  1,90E+11              São Paulo     18    F  solteiro(a)    parda   \n",
              "581167  1,90E+11              São Paulo     17    F  solteiro(a)    preta   \n",
              "581168  1,90E+11              São Paulo     17    F  solteiro(a)    parda   \n",
              "581169  1,90E+11              São Paulo     17    M  solteiro(a)    parda   \n",
              "581170  1,90E+11                 Araras     18    F  solteiro(a)   branca   \n",
              "\n",
              "        NACIONALIDADE     CONCLUSAO         ESCOLA TREINEIRO  ...  NOTA_MT  \\\n",
              "0       brasileiro(a)   ja_concluiu  nao_declarado       nao  ...    600.2   \n",
              "1       brasileiro(a)  conclui_2019        privada       nao  ...    731.8   \n",
              "2       brasileiro(a)  conclui_2019        publica       nao  ...    393.2   \n",
              "3       brasileiro(a)  conclui_2019        publica       nao  ...    419.2   \n",
              "4       brasileiro(a)   ja_concluiu  nao_declarado       nao  ...    796.1   \n",
              "...               ...           ...            ...       ...  ...      ...   \n",
              "581166  brasileiro(a)   ja_concluiu  nao_declarado       nao  ...    479.1   \n",
              "581167  brasileiro(a)  conclui_2019        publica       nao  ...     43.2   \n",
              "581168  brasileiro(a)  conclui_2019        publica       nao  ...    487.3   \n",
              "581169  brasileiro(a)  conclui_2019        publica       nao  ...    401.1   \n",
              "581170  brasileiro(a)  conclui_2019        publica       nao  ...    559.5   \n",
              "\n",
              "          LINGUA STATUS_REDACAO NOTA_COMP1 NOTA_COMP2  NOTA_COMP3  NOTA_COMP4  \\\n",
              "0         ingles  sem_problemas      160.0      200.0       180.0       200.0   \n",
              "1         ingles  sem_problemas      160.0      120.0       200.0       200.0   \n",
              "2       espanhol  sem_problemas       80.0      160.0       120.0       100.0   \n",
              "3         ingles  sem_problemas      120.0      120.0       120.0       120.0   \n",
              "4         ingles  sem_problemas      160.0      200.0       180.0       180.0   \n",
              "...          ...            ...        ...        ...         ...         ...   \n",
              "581166  espanhol  sem_problemas      100.0      120.0       120.0       140.0   \n",
              "581167  espanhol  sem_problemas       80.0      120.0       140.0       120.0   \n",
              "581168    ingles  sem_problemas      120.0       80.0        60.0       120.0   \n",
              "581169    ingles  sem_problemas      160.0      120.0       160.0       140.0   \n",
              "581170    ingles  sem_problemas      120.0      120.0       120.0       120.0   \n",
              "\n",
              "        NOTA_COMP5  NOTA_REDACAO Q025  \n",
              "0            200.0         940.0    B  \n",
              "1            200.0         880.0    A  \n",
              "2            100.0         560.0    B  \n",
              "3             80.0         560.0    B  \n",
              "4            160.0         880.0    B  \n",
              "...            ...           ...  ...  \n",
              "581166       100.0         580.0    B  \n",
              "581167       100.0         560.0    B  \n",
              "581168         0.0         380.0    B  \n",
              "581169       160.0         740.0    A  \n",
              "581170       140.0         620.0    B  \n",
              "\n",
              "[556048 rows x 28 columns]"
            ],
            "text/html": [
              "\n",
              "  <div id=\"df-88c75492-702f-4e77-a2e0-f3910e276f16\">\n",
              "    <div class=\"colab-df-container\">\n",
              "      <div>\n",
              "<style scoped>\n",
              "    .dataframe tbody tr th:only-of-type {\n",
              "        vertical-align: middle;\n",
              "    }\n",
              "\n",
              "    .dataframe tbody tr th {\n",
              "        vertical-align: top;\n",
              "    }\n",
              "\n",
              "    .dataframe thead th {\n",
              "        text-align: right;\n",
              "    }\n",
              "</style>\n",
              "<table border=\"1\" class=\"dataframe\">\n",
              "  <thead>\n",
              "    <tr style=\"text-align: right;\">\n",
              "      <th></th>\n",
              "      <th>INSCRICAO</th>\n",
              "      <th>MUNICIPIO_RESIDENCIA</th>\n",
              "      <th>IDADE</th>\n",
              "      <th>SEXO</th>\n",
              "      <th>ESTADO_CIVIL</th>\n",
              "      <th>COR_RACA</th>\n",
              "      <th>NACIONALIDADE</th>\n",
              "      <th>CONCLUSAO</th>\n",
              "      <th>ESCOLA</th>\n",
              "      <th>TREINEIRO</th>\n",
              "      <th>...</th>\n",
              "      <th>NOTA_MT</th>\n",
              "      <th>LINGUA</th>\n",
              "      <th>STATUS_REDACAO</th>\n",
              "      <th>NOTA_COMP1</th>\n",
              "      <th>NOTA_COMP2</th>\n",
              "      <th>NOTA_COMP3</th>\n",
              "      <th>NOTA_COMP4</th>\n",
              "      <th>NOTA_COMP5</th>\n",
              "      <th>NOTA_REDACAO</th>\n",
              "      <th>Q025</th>\n",
              "    </tr>\n",
              "  </thead>\n",
              "  <tbody>\n",
              "    <tr>\n",
              "      <th>0</th>\n",
              "      <td>1,90E+11</td>\n",
              "      <td>Santa Isabel</td>\n",
              "      <td>22</td>\n",
              "      <td>M</td>\n",
              "      <td>solteiro(a)</td>\n",
              "      <td>parda</td>\n",
              "      <td>brasileiro(a)</td>\n",
              "      <td>ja_concluiu</td>\n",
              "      <td>nao_declarado</td>\n",
              "      <td>nao</td>\n",
              "      <td>...</td>\n",
              "      <td>600.2</td>\n",
              "      <td>ingles</td>\n",
              "      <td>sem_problemas</td>\n",
              "      <td>160.0</td>\n",
              "      <td>200.0</td>\n",
              "      <td>180.0</td>\n",
              "      <td>200.0</td>\n",
              "      <td>200.0</td>\n",
              "      <td>940.0</td>\n",
              "      <td>B</td>\n",
              "    </tr>\n",
              "    <tr>\n",
              "      <th>1</th>\n",
              "      <td>1,90E+11</td>\n",
              "      <td>São Paulo</td>\n",
              "      <td>17</td>\n",
              "      <td>F</td>\n",
              "      <td>solteiro(a)</td>\n",
              "      <td>parda</td>\n",
              "      <td>brasileiro(a)</td>\n",
              "      <td>conclui_2019</td>\n",
              "      <td>privada</td>\n",
              "      <td>nao</td>\n",
              "      <td>...</td>\n",
              "      <td>731.8</td>\n",
              "      <td>ingles</td>\n",
              "      <td>sem_problemas</td>\n",
              "      <td>160.0</td>\n",
              "      <td>120.0</td>\n",
              "      <td>200.0</td>\n",
              "      <td>200.0</td>\n",
              "      <td>200.0</td>\n",
              "      <td>880.0</td>\n",
              "      <td>A</td>\n",
              "    </tr>\n",
              "    <tr>\n",
              "      <th>2</th>\n",
              "      <td>1,90E+11</td>\n",
              "      <td>São Bernardo do Campo</td>\n",
              "      <td>19</td>\n",
              "      <td>M</td>\n",
              "      <td>solteiro(a)</td>\n",
              "      <td>parda</td>\n",
              "      <td>brasileiro(a)</td>\n",
              "      <td>conclui_2019</td>\n",
              "      <td>publica</td>\n",
              "      <td>nao</td>\n",
              "      <td>...</td>\n",
              "      <td>393.2</td>\n",
              "      <td>espanhol</td>\n",
              "      <td>sem_problemas</td>\n",
              "      <td>80.0</td>\n",
              "      <td>160.0</td>\n",
              "      <td>120.0</td>\n",
              "      <td>100.0</td>\n",
              "      <td>100.0</td>\n",
              "      <td>560.0</td>\n",
              "      <td>B</td>\n",
              "    </tr>\n",
              "    <tr>\n",
              "      <th>3</th>\n",
              "      <td>1,90E+11</td>\n",
              "      <td>Embu-Guaçu</td>\n",
              "      <td>17</td>\n",
              "      <td>F</td>\n",
              "      <td>solteiro(a)</td>\n",
              "      <td>parda</td>\n",
              "      <td>brasileiro(a)</td>\n",
              "      <td>conclui_2019</td>\n",
              "      <td>publica</td>\n",
              "      <td>nao</td>\n",
              "      <td>...</td>\n",
              "      <td>419.2</td>\n",
              "      <td>ingles</td>\n",
              "      <td>sem_problemas</td>\n",
              "      <td>120.0</td>\n",
              "      <td>120.0</td>\n",
              "      <td>120.0</td>\n",
              "      <td>120.0</td>\n",
              "      <td>80.0</td>\n",
              "      <td>560.0</td>\n",
              "      <td>B</td>\n",
              "    </tr>\n",
              "    <tr>\n",
              "      <th>4</th>\n",
              "      <td>1,90E+11</td>\n",
              "      <td>Guarulhos</td>\n",
              "      <td>23</td>\n",
              "      <td>F</td>\n",
              "      <td>solteiro(a)</td>\n",
              "      <td>branca</td>\n",
              "      <td>brasileiro(a)</td>\n",
              "      <td>ja_concluiu</td>\n",
              "      <td>nao_declarado</td>\n",
              "      <td>nao</td>\n",
              "      <td>...</td>\n",
              "      <td>796.1</td>\n",
              "      <td>ingles</td>\n",
              "      <td>sem_problemas</td>\n",
              "      <td>160.0</td>\n",
              "      <td>200.0</td>\n",
              "      <td>180.0</td>\n",
              "      <td>180.0</td>\n",
              "      <td>160.0</td>\n",
              "      <td>880.0</td>\n",
              "      <td>B</td>\n",
              "    </tr>\n",
              "    <tr>\n",
              "      <th>...</th>\n",
              "      <td>...</td>\n",
              "      <td>...</td>\n",
              "      <td>...</td>\n",
              "      <td>...</td>\n",
              "      <td>...</td>\n",
              "      <td>...</td>\n",
              "      <td>...</td>\n",
              "      <td>...</td>\n",
              "      <td>...</td>\n",
              "      <td>...</td>\n",
              "      <td>...</td>\n",
              "      <td>...</td>\n",
              "      <td>...</td>\n",
              "      <td>...</td>\n",
              "      <td>...</td>\n",
              "      <td>...</td>\n",
              "      <td>...</td>\n",
              "      <td>...</td>\n",
              "      <td>...</td>\n",
              "      <td>...</td>\n",
              "      <td>...</td>\n",
              "    </tr>\n",
              "    <tr>\n",
              "      <th>581166</th>\n",
              "      <td>1,90E+11</td>\n",
              "      <td>São Paulo</td>\n",
              "      <td>18</td>\n",
              "      <td>F</td>\n",
              "      <td>solteiro(a)</td>\n",
              "      <td>parda</td>\n",
              "      <td>brasileiro(a)</td>\n",
              "      <td>ja_concluiu</td>\n",
              "      <td>nao_declarado</td>\n",
              "      <td>nao</td>\n",
              "      <td>...</td>\n",
              "      <td>479.1</td>\n",
              "      <td>espanhol</td>\n",
              "      <td>sem_problemas</td>\n",
              "      <td>100.0</td>\n",
              "      <td>120.0</td>\n",
              "      <td>120.0</td>\n",
              "      <td>140.0</td>\n",
              "      <td>100.0</td>\n",
              "      <td>580.0</td>\n",
              "      <td>B</td>\n",
              "    </tr>\n",
              "    <tr>\n",
              "      <th>581167</th>\n",
              "      <td>1,90E+11</td>\n",
              "      <td>São Paulo</td>\n",
              "      <td>17</td>\n",
              "      <td>F</td>\n",
              "      <td>solteiro(a)</td>\n",
              "      <td>preta</td>\n",
              "      <td>brasileiro(a)</td>\n",
              "      <td>conclui_2019</td>\n",
              "      <td>publica</td>\n",
              "      <td>nao</td>\n",
              "      <td>...</td>\n",
              "      <td>43.2</td>\n",
              "      <td>espanhol</td>\n",
              "      <td>sem_problemas</td>\n",
              "      <td>80.0</td>\n",
              "      <td>120.0</td>\n",
              "      <td>140.0</td>\n",
              "      <td>120.0</td>\n",
              "      <td>100.0</td>\n",
              "      <td>560.0</td>\n",
              "      <td>B</td>\n",
              "    </tr>\n",
              "    <tr>\n",
              "      <th>581168</th>\n",
              "      <td>1,90E+11</td>\n",
              "      <td>São Paulo</td>\n",
              "      <td>17</td>\n",
              "      <td>F</td>\n",
              "      <td>solteiro(a)</td>\n",
              "      <td>parda</td>\n",
              "      <td>brasileiro(a)</td>\n",
              "      <td>conclui_2019</td>\n",
              "      <td>publica</td>\n",
              "      <td>nao</td>\n",
              "      <td>...</td>\n",
              "      <td>487.3</td>\n",
              "      <td>ingles</td>\n",
              "      <td>sem_problemas</td>\n",
              "      <td>120.0</td>\n",
              "      <td>80.0</td>\n",
              "      <td>60.0</td>\n",
              "      <td>120.0</td>\n",
              "      <td>0.0</td>\n",
              "      <td>380.0</td>\n",
              "      <td>B</td>\n",
              "    </tr>\n",
              "    <tr>\n",
              "      <th>581169</th>\n",
              "      <td>1,90E+11</td>\n",
              "      <td>São Paulo</td>\n",
              "      <td>17</td>\n",
              "      <td>M</td>\n",
              "      <td>solteiro(a)</td>\n",
              "      <td>parda</td>\n",
              "      <td>brasileiro(a)</td>\n",
              "      <td>conclui_2019</td>\n",
              "      <td>publica</td>\n",
              "      <td>nao</td>\n",
              "      <td>...</td>\n",
              "      <td>401.1</td>\n",
              "      <td>ingles</td>\n",
              "      <td>sem_problemas</td>\n",
              "      <td>160.0</td>\n",
              "      <td>120.0</td>\n",
              "      <td>160.0</td>\n",
              "      <td>140.0</td>\n",
              "      <td>160.0</td>\n",
              "      <td>740.0</td>\n",
              "      <td>A</td>\n",
              "    </tr>\n",
              "    <tr>\n",
              "      <th>581170</th>\n",
              "      <td>1,90E+11</td>\n",
              "      <td>Araras</td>\n",
              "      <td>18</td>\n",
              "      <td>F</td>\n",
              "      <td>solteiro(a)</td>\n",
              "      <td>branca</td>\n",
              "      <td>brasileiro(a)</td>\n",
              "      <td>conclui_2019</td>\n",
              "      <td>publica</td>\n",
              "      <td>nao</td>\n",
              "      <td>...</td>\n",
              "      <td>559.5</td>\n",
              "      <td>ingles</td>\n",
              "      <td>sem_problemas</td>\n",
              "      <td>120.0</td>\n",
              "      <td>120.0</td>\n",
              "      <td>120.0</td>\n",
              "      <td>120.0</td>\n",
              "      <td>140.0</td>\n",
              "      <td>620.0</td>\n",
              "      <td>B</td>\n",
              "    </tr>\n",
              "  </tbody>\n",
              "</table>\n",
              "<p>556048 rows × 28 columns</p>\n",
              "</div>\n",
              "      <button class=\"colab-df-convert\" onclick=\"convertToInteractive('df-88c75492-702f-4e77-a2e0-f3910e276f16')\"\n",
              "              title=\"Convert this dataframe to an interactive table.\"\n",
              "              style=\"display:none;\">\n",
              "        \n",
              "  <svg xmlns=\"http://www.w3.org/2000/svg\" height=\"24px\"viewBox=\"0 0 24 24\"\n",
              "       width=\"24px\">\n",
              "    <path d=\"M0 0h24v24H0V0z\" fill=\"none\"/>\n",
              "    <path d=\"M18.56 5.44l.94 2.06.94-2.06 2.06-.94-2.06-.94-.94-2.06-.94 2.06-2.06.94zm-11 1L8.5 8.5l.94-2.06 2.06-.94-2.06-.94L8.5 2.5l-.94 2.06-2.06.94zm10 10l.94 2.06.94-2.06 2.06-.94-2.06-.94-.94-2.06-.94 2.06-2.06.94z\"/><path d=\"M17.41 7.96l-1.37-1.37c-.4-.4-.92-.59-1.43-.59-.52 0-1.04.2-1.43.59L10.3 9.45l-7.72 7.72c-.78.78-.78 2.05 0 2.83L4 21.41c.39.39.9.59 1.41.59.51 0 1.02-.2 1.41-.59l7.78-7.78 2.81-2.81c.8-.78.8-2.07 0-2.86zM5.41 20L4 18.59l7.72-7.72 1.47 1.35L5.41 20z\"/>\n",
              "  </svg>\n",
              "      </button>\n",
              "      \n",
              "  <style>\n",
              "    .colab-df-container {\n",
              "      display:flex;\n",
              "      flex-wrap:wrap;\n",
              "      gap: 12px;\n",
              "    }\n",
              "\n",
              "    .colab-df-convert {\n",
              "      background-color: #E8F0FE;\n",
              "      border: none;\n",
              "      border-radius: 50%;\n",
              "      cursor: pointer;\n",
              "      display: none;\n",
              "      fill: #1967D2;\n",
              "      height: 32px;\n",
              "      padding: 0 0 0 0;\n",
              "      width: 32px;\n",
              "    }\n",
              "\n",
              "    .colab-df-convert:hover {\n",
              "      background-color: #E2EBFA;\n",
              "      box-shadow: 0px 1px 2px rgba(60, 64, 67, 0.3), 0px 1px 3px 1px rgba(60, 64, 67, 0.15);\n",
              "      fill: #174EA6;\n",
              "    }\n",
              "\n",
              "    [theme=dark] .colab-df-convert {\n",
              "      background-color: #3B4455;\n",
              "      fill: #D2E3FC;\n",
              "    }\n",
              "\n",
              "    [theme=dark] .colab-df-convert:hover {\n",
              "      background-color: #434B5C;\n",
              "      box-shadow: 0px 1px 3px 1px rgba(0, 0, 0, 0.15);\n",
              "      filter: drop-shadow(0px 1px 2px rgba(0, 0, 0, 0.3));\n",
              "      fill: #FFFFFF;\n",
              "    }\n",
              "  </style>\n",
              "\n",
              "      <script>\n",
              "        const buttonEl =\n",
              "          document.querySelector('#df-88c75492-702f-4e77-a2e0-f3910e276f16 button.colab-df-convert');\n",
              "        buttonEl.style.display =\n",
              "          google.colab.kernel.accessAllowed ? 'block' : 'none';\n",
              "\n",
              "        async function convertToInteractive(key) {\n",
              "          const element = document.querySelector('#df-88c75492-702f-4e77-a2e0-f3910e276f16');\n",
              "          const dataTable =\n",
              "            await google.colab.kernel.invokeFunction('convertToInteractive',\n",
              "                                                     [key], {});\n",
              "          if (!dataTable) return;\n",
              "\n",
              "          const docLinkHtml = 'Like what you see? Visit the ' +\n",
              "            '<a target=\"_blank\" href=https://colab.research.google.com/notebooks/data_table.ipynb>data table notebook</a>'\n",
              "            + ' to learn more about interactive tables.';\n",
              "          element.innerHTML = '';\n",
              "          dataTable['output_type'] = 'display_data';\n",
              "          await google.colab.output.renderOutput(dataTable, element);\n",
              "          const docLink = document.createElement('div');\n",
              "          docLink.innerHTML = docLinkHtml;\n",
              "          element.appendChild(docLink);\n",
              "        }\n",
              "      </script>\n",
              "    </div>\n",
              "  </div>\n",
              "  "
            ]
          },
          "metadata": {},
          "execution_count": 26
        }
      ]
    },
    {
      "cell_type": "markdown",
      "source": [
        "- Criação de um dataframe com as raças que menos apareceram no ENEM."
      ],
      "metadata": {
        "id": "IYhLSNrOA6TS"
      }
    },
    {
      "cell_type": "code",
      "source": [
        "df_raca_menor = df[df[\"COR_RACA\"].isin(lista_raca_menor)]\n",
        "df_raca_menor"
      ],
      "metadata": {
        "colab": {
          "base_uri": "https://localhost:8080/",
          "height": 488
        },
        "id": "MsRmrPgNvd_o",
        "outputId": "7bf960f9-14b6-45d6-b982-fa887f084cc6"
      },
      "execution_count": 27,
      "outputs": [
        {
          "output_type": "execute_result",
          "data": {
            "text/plain": [
              "       INSCRICAO   MUNICIPIO_RESIDENCIA  IDADE SEXO   ESTADO_CIVIL  \\\n",
              "24      1,90E+11                   Leme     20    F    solteiro(a)   \n",
              "27      1,90E+11             Votorantim     19    M    solteiro(a)   \n",
              "44      1,90E+11    Américo Brasiliense     23    M    solteiro(a)   \n",
              "71      1,90E+11              Guarulhos     27    M    solteiro(a)   \n",
              "123     1,90E+11              Palestina     21    F    solteiro(a)   \n",
              "...          ...                    ...    ...  ...            ...   \n",
              "580926  1,90E+11  São José do Rio Preto     20    F    solteiro(a)   \n",
              "580986  1,90E+11               Mirassol     17    F    solteiro(a)   \n",
              "581020  1,90E+11            São Vicente     19    M  divorciado(a)   \n",
              "581099  1,90E+11              São Paulo     19    F    solteiro(a)   \n",
              "581116  1,90E+11        Mogi das Cruzes     19    M    solteiro(a)   \n",
              "\n",
              "             COR_RACA  NACIONALIDADE     CONCLUSAO         ESCOLA TREINEIRO  \\\n",
              "24      nao_declarado  brasileiro(a)   ja_concluiu  nao_declarado       nao   \n",
              "27            amarela  brasileiro(a)  conclui_2019        publica       nao   \n",
              "44      nao_declarado  brasileiro(a)   ja_concluiu  nao_declarado       nao   \n",
              "71      nao_declarado  brasileiro(a)   ja_concluiu  nao_declarado       nao   \n",
              "123           amarela  brasileiro(a)   ja_concluiu  nao_declarado       nao   \n",
              "...               ...            ...           ...            ...       ...   \n",
              "580926       indigena  brasileiro(a)   ja_concluiu  nao_declarado       nao   \n",
              "580986  nao_declarado  brasileiro(a)  nao_concluiu  nao_declarado       sim   \n",
              "581020  nao_declarado  brasileiro(a)  conclui_2019        publica       nao   \n",
              "581099        amarela  brasileiro(a)   ja_concluiu  nao_declarado       nao   \n",
              "581116        amarela  brasileiro(a)   ja_concluiu  nao_declarado       nao   \n",
              "\n",
              "        ...  NOTA_MT    LINGUA STATUS_REDACAO NOTA_COMP1 NOTA_COMP2  \\\n",
              "24      ...    836.3    ingles  sem_problemas      160.0      200.0   \n",
              "27      ...    490.3    ingles  sem_problemas      120.0      120.0   \n",
              "44      ...    409.5  espanhol  sem_problemas      100.0      200.0   \n",
              "71      ...    743.8    ingles  sem_problemas      120.0      180.0   \n",
              "123     ...    410.6  espanhol  sem_problemas      120.0      120.0   \n",
              "...     ...      ...       ...            ...        ...        ...   \n",
              "580926  ...    446.6    ingles  sem_problemas      180.0      200.0   \n",
              "580986  ...    645.3    ingles  sem_problemas      160.0      180.0   \n",
              "581020  ...    425.4    ingles  sem_problemas      120.0       40.0   \n",
              "581099  ...    671.7    ingles  sem_problemas      100.0       40.0   \n",
              "581116  ...    750.2    ingles  sem_problemas      120.0      160.0   \n",
              "\n",
              "        NOTA_COMP3  NOTA_COMP4  NOTA_COMP5  NOTA_REDACAO Q025  \n",
              "24           180.0       160.0       200.0         900.0    B  \n",
              "27           120.0       120.0         0.0         480.0    B  \n",
              "44           120.0       160.0       140.0         720.0    B  \n",
              "71           120.0       120.0       160.0         700.0    B  \n",
              "123          120.0        80.0       140.0         580.0    B  \n",
              "...            ...         ...         ...           ...  ...  \n",
              "580926       180.0       200.0       200.0         960.0    B  \n",
              "580986       160.0       160.0       120.0         780.0    B  \n",
              "581020        40.0        80.0         0.0         280.0    A  \n",
              "581099        40.0       100.0         0.0         280.0    B  \n",
              "581116       140.0       180.0       160.0         760.0    B  \n",
              "\n",
              "[25123 rows x 28 columns]"
            ],
            "text/html": [
              "\n",
              "  <div id=\"df-f0cb9379-b90b-4aae-9e90-ad8fe5f6e3e6\">\n",
              "    <div class=\"colab-df-container\">\n",
              "      <div>\n",
              "<style scoped>\n",
              "    .dataframe tbody tr th:only-of-type {\n",
              "        vertical-align: middle;\n",
              "    }\n",
              "\n",
              "    .dataframe tbody tr th {\n",
              "        vertical-align: top;\n",
              "    }\n",
              "\n",
              "    .dataframe thead th {\n",
              "        text-align: right;\n",
              "    }\n",
              "</style>\n",
              "<table border=\"1\" class=\"dataframe\">\n",
              "  <thead>\n",
              "    <tr style=\"text-align: right;\">\n",
              "      <th></th>\n",
              "      <th>INSCRICAO</th>\n",
              "      <th>MUNICIPIO_RESIDENCIA</th>\n",
              "      <th>IDADE</th>\n",
              "      <th>SEXO</th>\n",
              "      <th>ESTADO_CIVIL</th>\n",
              "      <th>COR_RACA</th>\n",
              "      <th>NACIONALIDADE</th>\n",
              "      <th>CONCLUSAO</th>\n",
              "      <th>ESCOLA</th>\n",
              "      <th>TREINEIRO</th>\n",
              "      <th>...</th>\n",
              "      <th>NOTA_MT</th>\n",
              "      <th>LINGUA</th>\n",
              "      <th>STATUS_REDACAO</th>\n",
              "      <th>NOTA_COMP1</th>\n",
              "      <th>NOTA_COMP2</th>\n",
              "      <th>NOTA_COMP3</th>\n",
              "      <th>NOTA_COMP4</th>\n",
              "      <th>NOTA_COMP5</th>\n",
              "      <th>NOTA_REDACAO</th>\n",
              "      <th>Q025</th>\n",
              "    </tr>\n",
              "  </thead>\n",
              "  <tbody>\n",
              "    <tr>\n",
              "      <th>24</th>\n",
              "      <td>1,90E+11</td>\n",
              "      <td>Leme</td>\n",
              "      <td>20</td>\n",
              "      <td>F</td>\n",
              "      <td>solteiro(a)</td>\n",
              "      <td>nao_declarado</td>\n",
              "      <td>brasileiro(a)</td>\n",
              "      <td>ja_concluiu</td>\n",
              "      <td>nao_declarado</td>\n",
              "      <td>nao</td>\n",
              "      <td>...</td>\n",
              "      <td>836.3</td>\n",
              "      <td>ingles</td>\n",
              "      <td>sem_problemas</td>\n",
              "      <td>160.0</td>\n",
              "      <td>200.0</td>\n",
              "      <td>180.0</td>\n",
              "      <td>160.0</td>\n",
              "      <td>200.0</td>\n",
              "      <td>900.0</td>\n",
              "      <td>B</td>\n",
              "    </tr>\n",
              "    <tr>\n",
              "      <th>27</th>\n",
              "      <td>1,90E+11</td>\n",
              "      <td>Votorantim</td>\n",
              "      <td>19</td>\n",
              "      <td>M</td>\n",
              "      <td>solteiro(a)</td>\n",
              "      <td>amarela</td>\n",
              "      <td>brasileiro(a)</td>\n",
              "      <td>conclui_2019</td>\n",
              "      <td>publica</td>\n",
              "      <td>nao</td>\n",
              "      <td>...</td>\n",
              "      <td>490.3</td>\n",
              "      <td>ingles</td>\n",
              "      <td>sem_problemas</td>\n",
              "      <td>120.0</td>\n",
              "      <td>120.0</td>\n",
              "      <td>120.0</td>\n",
              "      <td>120.0</td>\n",
              "      <td>0.0</td>\n",
              "      <td>480.0</td>\n",
              "      <td>B</td>\n",
              "    </tr>\n",
              "    <tr>\n",
              "      <th>44</th>\n",
              "      <td>1,90E+11</td>\n",
              "      <td>Américo Brasiliense</td>\n",
              "      <td>23</td>\n",
              "      <td>M</td>\n",
              "      <td>solteiro(a)</td>\n",
              "      <td>nao_declarado</td>\n",
              "      <td>brasileiro(a)</td>\n",
              "      <td>ja_concluiu</td>\n",
              "      <td>nao_declarado</td>\n",
              "      <td>nao</td>\n",
              "      <td>...</td>\n",
              "      <td>409.5</td>\n",
              "      <td>espanhol</td>\n",
              "      <td>sem_problemas</td>\n",
              "      <td>100.0</td>\n",
              "      <td>200.0</td>\n",
              "      <td>120.0</td>\n",
              "      <td>160.0</td>\n",
              "      <td>140.0</td>\n",
              "      <td>720.0</td>\n",
              "      <td>B</td>\n",
              "    </tr>\n",
              "    <tr>\n",
              "      <th>71</th>\n",
              "      <td>1,90E+11</td>\n",
              "      <td>Guarulhos</td>\n",
              "      <td>27</td>\n",
              "      <td>M</td>\n",
              "      <td>solteiro(a)</td>\n",
              "      <td>nao_declarado</td>\n",
              "      <td>brasileiro(a)</td>\n",
              "      <td>ja_concluiu</td>\n",
              "      <td>nao_declarado</td>\n",
              "      <td>nao</td>\n",
              "      <td>...</td>\n",
              "      <td>743.8</td>\n",
              "      <td>ingles</td>\n",
              "      <td>sem_problemas</td>\n",
              "      <td>120.0</td>\n",
              "      <td>180.0</td>\n",
              "      <td>120.0</td>\n",
              "      <td>120.0</td>\n",
              "      <td>160.0</td>\n",
              "      <td>700.0</td>\n",
              "      <td>B</td>\n",
              "    </tr>\n",
              "    <tr>\n",
              "      <th>123</th>\n",
              "      <td>1,90E+11</td>\n",
              "      <td>Palestina</td>\n",
              "      <td>21</td>\n",
              "      <td>F</td>\n",
              "      <td>solteiro(a)</td>\n",
              "      <td>amarela</td>\n",
              "      <td>brasileiro(a)</td>\n",
              "      <td>ja_concluiu</td>\n",
              "      <td>nao_declarado</td>\n",
              "      <td>nao</td>\n",
              "      <td>...</td>\n",
              "      <td>410.6</td>\n",
              "      <td>espanhol</td>\n",
              "      <td>sem_problemas</td>\n",
              "      <td>120.0</td>\n",
              "      <td>120.0</td>\n",
              "      <td>120.0</td>\n",
              "      <td>80.0</td>\n",
              "      <td>140.0</td>\n",
              "      <td>580.0</td>\n",
              "      <td>B</td>\n",
              "    </tr>\n",
              "    <tr>\n",
              "      <th>...</th>\n",
              "      <td>...</td>\n",
              "      <td>...</td>\n",
              "      <td>...</td>\n",
              "      <td>...</td>\n",
              "      <td>...</td>\n",
              "      <td>...</td>\n",
              "      <td>...</td>\n",
              "      <td>...</td>\n",
              "      <td>...</td>\n",
              "      <td>...</td>\n",
              "      <td>...</td>\n",
              "      <td>...</td>\n",
              "      <td>...</td>\n",
              "      <td>...</td>\n",
              "      <td>...</td>\n",
              "      <td>...</td>\n",
              "      <td>...</td>\n",
              "      <td>...</td>\n",
              "      <td>...</td>\n",
              "      <td>...</td>\n",
              "      <td>...</td>\n",
              "    </tr>\n",
              "    <tr>\n",
              "      <th>580926</th>\n",
              "      <td>1,90E+11</td>\n",
              "      <td>São José do Rio Preto</td>\n",
              "      <td>20</td>\n",
              "      <td>F</td>\n",
              "      <td>solteiro(a)</td>\n",
              "      <td>indigena</td>\n",
              "      <td>brasileiro(a)</td>\n",
              "      <td>ja_concluiu</td>\n",
              "      <td>nao_declarado</td>\n",
              "      <td>nao</td>\n",
              "      <td>...</td>\n",
              "      <td>446.6</td>\n",
              "      <td>ingles</td>\n",
              "      <td>sem_problemas</td>\n",
              "      <td>180.0</td>\n",
              "      <td>200.0</td>\n",
              "      <td>180.0</td>\n",
              "      <td>200.0</td>\n",
              "      <td>200.0</td>\n",
              "      <td>960.0</td>\n",
              "      <td>B</td>\n",
              "    </tr>\n",
              "    <tr>\n",
              "      <th>580986</th>\n",
              "      <td>1,90E+11</td>\n",
              "      <td>Mirassol</td>\n",
              "      <td>17</td>\n",
              "      <td>F</td>\n",
              "      <td>solteiro(a)</td>\n",
              "      <td>nao_declarado</td>\n",
              "      <td>brasileiro(a)</td>\n",
              "      <td>nao_concluiu</td>\n",
              "      <td>nao_declarado</td>\n",
              "      <td>sim</td>\n",
              "      <td>...</td>\n",
              "      <td>645.3</td>\n",
              "      <td>ingles</td>\n",
              "      <td>sem_problemas</td>\n",
              "      <td>160.0</td>\n",
              "      <td>180.0</td>\n",
              "      <td>160.0</td>\n",
              "      <td>160.0</td>\n",
              "      <td>120.0</td>\n",
              "      <td>780.0</td>\n",
              "      <td>B</td>\n",
              "    </tr>\n",
              "    <tr>\n",
              "      <th>581020</th>\n",
              "      <td>1,90E+11</td>\n",
              "      <td>São Vicente</td>\n",
              "      <td>19</td>\n",
              "      <td>M</td>\n",
              "      <td>divorciado(a)</td>\n",
              "      <td>nao_declarado</td>\n",
              "      <td>brasileiro(a)</td>\n",
              "      <td>conclui_2019</td>\n",
              "      <td>publica</td>\n",
              "      <td>nao</td>\n",
              "      <td>...</td>\n",
              "      <td>425.4</td>\n",
              "      <td>ingles</td>\n",
              "      <td>sem_problemas</td>\n",
              "      <td>120.0</td>\n",
              "      <td>40.0</td>\n",
              "      <td>40.0</td>\n",
              "      <td>80.0</td>\n",
              "      <td>0.0</td>\n",
              "      <td>280.0</td>\n",
              "      <td>A</td>\n",
              "    </tr>\n",
              "    <tr>\n",
              "      <th>581099</th>\n",
              "      <td>1,90E+11</td>\n",
              "      <td>São Paulo</td>\n",
              "      <td>19</td>\n",
              "      <td>F</td>\n",
              "      <td>solteiro(a)</td>\n",
              "      <td>amarela</td>\n",
              "      <td>brasileiro(a)</td>\n",
              "      <td>ja_concluiu</td>\n",
              "      <td>nao_declarado</td>\n",
              "      <td>nao</td>\n",
              "      <td>...</td>\n",
              "      <td>671.7</td>\n",
              "      <td>ingles</td>\n",
              "      <td>sem_problemas</td>\n",
              "      <td>100.0</td>\n",
              "      <td>40.0</td>\n",
              "      <td>40.0</td>\n",
              "      <td>100.0</td>\n",
              "      <td>0.0</td>\n",
              "      <td>280.0</td>\n",
              "      <td>B</td>\n",
              "    </tr>\n",
              "    <tr>\n",
              "      <th>581116</th>\n",
              "      <td>1,90E+11</td>\n",
              "      <td>Mogi das Cruzes</td>\n",
              "      <td>19</td>\n",
              "      <td>M</td>\n",
              "      <td>solteiro(a)</td>\n",
              "      <td>amarela</td>\n",
              "      <td>brasileiro(a)</td>\n",
              "      <td>ja_concluiu</td>\n",
              "      <td>nao_declarado</td>\n",
              "      <td>nao</td>\n",
              "      <td>...</td>\n",
              "      <td>750.2</td>\n",
              "      <td>ingles</td>\n",
              "      <td>sem_problemas</td>\n",
              "      <td>120.0</td>\n",
              "      <td>160.0</td>\n",
              "      <td>140.0</td>\n",
              "      <td>180.0</td>\n",
              "      <td>160.0</td>\n",
              "      <td>760.0</td>\n",
              "      <td>B</td>\n",
              "    </tr>\n",
              "  </tbody>\n",
              "</table>\n",
              "<p>25123 rows × 28 columns</p>\n",
              "</div>\n",
              "      <button class=\"colab-df-convert\" onclick=\"convertToInteractive('df-f0cb9379-b90b-4aae-9e90-ad8fe5f6e3e6')\"\n",
              "              title=\"Convert this dataframe to an interactive table.\"\n",
              "              style=\"display:none;\">\n",
              "        \n",
              "  <svg xmlns=\"http://www.w3.org/2000/svg\" height=\"24px\"viewBox=\"0 0 24 24\"\n",
              "       width=\"24px\">\n",
              "    <path d=\"M0 0h24v24H0V0z\" fill=\"none\"/>\n",
              "    <path d=\"M18.56 5.44l.94 2.06.94-2.06 2.06-.94-2.06-.94-.94-2.06-.94 2.06-2.06.94zm-11 1L8.5 8.5l.94-2.06 2.06-.94-2.06-.94L8.5 2.5l-.94 2.06-2.06.94zm10 10l.94 2.06.94-2.06 2.06-.94-2.06-.94-.94-2.06-.94 2.06-2.06.94z\"/><path d=\"M17.41 7.96l-1.37-1.37c-.4-.4-.92-.59-1.43-.59-.52 0-1.04.2-1.43.59L10.3 9.45l-7.72 7.72c-.78.78-.78 2.05 0 2.83L4 21.41c.39.39.9.59 1.41.59.51 0 1.02-.2 1.41-.59l7.78-7.78 2.81-2.81c.8-.78.8-2.07 0-2.86zM5.41 20L4 18.59l7.72-7.72 1.47 1.35L5.41 20z\"/>\n",
              "  </svg>\n",
              "      </button>\n",
              "      \n",
              "  <style>\n",
              "    .colab-df-container {\n",
              "      display:flex;\n",
              "      flex-wrap:wrap;\n",
              "      gap: 12px;\n",
              "    }\n",
              "\n",
              "    .colab-df-convert {\n",
              "      background-color: #E8F0FE;\n",
              "      border: none;\n",
              "      border-radius: 50%;\n",
              "      cursor: pointer;\n",
              "      display: none;\n",
              "      fill: #1967D2;\n",
              "      height: 32px;\n",
              "      padding: 0 0 0 0;\n",
              "      width: 32px;\n",
              "    }\n",
              "\n",
              "    .colab-df-convert:hover {\n",
              "      background-color: #E2EBFA;\n",
              "      box-shadow: 0px 1px 2px rgba(60, 64, 67, 0.3), 0px 1px 3px 1px rgba(60, 64, 67, 0.15);\n",
              "      fill: #174EA6;\n",
              "    }\n",
              "\n",
              "    [theme=dark] .colab-df-convert {\n",
              "      background-color: #3B4455;\n",
              "      fill: #D2E3FC;\n",
              "    }\n",
              "\n",
              "    [theme=dark] .colab-df-convert:hover {\n",
              "      background-color: #434B5C;\n",
              "      box-shadow: 0px 1px 3px 1px rgba(0, 0, 0, 0.15);\n",
              "      filter: drop-shadow(0px 1px 2px rgba(0, 0, 0, 0.3));\n",
              "      fill: #FFFFFF;\n",
              "    }\n",
              "  </style>\n",
              "\n",
              "      <script>\n",
              "        const buttonEl =\n",
              "          document.querySelector('#df-f0cb9379-b90b-4aae-9e90-ad8fe5f6e3e6 button.colab-df-convert');\n",
              "        buttonEl.style.display =\n",
              "          google.colab.kernel.accessAllowed ? 'block' : 'none';\n",
              "\n",
              "        async function convertToInteractive(key) {\n",
              "          const element = document.querySelector('#df-f0cb9379-b90b-4aae-9e90-ad8fe5f6e3e6');\n",
              "          const dataTable =\n",
              "            await google.colab.kernel.invokeFunction('convertToInteractive',\n",
              "                                                     [key], {});\n",
              "          if (!dataTable) return;\n",
              "\n",
              "          const docLinkHtml = 'Like what you see? Visit the ' +\n",
              "            '<a target=\"_blank\" href=https://colab.research.google.com/notebooks/data_table.ipynb>data table notebook</a>'\n",
              "            + ' to learn more about interactive tables.';\n",
              "          element.innerHTML = '';\n",
              "          dataTable['output_type'] = 'display_data';\n",
              "          await google.colab.output.renderOutput(dataTable, element);\n",
              "          const docLink = document.createElement('div');\n",
              "          docLink.innerHTML = docLinkHtml;\n",
              "          element.appendChild(docLink);\n",
              "        }\n",
              "      </script>\n",
              "    </div>\n",
              "  </div>\n",
              "  "
            ]
          },
          "metadata": {},
          "execution_count": 27
        }
      ]
    },
    {
      "cell_type": "markdown",
      "source": [
        "# Análise de similaridades"
      ],
      "metadata": {
        "id": "_qa0y1aOwQia"
      }
    },
    {
      "cell_type": "markdown",
      "source": [
        "- Nesta etapa vamos criar uma correlação para analisar similaridades entre cor/raça com tipo de escola dos participantes."
      ],
      "metadata": {
        "id": "RDWS1kpMBdGX"
      }
    },
    {
      "cell_type": "code",
      "source": [
        "def gerarDf():\n",
        "  df_cross = pd.crosstab(df.COR_RACA, df.ESCOLA)\n",
        "  df_cross['total'] = df_cross['nao_declarado'] + df_cross['privada'] + df_cross['publica']\n",
        "  df_cross = df_cross.sort_values('total', ascending=False)\n",
        "  return df_cross\n",
        "\n",
        "df_cross = gerarDf()\n",
        "df_cross"
      ],
      "metadata": {
        "colab": {
          "base_uri": "https://localhost:8080/",
          "height": 269
        },
        "id": "qZdthtGhwSOg",
        "outputId": "451ea0b2-6be5-4bce-becd-7ecf2a438546"
      },
      "execution_count": 28,
      "outputs": [
        {
          "output_type": "execute_result",
          "data": {
            "text/plain": [
              "ESCOLA         nao_declarado  privada  publica   total\n",
              "COR_RACA                                              \n",
              "branca                198379    44121    93978  336478\n",
              "parda                  98516     7091    59673  165280\n",
              "preta                  33634     1715    18941   54290\n",
              "amarela                 8942     2051     3503   14496\n",
              "nao_declarado           5343      860     2338    8541\n",
              "indigena                1100       85      901    2086"
            ],
            "text/html": [
              "\n",
              "  <div id=\"df-e36261be-9a34-4c71-b18a-79528196c6ea\">\n",
              "    <div class=\"colab-df-container\">\n",
              "      <div>\n",
              "<style scoped>\n",
              "    .dataframe tbody tr th:only-of-type {\n",
              "        vertical-align: middle;\n",
              "    }\n",
              "\n",
              "    .dataframe tbody tr th {\n",
              "        vertical-align: top;\n",
              "    }\n",
              "\n",
              "    .dataframe thead th {\n",
              "        text-align: right;\n",
              "    }\n",
              "</style>\n",
              "<table border=\"1\" class=\"dataframe\">\n",
              "  <thead>\n",
              "    <tr style=\"text-align: right;\">\n",
              "      <th>ESCOLA</th>\n",
              "      <th>nao_declarado</th>\n",
              "      <th>privada</th>\n",
              "      <th>publica</th>\n",
              "      <th>total</th>\n",
              "    </tr>\n",
              "    <tr>\n",
              "      <th>COR_RACA</th>\n",
              "      <th></th>\n",
              "      <th></th>\n",
              "      <th></th>\n",
              "      <th></th>\n",
              "    </tr>\n",
              "  </thead>\n",
              "  <tbody>\n",
              "    <tr>\n",
              "      <th>branca</th>\n",
              "      <td>198379</td>\n",
              "      <td>44121</td>\n",
              "      <td>93978</td>\n",
              "      <td>336478</td>\n",
              "    </tr>\n",
              "    <tr>\n",
              "      <th>parda</th>\n",
              "      <td>98516</td>\n",
              "      <td>7091</td>\n",
              "      <td>59673</td>\n",
              "      <td>165280</td>\n",
              "    </tr>\n",
              "    <tr>\n",
              "      <th>preta</th>\n",
              "      <td>33634</td>\n",
              "      <td>1715</td>\n",
              "      <td>18941</td>\n",
              "      <td>54290</td>\n",
              "    </tr>\n",
              "    <tr>\n",
              "      <th>amarela</th>\n",
              "      <td>8942</td>\n",
              "      <td>2051</td>\n",
              "      <td>3503</td>\n",
              "      <td>14496</td>\n",
              "    </tr>\n",
              "    <tr>\n",
              "      <th>nao_declarado</th>\n",
              "      <td>5343</td>\n",
              "      <td>860</td>\n",
              "      <td>2338</td>\n",
              "      <td>8541</td>\n",
              "    </tr>\n",
              "    <tr>\n",
              "      <th>indigena</th>\n",
              "      <td>1100</td>\n",
              "      <td>85</td>\n",
              "      <td>901</td>\n",
              "      <td>2086</td>\n",
              "    </tr>\n",
              "  </tbody>\n",
              "</table>\n",
              "</div>\n",
              "      <button class=\"colab-df-convert\" onclick=\"convertToInteractive('df-e36261be-9a34-4c71-b18a-79528196c6ea')\"\n",
              "              title=\"Convert this dataframe to an interactive table.\"\n",
              "              style=\"display:none;\">\n",
              "        \n",
              "  <svg xmlns=\"http://www.w3.org/2000/svg\" height=\"24px\"viewBox=\"0 0 24 24\"\n",
              "       width=\"24px\">\n",
              "    <path d=\"M0 0h24v24H0V0z\" fill=\"none\"/>\n",
              "    <path d=\"M18.56 5.44l.94 2.06.94-2.06 2.06-.94-2.06-.94-.94-2.06-.94 2.06-2.06.94zm-11 1L8.5 8.5l.94-2.06 2.06-.94-2.06-.94L8.5 2.5l-.94 2.06-2.06.94zm10 10l.94 2.06.94-2.06 2.06-.94-2.06-.94-.94-2.06-.94 2.06-2.06.94z\"/><path d=\"M17.41 7.96l-1.37-1.37c-.4-.4-.92-.59-1.43-.59-.52 0-1.04.2-1.43.59L10.3 9.45l-7.72 7.72c-.78.78-.78 2.05 0 2.83L4 21.41c.39.39.9.59 1.41.59.51 0 1.02-.2 1.41-.59l7.78-7.78 2.81-2.81c.8-.78.8-2.07 0-2.86zM5.41 20L4 18.59l7.72-7.72 1.47 1.35L5.41 20z\"/>\n",
              "  </svg>\n",
              "      </button>\n",
              "      \n",
              "  <style>\n",
              "    .colab-df-container {\n",
              "      display:flex;\n",
              "      flex-wrap:wrap;\n",
              "      gap: 12px;\n",
              "    }\n",
              "\n",
              "    .colab-df-convert {\n",
              "      background-color: #E8F0FE;\n",
              "      border: none;\n",
              "      border-radius: 50%;\n",
              "      cursor: pointer;\n",
              "      display: none;\n",
              "      fill: #1967D2;\n",
              "      height: 32px;\n",
              "      padding: 0 0 0 0;\n",
              "      width: 32px;\n",
              "    }\n",
              "\n",
              "    .colab-df-convert:hover {\n",
              "      background-color: #E2EBFA;\n",
              "      box-shadow: 0px 1px 2px rgba(60, 64, 67, 0.3), 0px 1px 3px 1px rgba(60, 64, 67, 0.15);\n",
              "      fill: #174EA6;\n",
              "    }\n",
              "\n",
              "    [theme=dark] .colab-df-convert {\n",
              "      background-color: #3B4455;\n",
              "      fill: #D2E3FC;\n",
              "    }\n",
              "\n",
              "    [theme=dark] .colab-df-convert:hover {\n",
              "      background-color: #434B5C;\n",
              "      box-shadow: 0px 1px 3px 1px rgba(0, 0, 0, 0.15);\n",
              "      filter: drop-shadow(0px 1px 2px rgba(0, 0, 0, 0.3));\n",
              "      fill: #FFFFFF;\n",
              "    }\n",
              "  </style>\n",
              "\n",
              "      <script>\n",
              "        const buttonEl =\n",
              "          document.querySelector('#df-e36261be-9a34-4c71-b18a-79528196c6ea button.colab-df-convert');\n",
              "        buttonEl.style.display =\n",
              "          google.colab.kernel.accessAllowed ? 'block' : 'none';\n",
              "\n",
              "        async function convertToInteractive(key) {\n",
              "          const element = document.querySelector('#df-e36261be-9a34-4c71-b18a-79528196c6ea');\n",
              "          const dataTable =\n",
              "            await google.colab.kernel.invokeFunction('convertToInteractive',\n",
              "                                                     [key], {});\n",
              "          if (!dataTable) return;\n",
              "\n",
              "          const docLinkHtml = 'Like what you see? Visit the ' +\n",
              "            '<a target=\"_blank\" href=https://colab.research.google.com/notebooks/data_table.ipynb>data table notebook</a>'\n",
              "            + ' to learn more about interactive tables.';\n",
              "          element.innerHTML = '';\n",
              "          dataTable['output_type'] = 'display_data';\n",
              "          await google.colab.output.renderOutput(dataTable, element);\n",
              "          const docLink = document.createElement('div');\n",
              "          docLink.innerHTML = docLinkHtml;\n",
              "          element.appendChild(docLink);\n",
              "        }\n",
              "      </script>\n",
              "    </div>\n",
              "  </div>\n",
              "  "
            ]
          },
          "metadata": {},
          "execution_count": 28
        }
      ]
    },
    {
      "cell_type": "markdown",
      "source": [
        "Analisando por cima, conseguimos identificar que se sobressai os \"não declarados em relação ao tipo de escola, então vamos retirar eles e também os de cor/raça para não interferir no objetivo da nossa análise."
      ],
      "metadata": {
        "id": "Ah_IXqtMB3e1"
      }
    },
    {
      "cell_type": "markdown",
      "source": [
        "- Correlação de similaridade entre cor/raça com tipo de escola dos participantes sem os \"não declarados\""
      ],
      "metadata": {
        "id": "MXIpPbRRCLK3"
      }
    },
    {
      "cell_type": "code",
      "source": [
        "def gerarDfTratada():\n",
        "  df_cross_tratada = df_cross.drop('nao_declarado', axis=1)\n",
        "  df_cross_tratada = df_cross_tratada.drop('nao_declarado', axis=0)\n",
        "  df_cross_tratada['total'] = df_cross_tratada['privada'] + df_cross_tratada['publica']\n",
        "  return df_cross_tratada\n",
        "\n",
        "df_cross_tratada = gerarDfTratada()\n",
        "df_cross_tratada"
      ],
      "metadata": {
        "colab": {
          "base_uri": "https://localhost:8080/",
          "height": 238
        },
        "id": "onr6-jAIyRa2",
        "outputId": "72870103-1bb5-422e-bf54-7e59a86af3ac"
      },
      "execution_count": 29,
      "outputs": [
        {
          "output_type": "execute_result",
          "data": {
            "text/plain": [
              "ESCOLA    privada  publica   total\n",
              "COR_RACA                          \n",
              "branca      44121    93978  138099\n",
              "parda        7091    59673   66764\n",
              "preta        1715    18941   20656\n",
              "amarela      2051     3503    5554\n",
              "indigena       85      901     986"
            ],
            "text/html": [
              "\n",
              "  <div id=\"df-5ea6501b-3669-46b4-a9e6-31e0250db6b6\">\n",
              "    <div class=\"colab-df-container\">\n",
              "      <div>\n",
              "<style scoped>\n",
              "    .dataframe tbody tr th:only-of-type {\n",
              "        vertical-align: middle;\n",
              "    }\n",
              "\n",
              "    .dataframe tbody tr th {\n",
              "        vertical-align: top;\n",
              "    }\n",
              "\n",
              "    .dataframe thead th {\n",
              "        text-align: right;\n",
              "    }\n",
              "</style>\n",
              "<table border=\"1\" class=\"dataframe\">\n",
              "  <thead>\n",
              "    <tr style=\"text-align: right;\">\n",
              "      <th>ESCOLA</th>\n",
              "      <th>privada</th>\n",
              "      <th>publica</th>\n",
              "      <th>total</th>\n",
              "    </tr>\n",
              "    <tr>\n",
              "      <th>COR_RACA</th>\n",
              "      <th></th>\n",
              "      <th></th>\n",
              "      <th></th>\n",
              "    </tr>\n",
              "  </thead>\n",
              "  <tbody>\n",
              "    <tr>\n",
              "      <th>branca</th>\n",
              "      <td>44121</td>\n",
              "      <td>93978</td>\n",
              "      <td>138099</td>\n",
              "    </tr>\n",
              "    <tr>\n",
              "      <th>parda</th>\n",
              "      <td>7091</td>\n",
              "      <td>59673</td>\n",
              "      <td>66764</td>\n",
              "    </tr>\n",
              "    <tr>\n",
              "      <th>preta</th>\n",
              "      <td>1715</td>\n",
              "      <td>18941</td>\n",
              "      <td>20656</td>\n",
              "    </tr>\n",
              "    <tr>\n",
              "      <th>amarela</th>\n",
              "      <td>2051</td>\n",
              "      <td>3503</td>\n",
              "      <td>5554</td>\n",
              "    </tr>\n",
              "    <tr>\n",
              "      <th>indigena</th>\n",
              "      <td>85</td>\n",
              "      <td>901</td>\n",
              "      <td>986</td>\n",
              "    </tr>\n",
              "  </tbody>\n",
              "</table>\n",
              "</div>\n",
              "      <button class=\"colab-df-convert\" onclick=\"convertToInteractive('df-5ea6501b-3669-46b4-a9e6-31e0250db6b6')\"\n",
              "              title=\"Convert this dataframe to an interactive table.\"\n",
              "              style=\"display:none;\">\n",
              "        \n",
              "  <svg xmlns=\"http://www.w3.org/2000/svg\" height=\"24px\"viewBox=\"0 0 24 24\"\n",
              "       width=\"24px\">\n",
              "    <path d=\"M0 0h24v24H0V0z\" fill=\"none\"/>\n",
              "    <path d=\"M18.56 5.44l.94 2.06.94-2.06 2.06-.94-2.06-.94-.94-2.06-.94 2.06-2.06.94zm-11 1L8.5 8.5l.94-2.06 2.06-.94-2.06-.94L8.5 2.5l-.94 2.06-2.06.94zm10 10l.94 2.06.94-2.06 2.06-.94-2.06-.94-.94-2.06-.94 2.06-2.06.94z\"/><path d=\"M17.41 7.96l-1.37-1.37c-.4-.4-.92-.59-1.43-.59-.52 0-1.04.2-1.43.59L10.3 9.45l-7.72 7.72c-.78.78-.78 2.05 0 2.83L4 21.41c.39.39.9.59 1.41.59.51 0 1.02-.2 1.41-.59l7.78-7.78 2.81-2.81c.8-.78.8-2.07 0-2.86zM5.41 20L4 18.59l7.72-7.72 1.47 1.35L5.41 20z\"/>\n",
              "  </svg>\n",
              "      </button>\n",
              "      \n",
              "  <style>\n",
              "    .colab-df-container {\n",
              "      display:flex;\n",
              "      flex-wrap:wrap;\n",
              "      gap: 12px;\n",
              "    }\n",
              "\n",
              "    .colab-df-convert {\n",
              "      background-color: #E8F0FE;\n",
              "      border: none;\n",
              "      border-radius: 50%;\n",
              "      cursor: pointer;\n",
              "      display: none;\n",
              "      fill: #1967D2;\n",
              "      height: 32px;\n",
              "      padding: 0 0 0 0;\n",
              "      width: 32px;\n",
              "    }\n",
              "\n",
              "    .colab-df-convert:hover {\n",
              "      background-color: #E2EBFA;\n",
              "      box-shadow: 0px 1px 2px rgba(60, 64, 67, 0.3), 0px 1px 3px 1px rgba(60, 64, 67, 0.15);\n",
              "      fill: #174EA6;\n",
              "    }\n",
              "\n",
              "    [theme=dark] .colab-df-convert {\n",
              "      background-color: #3B4455;\n",
              "      fill: #D2E3FC;\n",
              "    }\n",
              "\n",
              "    [theme=dark] .colab-df-convert:hover {\n",
              "      background-color: #434B5C;\n",
              "      box-shadow: 0px 1px 3px 1px rgba(0, 0, 0, 0.15);\n",
              "      filter: drop-shadow(0px 1px 2px rgba(0, 0, 0, 0.3));\n",
              "      fill: #FFFFFF;\n",
              "    }\n",
              "  </style>\n",
              "\n",
              "      <script>\n",
              "        const buttonEl =\n",
              "          document.querySelector('#df-5ea6501b-3669-46b4-a9e6-31e0250db6b6 button.colab-df-convert');\n",
              "        buttonEl.style.display =\n",
              "          google.colab.kernel.accessAllowed ? 'block' : 'none';\n",
              "\n",
              "        async function convertToInteractive(key) {\n",
              "          const element = document.querySelector('#df-5ea6501b-3669-46b4-a9e6-31e0250db6b6');\n",
              "          const dataTable =\n",
              "            await google.colab.kernel.invokeFunction('convertToInteractive',\n",
              "                                                     [key], {});\n",
              "          if (!dataTable) return;\n",
              "\n",
              "          const docLinkHtml = 'Like what you see? Visit the ' +\n",
              "            '<a target=\"_blank\" href=https://colab.research.google.com/notebooks/data_table.ipynb>data table notebook</a>'\n",
              "            + ' to learn more about interactive tables.';\n",
              "          element.innerHTML = '';\n",
              "          dataTable['output_type'] = 'display_data';\n",
              "          await google.colab.output.renderOutput(dataTable, element);\n",
              "          const docLink = document.createElement('div');\n",
              "          docLink.innerHTML = docLinkHtml;\n",
              "          element.appendChild(docLink);\n",
              "        }\n",
              "      </script>\n",
              "    </div>\n",
              "  </div>\n",
              "  "
            ]
          },
          "metadata": {},
          "execution_count": 29
        }
      ]
    },
    {
      "cell_type": "markdown",
      "source": [
        "Podendo visualizar melhor, conseguimos identificar que temos mais participantes de escola pública em todas as cores/raças do que de escolas privadas, mas em algumas cores/raças essa proporção aumenta."
      ],
      "metadata": {
        "id": "mggp8YmICTD5"
      }
    },
    {
      "cell_type": "markdown",
      "source": [
        "- Correlação de similaridade entre cor/raça com tipo de escola dos participantes sem os \"não declarados\" com visualização de porcentagem"
      ],
      "metadata": {
        "id": "97hCKLeiCs7K"
      }
    },
    {
      "cell_type": "code",
      "source": [
        "df_cross_tratada = gerarDfTratada()\n",
        "df_cross_tratada\n",
        "\n",
        "df_cross_percent = df_cross_tratada\n",
        "df_cross_percent['privada'] = (df_cross_percent['privada']/df_cross_percent['total'])*100\n",
        "df_cross_percent['publica'] = (df_cross_percent['publica']/df_cross_percent['total'])*100\n",
        "df_cross_percent"
      ],
      "metadata": {
        "colab": {
          "base_uri": "https://localhost:8080/",
          "height": 238
        },
        "id": "DMa6aCiHyl9Z",
        "outputId": "a36e842a-14c1-48b6-f048-b04776031a24"
      },
      "execution_count": 30,
      "outputs": [
        {
          "output_type": "execute_result",
          "data": {
            "text/plain": [
              "ESCOLA      privada    publica   total\n",
              "COR_RACA                              \n",
              "branca    31.948819  68.051181  138099\n",
              "parda     10.620993  89.379007   66764\n",
              "preta      8.302672  91.697328   20656\n",
              "amarela   36.928340  63.071660    5554\n",
              "indigena   8.620690  91.379310     986"
            ],
            "text/html": [
              "\n",
              "  <div id=\"df-e9e2e5ee-d596-4d3e-89f7-90fe8cba9c73\">\n",
              "    <div class=\"colab-df-container\">\n",
              "      <div>\n",
              "<style scoped>\n",
              "    .dataframe tbody tr th:only-of-type {\n",
              "        vertical-align: middle;\n",
              "    }\n",
              "\n",
              "    .dataframe tbody tr th {\n",
              "        vertical-align: top;\n",
              "    }\n",
              "\n",
              "    .dataframe thead th {\n",
              "        text-align: right;\n",
              "    }\n",
              "</style>\n",
              "<table border=\"1\" class=\"dataframe\">\n",
              "  <thead>\n",
              "    <tr style=\"text-align: right;\">\n",
              "      <th>ESCOLA</th>\n",
              "      <th>privada</th>\n",
              "      <th>publica</th>\n",
              "      <th>total</th>\n",
              "    </tr>\n",
              "    <tr>\n",
              "      <th>COR_RACA</th>\n",
              "      <th></th>\n",
              "      <th></th>\n",
              "      <th></th>\n",
              "    </tr>\n",
              "  </thead>\n",
              "  <tbody>\n",
              "    <tr>\n",
              "      <th>branca</th>\n",
              "      <td>31.948819</td>\n",
              "      <td>68.051181</td>\n",
              "      <td>138099</td>\n",
              "    </tr>\n",
              "    <tr>\n",
              "      <th>parda</th>\n",
              "      <td>10.620993</td>\n",
              "      <td>89.379007</td>\n",
              "      <td>66764</td>\n",
              "    </tr>\n",
              "    <tr>\n",
              "      <th>preta</th>\n",
              "      <td>8.302672</td>\n",
              "      <td>91.697328</td>\n",
              "      <td>20656</td>\n",
              "    </tr>\n",
              "    <tr>\n",
              "      <th>amarela</th>\n",
              "      <td>36.928340</td>\n",
              "      <td>63.071660</td>\n",
              "      <td>5554</td>\n",
              "    </tr>\n",
              "    <tr>\n",
              "      <th>indigena</th>\n",
              "      <td>8.620690</td>\n",
              "      <td>91.379310</td>\n",
              "      <td>986</td>\n",
              "    </tr>\n",
              "  </tbody>\n",
              "</table>\n",
              "</div>\n",
              "      <button class=\"colab-df-convert\" onclick=\"convertToInteractive('df-e9e2e5ee-d596-4d3e-89f7-90fe8cba9c73')\"\n",
              "              title=\"Convert this dataframe to an interactive table.\"\n",
              "              style=\"display:none;\">\n",
              "        \n",
              "  <svg xmlns=\"http://www.w3.org/2000/svg\" height=\"24px\"viewBox=\"0 0 24 24\"\n",
              "       width=\"24px\">\n",
              "    <path d=\"M0 0h24v24H0V0z\" fill=\"none\"/>\n",
              "    <path d=\"M18.56 5.44l.94 2.06.94-2.06 2.06-.94-2.06-.94-.94-2.06-.94 2.06-2.06.94zm-11 1L8.5 8.5l.94-2.06 2.06-.94-2.06-.94L8.5 2.5l-.94 2.06-2.06.94zm10 10l.94 2.06.94-2.06 2.06-.94-2.06-.94-.94-2.06-.94 2.06-2.06.94z\"/><path d=\"M17.41 7.96l-1.37-1.37c-.4-.4-.92-.59-1.43-.59-.52 0-1.04.2-1.43.59L10.3 9.45l-7.72 7.72c-.78.78-.78 2.05 0 2.83L4 21.41c.39.39.9.59 1.41.59.51 0 1.02-.2 1.41-.59l7.78-7.78 2.81-2.81c.8-.78.8-2.07 0-2.86zM5.41 20L4 18.59l7.72-7.72 1.47 1.35L5.41 20z\"/>\n",
              "  </svg>\n",
              "      </button>\n",
              "      \n",
              "  <style>\n",
              "    .colab-df-container {\n",
              "      display:flex;\n",
              "      flex-wrap:wrap;\n",
              "      gap: 12px;\n",
              "    }\n",
              "\n",
              "    .colab-df-convert {\n",
              "      background-color: #E8F0FE;\n",
              "      border: none;\n",
              "      border-radius: 50%;\n",
              "      cursor: pointer;\n",
              "      display: none;\n",
              "      fill: #1967D2;\n",
              "      height: 32px;\n",
              "      padding: 0 0 0 0;\n",
              "      width: 32px;\n",
              "    }\n",
              "\n",
              "    .colab-df-convert:hover {\n",
              "      background-color: #E2EBFA;\n",
              "      box-shadow: 0px 1px 2px rgba(60, 64, 67, 0.3), 0px 1px 3px 1px rgba(60, 64, 67, 0.15);\n",
              "      fill: #174EA6;\n",
              "    }\n",
              "\n",
              "    [theme=dark] .colab-df-convert {\n",
              "      background-color: #3B4455;\n",
              "      fill: #D2E3FC;\n",
              "    }\n",
              "\n",
              "    [theme=dark] .colab-df-convert:hover {\n",
              "      background-color: #434B5C;\n",
              "      box-shadow: 0px 1px 3px 1px rgba(0, 0, 0, 0.15);\n",
              "      filter: drop-shadow(0px 1px 2px rgba(0, 0, 0, 0.3));\n",
              "      fill: #FFFFFF;\n",
              "    }\n",
              "  </style>\n",
              "\n",
              "      <script>\n",
              "        const buttonEl =\n",
              "          document.querySelector('#df-e9e2e5ee-d596-4d3e-89f7-90fe8cba9c73 button.colab-df-convert');\n",
              "        buttonEl.style.display =\n",
              "          google.colab.kernel.accessAllowed ? 'block' : 'none';\n",
              "\n",
              "        async function convertToInteractive(key) {\n",
              "          const element = document.querySelector('#df-e9e2e5ee-d596-4d3e-89f7-90fe8cba9c73');\n",
              "          const dataTable =\n",
              "            await google.colab.kernel.invokeFunction('convertToInteractive',\n",
              "                                                     [key], {});\n",
              "          if (!dataTable) return;\n",
              "\n",
              "          const docLinkHtml = 'Like what you see? Visit the ' +\n",
              "            '<a target=\"_blank\" href=https://colab.research.google.com/notebooks/data_table.ipynb>data table notebook</a>'\n",
              "            + ' to learn more about interactive tables.';\n",
              "          element.innerHTML = '';\n",
              "          dataTable['output_type'] = 'display_data';\n",
              "          await google.colab.output.renderOutput(dataTable, element);\n",
              "          const docLink = document.createElement('div');\n",
              "          docLink.innerHTML = docLinkHtml;\n",
              "          element.appendChild(docLink);\n",
              "        }\n",
              "      </script>\n",
              "    </div>\n",
              "  </div>\n",
              "  "
            ]
          },
          "metadata": {},
          "execution_count": 30
        }
      ]
    },
    {
      "cell_type": "markdown",
      "source": [
        "- Remoção da tabela total com ordenação de porcentagem por escola pública"
      ],
      "metadata": {
        "id": "oJLpgLd9C3Ks"
      }
    },
    {
      "cell_type": "code",
      "source": [
        "df_cross_percent_order_pb = df_cross_percent.sort_values('publica', ascending=False)\n",
        "df_cross_percent_order_pb = df_cross_percent_order_pb.drop('total', axis=1)\n",
        "df_cross_percent_order_pb"
      ],
      "metadata": {
        "id": "cf9QiUYMzo0g",
        "outputId": "2d02e2c4-1809-4854-d665-8ef94dcd24b0",
        "colab": {
          "base_uri": "https://localhost:8080/",
          "height": 238
        }
      },
      "execution_count": 31,
      "outputs": [
        {
          "output_type": "execute_result",
          "data": {
            "text/plain": [
              "ESCOLA      privada    publica\n",
              "COR_RACA                      \n",
              "preta      8.302672  91.697328\n",
              "indigena   8.620690  91.379310\n",
              "parda     10.620993  89.379007\n",
              "branca    31.948819  68.051181\n",
              "amarela   36.928340  63.071660"
            ],
            "text/html": [
              "\n",
              "  <div id=\"df-2b51226e-c59e-4550-a5e5-57406718ee18\">\n",
              "    <div class=\"colab-df-container\">\n",
              "      <div>\n",
              "<style scoped>\n",
              "    .dataframe tbody tr th:only-of-type {\n",
              "        vertical-align: middle;\n",
              "    }\n",
              "\n",
              "    .dataframe tbody tr th {\n",
              "        vertical-align: top;\n",
              "    }\n",
              "\n",
              "    .dataframe thead th {\n",
              "        text-align: right;\n",
              "    }\n",
              "</style>\n",
              "<table border=\"1\" class=\"dataframe\">\n",
              "  <thead>\n",
              "    <tr style=\"text-align: right;\">\n",
              "      <th>ESCOLA</th>\n",
              "      <th>privada</th>\n",
              "      <th>publica</th>\n",
              "    </tr>\n",
              "    <tr>\n",
              "      <th>COR_RACA</th>\n",
              "      <th></th>\n",
              "      <th></th>\n",
              "    </tr>\n",
              "  </thead>\n",
              "  <tbody>\n",
              "    <tr>\n",
              "      <th>preta</th>\n",
              "      <td>8.302672</td>\n",
              "      <td>91.697328</td>\n",
              "    </tr>\n",
              "    <tr>\n",
              "      <th>indigena</th>\n",
              "      <td>8.620690</td>\n",
              "      <td>91.379310</td>\n",
              "    </tr>\n",
              "    <tr>\n",
              "      <th>parda</th>\n",
              "      <td>10.620993</td>\n",
              "      <td>89.379007</td>\n",
              "    </tr>\n",
              "    <tr>\n",
              "      <th>branca</th>\n",
              "      <td>31.948819</td>\n",
              "      <td>68.051181</td>\n",
              "    </tr>\n",
              "    <tr>\n",
              "      <th>amarela</th>\n",
              "      <td>36.928340</td>\n",
              "      <td>63.071660</td>\n",
              "    </tr>\n",
              "  </tbody>\n",
              "</table>\n",
              "</div>\n",
              "      <button class=\"colab-df-convert\" onclick=\"convertToInteractive('df-2b51226e-c59e-4550-a5e5-57406718ee18')\"\n",
              "              title=\"Convert this dataframe to an interactive table.\"\n",
              "              style=\"display:none;\">\n",
              "        \n",
              "  <svg xmlns=\"http://www.w3.org/2000/svg\" height=\"24px\"viewBox=\"0 0 24 24\"\n",
              "       width=\"24px\">\n",
              "    <path d=\"M0 0h24v24H0V0z\" fill=\"none\"/>\n",
              "    <path d=\"M18.56 5.44l.94 2.06.94-2.06 2.06-.94-2.06-.94-.94-2.06-.94 2.06-2.06.94zm-11 1L8.5 8.5l.94-2.06 2.06-.94-2.06-.94L8.5 2.5l-.94 2.06-2.06.94zm10 10l.94 2.06.94-2.06 2.06-.94-2.06-.94-.94-2.06-.94 2.06-2.06.94z\"/><path d=\"M17.41 7.96l-1.37-1.37c-.4-.4-.92-.59-1.43-.59-.52 0-1.04.2-1.43.59L10.3 9.45l-7.72 7.72c-.78.78-.78 2.05 0 2.83L4 21.41c.39.39.9.59 1.41.59.51 0 1.02-.2 1.41-.59l7.78-7.78 2.81-2.81c.8-.78.8-2.07 0-2.86zM5.41 20L4 18.59l7.72-7.72 1.47 1.35L5.41 20z\"/>\n",
              "  </svg>\n",
              "      </button>\n",
              "      \n",
              "  <style>\n",
              "    .colab-df-container {\n",
              "      display:flex;\n",
              "      flex-wrap:wrap;\n",
              "      gap: 12px;\n",
              "    }\n",
              "\n",
              "    .colab-df-convert {\n",
              "      background-color: #E8F0FE;\n",
              "      border: none;\n",
              "      border-radius: 50%;\n",
              "      cursor: pointer;\n",
              "      display: none;\n",
              "      fill: #1967D2;\n",
              "      height: 32px;\n",
              "      padding: 0 0 0 0;\n",
              "      width: 32px;\n",
              "    }\n",
              "\n",
              "    .colab-df-convert:hover {\n",
              "      background-color: #E2EBFA;\n",
              "      box-shadow: 0px 1px 2px rgba(60, 64, 67, 0.3), 0px 1px 3px 1px rgba(60, 64, 67, 0.15);\n",
              "      fill: #174EA6;\n",
              "    }\n",
              "\n",
              "    [theme=dark] .colab-df-convert {\n",
              "      background-color: #3B4455;\n",
              "      fill: #D2E3FC;\n",
              "    }\n",
              "\n",
              "    [theme=dark] .colab-df-convert:hover {\n",
              "      background-color: #434B5C;\n",
              "      box-shadow: 0px 1px 3px 1px rgba(0, 0, 0, 0.15);\n",
              "      filter: drop-shadow(0px 1px 2px rgba(0, 0, 0, 0.3));\n",
              "      fill: #FFFFFF;\n",
              "    }\n",
              "  </style>\n",
              "\n",
              "      <script>\n",
              "        const buttonEl =\n",
              "          document.querySelector('#df-2b51226e-c59e-4550-a5e5-57406718ee18 button.colab-df-convert');\n",
              "        buttonEl.style.display =\n",
              "          google.colab.kernel.accessAllowed ? 'block' : 'none';\n",
              "\n",
              "        async function convertToInteractive(key) {\n",
              "          const element = document.querySelector('#df-2b51226e-c59e-4550-a5e5-57406718ee18');\n",
              "          const dataTable =\n",
              "            await google.colab.kernel.invokeFunction('convertToInteractive',\n",
              "                                                     [key], {});\n",
              "          if (!dataTable) return;\n",
              "\n",
              "          const docLinkHtml = 'Like what you see? Visit the ' +\n",
              "            '<a target=\"_blank\" href=https://colab.research.google.com/notebooks/data_table.ipynb>data table notebook</a>'\n",
              "            + ' to learn more about interactive tables.';\n",
              "          element.innerHTML = '';\n",
              "          dataTable['output_type'] = 'display_data';\n",
              "          await google.colab.output.renderOutput(dataTable, element);\n",
              "          const docLink = document.createElement('div');\n",
              "          docLink.innerHTML = docLinkHtml;\n",
              "          element.appendChild(docLink);\n",
              "        }\n",
              "      </script>\n",
              "    </div>\n",
              "  </div>\n",
              "  "
            ]
          },
          "metadata": {},
          "execution_count": 31
        }
      ]
    },
    {
      "cell_type": "markdown",
      "source": [
        "Agora que temos a porcentagem dessa proporção, essa correlação nos traz a informação de que pessoas da cor/raça preta e indígena que participaram do ENEM são quase que 100% (mais de 90%) de escolas públicas, sendo bem diferente para a cor/raça branca e amarela, que possuem bem mais pessoas de escolas privadas."
      ],
      "metadata": {
        "id": "X0J1kGozC9ul"
      }
    },
    {
      "cell_type": "markdown",
      "source": [
        "- Geração de matriz de correções entre cor/reça."
      ],
      "metadata": {
        "id": "1aN5ebmtEc1E"
      }
    },
    {
      "cell_type": "code",
      "source": [
        "df_cross_aux = pd.crosstab(df.ESCOLA, df.COR_RACA)\n",
        "df_corr = df_cross_aux.corr()\n",
        "df_corr"
      ],
      "metadata": {
        "id": "DhjBMV3r1Qpp",
        "outputId": "ab5c41ad-aa07-41a1-d250-edcd30e0db5e",
        "colab": {
          "base_uri": "https://localhost:8080/",
          "height": 269
        }
      },
      "execution_count": 32,
      "outputs": [
        {
          "output_type": "execute_result",
          "data": {
            "text/plain": [
              "COR_RACA        amarela    branca  indigena  nao_declarado     parda     preta\n",
              "COR_RACA                                                                      \n",
              "amarela        1.000000  0.992687  0.790041       0.991792  0.917545  0.932986\n",
              "branca         0.992687  1.000000  0.858269       0.999974  0.958836  0.969610\n",
              "indigena       0.790041  0.858269  1.000000       0.861942  0.968668  0.957743\n",
              "nao_declarado  0.991792  0.999974  0.861942       1.000000  0.960855  0.971347\n",
              "parda          0.917545  0.958836  0.968668       0.960855  1.000000  0.999169\n",
              "preta          0.932986  0.969610  0.957743       0.971347  0.999169  1.000000"
            ],
            "text/html": [
              "\n",
              "  <div id=\"df-c1bf4341-a1aa-4749-8cea-821c7c674221\">\n",
              "    <div class=\"colab-df-container\">\n",
              "      <div>\n",
              "<style scoped>\n",
              "    .dataframe tbody tr th:only-of-type {\n",
              "        vertical-align: middle;\n",
              "    }\n",
              "\n",
              "    .dataframe tbody tr th {\n",
              "        vertical-align: top;\n",
              "    }\n",
              "\n",
              "    .dataframe thead th {\n",
              "        text-align: right;\n",
              "    }\n",
              "</style>\n",
              "<table border=\"1\" class=\"dataframe\">\n",
              "  <thead>\n",
              "    <tr style=\"text-align: right;\">\n",
              "      <th>COR_RACA</th>\n",
              "      <th>amarela</th>\n",
              "      <th>branca</th>\n",
              "      <th>indigena</th>\n",
              "      <th>nao_declarado</th>\n",
              "      <th>parda</th>\n",
              "      <th>preta</th>\n",
              "    </tr>\n",
              "    <tr>\n",
              "      <th>COR_RACA</th>\n",
              "      <th></th>\n",
              "      <th></th>\n",
              "      <th></th>\n",
              "      <th></th>\n",
              "      <th></th>\n",
              "      <th></th>\n",
              "    </tr>\n",
              "  </thead>\n",
              "  <tbody>\n",
              "    <tr>\n",
              "      <th>amarela</th>\n",
              "      <td>1.000000</td>\n",
              "      <td>0.992687</td>\n",
              "      <td>0.790041</td>\n",
              "      <td>0.991792</td>\n",
              "      <td>0.917545</td>\n",
              "      <td>0.932986</td>\n",
              "    </tr>\n",
              "    <tr>\n",
              "      <th>branca</th>\n",
              "      <td>0.992687</td>\n",
              "      <td>1.000000</td>\n",
              "      <td>0.858269</td>\n",
              "      <td>0.999974</td>\n",
              "      <td>0.958836</td>\n",
              "      <td>0.969610</td>\n",
              "    </tr>\n",
              "    <tr>\n",
              "      <th>indigena</th>\n",
              "      <td>0.790041</td>\n",
              "      <td>0.858269</td>\n",
              "      <td>1.000000</td>\n",
              "      <td>0.861942</td>\n",
              "      <td>0.968668</td>\n",
              "      <td>0.957743</td>\n",
              "    </tr>\n",
              "    <tr>\n",
              "      <th>nao_declarado</th>\n",
              "      <td>0.991792</td>\n",
              "      <td>0.999974</td>\n",
              "      <td>0.861942</td>\n",
              "      <td>1.000000</td>\n",
              "      <td>0.960855</td>\n",
              "      <td>0.971347</td>\n",
              "    </tr>\n",
              "    <tr>\n",
              "      <th>parda</th>\n",
              "      <td>0.917545</td>\n",
              "      <td>0.958836</td>\n",
              "      <td>0.968668</td>\n",
              "      <td>0.960855</td>\n",
              "      <td>1.000000</td>\n",
              "      <td>0.999169</td>\n",
              "    </tr>\n",
              "    <tr>\n",
              "      <th>preta</th>\n",
              "      <td>0.932986</td>\n",
              "      <td>0.969610</td>\n",
              "      <td>0.957743</td>\n",
              "      <td>0.971347</td>\n",
              "      <td>0.999169</td>\n",
              "      <td>1.000000</td>\n",
              "    </tr>\n",
              "  </tbody>\n",
              "</table>\n",
              "</div>\n",
              "      <button class=\"colab-df-convert\" onclick=\"convertToInteractive('df-c1bf4341-a1aa-4749-8cea-821c7c674221')\"\n",
              "              title=\"Convert this dataframe to an interactive table.\"\n",
              "              style=\"display:none;\">\n",
              "        \n",
              "  <svg xmlns=\"http://www.w3.org/2000/svg\" height=\"24px\"viewBox=\"0 0 24 24\"\n",
              "       width=\"24px\">\n",
              "    <path d=\"M0 0h24v24H0V0z\" fill=\"none\"/>\n",
              "    <path d=\"M18.56 5.44l.94 2.06.94-2.06 2.06-.94-2.06-.94-.94-2.06-.94 2.06-2.06.94zm-11 1L8.5 8.5l.94-2.06 2.06-.94-2.06-.94L8.5 2.5l-.94 2.06-2.06.94zm10 10l.94 2.06.94-2.06 2.06-.94-2.06-.94-.94-2.06-.94 2.06-2.06.94z\"/><path d=\"M17.41 7.96l-1.37-1.37c-.4-.4-.92-.59-1.43-.59-.52 0-1.04.2-1.43.59L10.3 9.45l-7.72 7.72c-.78.78-.78 2.05 0 2.83L4 21.41c.39.39.9.59 1.41.59.51 0 1.02-.2 1.41-.59l7.78-7.78 2.81-2.81c.8-.78.8-2.07 0-2.86zM5.41 20L4 18.59l7.72-7.72 1.47 1.35L5.41 20z\"/>\n",
              "  </svg>\n",
              "      </button>\n",
              "      \n",
              "  <style>\n",
              "    .colab-df-container {\n",
              "      display:flex;\n",
              "      flex-wrap:wrap;\n",
              "      gap: 12px;\n",
              "    }\n",
              "\n",
              "    .colab-df-convert {\n",
              "      background-color: #E8F0FE;\n",
              "      border: none;\n",
              "      border-radius: 50%;\n",
              "      cursor: pointer;\n",
              "      display: none;\n",
              "      fill: #1967D2;\n",
              "      height: 32px;\n",
              "      padding: 0 0 0 0;\n",
              "      width: 32px;\n",
              "    }\n",
              "\n",
              "    .colab-df-convert:hover {\n",
              "      background-color: #E2EBFA;\n",
              "      box-shadow: 0px 1px 2px rgba(60, 64, 67, 0.3), 0px 1px 3px 1px rgba(60, 64, 67, 0.15);\n",
              "      fill: #174EA6;\n",
              "    }\n",
              "\n",
              "    [theme=dark] .colab-df-convert {\n",
              "      background-color: #3B4455;\n",
              "      fill: #D2E3FC;\n",
              "    }\n",
              "\n",
              "    [theme=dark] .colab-df-convert:hover {\n",
              "      background-color: #434B5C;\n",
              "      box-shadow: 0px 1px 3px 1px rgba(0, 0, 0, 0.15);\n",
              "      filter: drop-shadow(0px 1px 2px rgba(0, 0, 0, 0.3));\n",
              "      fill: #FFFFFF;\n",
              "    }\n",
              "  </style>\n",
              "\n",
              "      <script>\n",
              "        const buttonEl =\n",
              "          document.querySelector('#df-c1bf4341-a1aa-4749-8cea-821c7c674221 button.colab-df-convert');\n",
              "        buttonEl.style.display =\n",
              "          google.colab.kernel.accessAllowed ? 'block' : 'none';\n",
              "\n",
              "        async function convertToInteractive(key) {\n",
              "          const element = document.querySelector('#df-c1bf4341-a1aa-4749-8cea-821c7c674221');\n",
              "          const dataTable =\n",
              "            await google.colab.kernel.invokeFunction('convertToInteractive',\n",
              "                                                     [key], {});\n",
              "          if (!dataTable) return;\n",
              "\n",
              "          const docLinkHtml = 'Like what you see? Visit the ' +\n",
              "            '<a target=\"_blank\" href=https://colab.research.google.com/notebooks/data_table.ipynb>data table notebook</a>'\n",
              "            + ' to learn more about interactive tables.';\n",
              "          element.innerHTML = '';\n",
              "          dataTable['output_type'] = 'display_data';\n",
              "          await google.colab.output.renderOutput(dataTable, element);\n",
              "          const docLink = document.createElement('div');\n",
              "          docLink.innerHTML = docLinkHtml;\n",
              "          element.appendChild(docLink);\n",
              "        }\n",
              "      </script>\n",
              "    </div>\n",
              "  </div>\n",
              "  "
            ]
          },
          "metadata": {},
          "execution_count": 32
        }
      ]
    },
    {
      "cell_type": "code",
      "source": [
        "df_corr_aux = df_corr.style.background_gradient(cmap=\"RdBu\")\n",
        "df_corr_aux"
      ],
      "metadata": {
        "id": "U8UAEAtA1853",
        "outputId": "40293d5d-d3c6-4571-a6b4-bbc93b7f272d",
        "colab": {
          "base_uri": "https://localhost:8080/",
          "height": 269
        }
      },
      "execution_count": 33,
      "outputs": [
        {
          "output_type": "execute_result",
          "data": {
            "text/plain": [
              "<pandas.io.formats.style.Styler at 0x7fbf13161450>"
            ],
            "text/html": [
              "<style type=\"text/css\">\n",
              "#T_5ab3d_row0_col0, #T_5ab3d_row1_col1, #T_5ab3d_row1_col3, #T_5ab3d_row2_col2, #T_5ab3d_row3_col1, #T_5ab3d_row3_col3, #T_5ab3d_row4_col4, #T_5ab3d_row5_col5 {\n",
              "  background-color: #053061;\n",
              "  color: #f1f1f1;\n",
              "}\n",
              "#T_5ab3d_row0_col1 {\n",
              "  background-color: #134c87;\n",
              "  color: #f1f1f1;\n",
              "}\n",
              "#T_5ab3d_row0_col2, #T_5ab3d_row0_col4, #T_5ab3d_row0_col5, #T_5ab3d_row2_col0, #T_5ab3d_row2_col1, #T_5ab3d_row2_col3 {\n",
              "  background-color: #67001f;\n",
              "  color: #f1f1f1;\n",
              "}\n",
              "#T_5ab3d_row0_col3 {\n",
              "  background-color: #15508d;\n",
              "  color: #f1f1f1;\n",
              "}\n",
              "#T_5ab3d_row1_col0 {\n",
              "  background-color: #0e4179;\n",
              "  color: #f1f1f1;\n",
              "}\n",
              "#T_5ab3d_row1_col2 {\n",
              "  background-color: #f6b394;\n",
              "  color: #000000;\n",
              "}\n",
              "#T_5ab3d_row1_col4 {\n",
              "  background-color: #f6f7f7;\n",
              "  color: #000000;\n",
              "}\n",
              "#T_5ab3d_row1_col5 {\n",
              "  background-color: #e6eff4;\n",
              "  color: #000000;\n",
              "}\n",
              "#T_5ab3d_row2_col4 {\n",
              "  background-color: #c5dfec;\n",
              "  color: #000000;\n",
              "}\n",
              "#T_5ab3d_row2_col5 {\n",
              "  background-color: #facab1;\n",
              "  color: #000000;\n",
              "}\n",
              "#T_5ab3d_row3_col0 {\n",
              "  background-color: #10457e;\n",
              "  color: #f1f1f1;\n",
              "}\n",
              "#T_5ab3d_row3_col2 {\n",
              "  background-color: #f8bb9e;\n",
              "  color: #000000;\n",
              "}\n",
              "#T_5ab3d_row3_col4 {\n",
              "  background-color: #edf2f5;\n",
              "  color: #000000;\n",
              "}\n",
              "#T_5ab3d_row3_col5 {\n",
              "  background-color: #dbeaf2;\n",
              "  color: #000000;\n",
              "}\n",
              "#T_5ab3d_row4_col0 {\n",
              "  background-color: #cce2ef;\n",
              "  color: #000000;\n",
              "}\n",
              "#T_5ab3d_row4_col1 {\n",
              "  background-color: #8ac0db;\n",
              "  color: #000000;\n",
              "}\n",
              "#T_5ab3d_row4_col2 {\n",
              "  background-color: #327cb7;\n",
              "  color: #f1f1f1;\n",
              "}\n",
              "#T_5ab3d_row4_col3 {\n",
              "  background-color: #84bcd9;\n",
              "  color: #000000;\n",
              "}\n",
              "#T_5ab3d_row4_col5 {\n",
              "  background-color: #08366a;\n",
              "  color: #f1f1f1;\n",
              "}\n",
              "#T_5ab3d_row5_col0 {\n",
              "  background-color: #9dcbe1;\n",
              "  color: #000000;\n",
              "}\n",
              "#T_5ab3d_row5_col1 {\n",
              "  background-color: #4c99c6;\n",
              "  color: #f1f1f1;\n",
              "}\n",
              "#T_5ab3d_row5_col2 {\n",
              "  background-color: #4393c3;\n",
              "  color: #f1f1f1;\n",
              "}\n",
              "#T_5ab3d_row5_col3 {\n",
              "  background-color: #4997c5;\n",
              "  color: #f1f1f1;\n",
              "}\n",
              "#T_5ab3d_row5_col4 {\n",
              "  background-color: #073467;\n",
              "  color: #f1f1f1;\n",
              "}\n",
              "</style>\n",
              "<table id=\"T_5ab3d_\" class=\"dataframe\">\n",
              "  <thead>\n",
              "    <tr>\n",
              "      <th class=\"index_name level0\" >COR_RACA</th>\n",
              "      <th class=\"col_heading level0 col0\" >amarela</th>\n",
              "      <th class=\"col_heading level0 col1\" >branca</th>\n",
              "      <th class=\"col_heading level0 col2\" >indigena</th>\n",
              "      <th class=\"col_heading level0 col3\" >nao_declarado</th>\n",
              "      <th class=\"col_heading level0 col4\" >parda</th>\n",
              "      <th class=\"col_heading level0 col5\" >preta</th>\n",
              "    </tr>\n",
              "    <tr>\n",
              "      <th class=\"index_name level0\" >COR_RACA</th>\n",
              "      <th class=\"blank col0\" >&nbsp;</th>\n",
              "      <th class=\"blank col1\" >&nbsp;</th>\n",
              "      <th class=\"blank col2\" >&nbsp;</th>\n",
              "      <th class=\"blank col3\" >&nbsp;</th>\n",
              "      <th class=\"blank col4\" >&nbsp;</th>\n",
              "      <th class=\"blank col5\" >&nbsp;</th>\n",
              "    </tr>\n",
              "  </thead>\n",
              "  <tbody>\n",
              "    <tr>\n",
              "      <th id=\"T_5ab3d_level0_row0\" class=\"row_heading level0 row0\" >amarela</th>\n",
              "      <td id=\"T_5ab3d_row0_col0\" class=\"data row0 col0\" >1.000000</td>\n",
              "      <td id=\"T_5ab3d_row0_col1\" class=\"data row0 col1\" >0.992687</td>\n",
              "      <td id=\"T_5ab3d_row0_col2\" class=\"data row0 col2\" >0.790041</td>\n",
              "      <td id=\"T_5ab3d_row0_col3\" class=\"data row0 col3\" >0.991792</td>\n",
              "      <td id=\"T_5ab3d_row0_col4\" class=\"data row0 col4\" >0.917545</td>\n",
              "      <td id=\"T_5ab3d_row0_col5\" class=\"data row0 col5\" >0.932986</td>\n",
              "    </tr>\n",
              "    <tr>\n",
              "      <th id=\"T_5ab3d_level0_row1\" class=\"row_heading level0 row1\" >branca</th>\n",
              "      <td id=\"T_5ab3d_row1_col0\" class=\"data row1 col0\" >0.992687</td>\n",
              "      <td id=\"T_5ab3d_row1_col1\" class=\"data row1 col1\" >1.000000</td>\n",
              "      <td id=\"T_5ab3d_row1_col2\" class=\"data row1 col2\" >0.858269</td>\n",
              "      <td id=\"T_5ab3d_row1_col3\" class=\"data row1 col3\" >0.999974</td>\n",
              "      <td id=\"T_5ab3d_row1_col4\" class=\"data row1 col4\" >0.958836</td>\n",
              "      <td id=\"T_5ab3d_row1_col5\" class=\"data row1 col5\" >0.969610</td>\n",
              "    </tr>\n",
              "    <tr>\n",
              "      <th id=\"T_5ab3d_level0_row2\" class=\"row_heading level0 row2\" >indigena</th>\n",
              "      <td id=\"T_5ab3d_row2_col0\" class=\"data row2 col0\" >0.790041</td>\n",
              "      <td id=\"T_5ab3d_row2_col1\" class=\"data row2 col1\" >0.858269</td>\n",
              "      <td id=\"T_5ab3d_row2_col2\" class=\"data row2 col2\" >1.000000</td>\n",
              "      <td id=\"T_5ab3d_row2_col3\" class=\"data row2 col3\" >0.861942</td>\n",
              "      <td id=\"T_5ab3d_row2_col4\" class=\"data row2 col4\" >0.968668</td>\n",
              "      <td id=\"T_5ab3d_row2_col5\" class=\"data row2 col5\" >0.957743</td>\n",
              "    </tr>\n",
              "    <tr>\n",
              "      <th id=\"T_5ab3d_level0_row3\" class=\"row_heading level0 row3\" >nao_declarado</th>\n",
              "      <td id=\"T_5ab3d_row3_col0\" class=\"data row3 col0\" >0.991792</td>\n",
              "      <td id=\"T_5ab3d_row3_col1\" class=\"data row3 col1\" >0.999974</td>\n",
              "      <td id=\"T_5ab3d_row3_col2\" class=\"data row3 col2\" >0.861942</td>\n",
              "      <td id=\"T_5ab3d_row3_col3\" class=\"data row3 col3\" >1.000000</td>\n",
              "      <td id=\"T_5ab3d_row3_col4\" class=\"data row3 col4\" >0.960855</td>\n",
              "      <td id=\"T_5ab3d_row3_col5\" class=\"data row3 col5\" >0.971347</td>\n",
              "    </tr>\n",
              "    <tr>\n",
              "      <th id=\"T_5ab3d_level0_row4\" class=\"row_heading level0 row4\" >parda</th>\n",
              "      <td id=\"T_5ab3d_row4_col0\" class=\"data row4 col0\" >0.917545</td>\n",
              "      <td id=\"T_5ab3d_row4_col1\" class=\"data row4 col1\" >0.958836</td>\n",
              "      <td id=\"T_5ab3d_row4_col2\" class=\"data row4 col2\" >0.968668</td>\n",
              "      <td id=\"T_5ab3d_row4_col3\" class=\"data row4 col3\" >0.960855</td>\n",
              "      <td id=\"T_5ab3d_row4_col4\" class=\"data row4 col4\" >1.000000</td>\n",
              "      <td id=\"T_5ab3d_row4_col5\" class=\"data row4 col5\" >0.999169</td>\n",
              "    </tr>\n",
              "    <tr>\n",
              "      <th id=\"T_5ab3d_level0_row5\" class=\"row_heading level0 row5\" >preta</th>\n",
              "      <td id=\"T_5ab3d_row5_col0\" class=\"data row5 col0\" >0.932986</td>\n",
              "      <td id=\"T_5ab3d_row5_col1\" class=\"data row5 col1\" >0.969610</td>\n",
              "      <td id=\"T_5ab3d_row5_col2\" class=\"data row5 col2\" >0.957743</td>\n",
              "      <td id=\"T_5ab3d_row5_col3\" class=\"data row5 col3\" >0.971347</td>\n",
              "      <td id=\"T_5ab3d_row5_col4\" class=\"data row5 col4\" >0.999169</td>\n",
              "      <td id=\"T_5ab3d_row5_col5\" class=\"data row5 col5\" >1.000000</td>\n",
              "    </tr>\n",
              "  </tbody>\n",
              "</table>\n"
            ]
          },
          "metadata": {},
          "execution_count": 33
        }
      ]
    },
    {
      "cell_type": "markdown",
      "source": [
        "É possivel identificar fortes correlações entre as cores/raças:\n",
        "- amarela x branca\n",
        "- amarela x nao declarado\n",
        "- branca x nao declarado\n",
        "- parda x preta\n",
        "\n",
        "...significando que a proporção de tipo de escola selecionada é semelhante."
      ],
      "metadata": {
        "id": "cOA_BpmpE_iC"
      }
    },
    {
      "cell_type": "markdown",
      "source": [
        "- Vamos verificar também, continuando com os dados de participantes por escola, como esta a correlação de nota de redação de participante por tipo de escola"
      ],
      "metadata": {
        "id": "FU9PElOIVxAR"
      }
    },
    {
      "cell_type": "code",
      "source": [
        "df_cross_redacao_escola = pd.crosstab(df.NOTA_REDACAO, df.ESCOLA)\n",
        "df_cross_redacao_escola = df_cross_redacao_escola.sort_values(by=\"NOTA_REDACAO\", ascending=False)\n",
        "df_cross_redacao_escola.head(5)"
      ],
      "metadata": {
        "id": "FhW9FydEV-_p",
        "outputId": "e8d7fb7b-8d68-4f63-b1d5-7723e0b5e13e",
        "colab": {
          "base_uri": "https://localhost:8080/",
          "height": 238
        }
      },
      "execution_count": 57,
      "outputs": [
        {
          "output_type": "execute_result",
          "data": {
            "text/plain": [
              "ESCOLA        nao_declarado  privada  publica\n",
              "NOTA_REDACAO                                 \n",
              "1000.0                    4        1        0\n",
              "980.0                   710      250       86\n",
              "960.0                  2206      757      348\n",
              "940.0                  3459     1117      568\n",
              "920.0                  4666     1650      913"
            ],
            "text/html": [
              "\n",
              "  <div id=\"df-78831583-019c-4487-89df-c0ac251fc856\">\n",
              "    <div class=\"colab-df-container\">\n",
              "      <div>\n",
              "<style scoped>\n",
              "    .dataframe tbody tr th:only-of-type {\n",
              "        vertical-align: middle;\n",
              "    }\n",
              "\n",
              "    .dataframe tbody tr th {\n",
              "        vertical-align: top;\n",
              "    }\n",
              "\n",
              "    .dataframe thead th {\n",
              "        text-align: right;\n",
              "    }\n",
              "</style>\n",
              "<table border=\"1\" class=\"dataframe\">\n",
              "  <thead>\n",
              "    <tr style=\"text-align: right;\">\n",
              "      <th>ESCOLA</th>\n",
              "      <th>nao_declarado</th>\n",
              "      <th>privada</th>\n",
              "      <th>publica</th>\n",
              "    </tr>\n",
              "    <tr>\n",
              "      <th>NOTA_REDACAO</th>\n",
              "      <th></th>\n",
              "      <th></th>\n",
              "      <th></th>\n",
              "    </tr>\n",
              "  </thead>\n",
              "  <tbody>\n",
              "    <tr>\n",
              "      <th>1000.0</th>\n",
              "      <td>4</td>\n",
              "      <td>1</td>\n",
              "      <td>0</td>\n",
              "    </tr>\n",
              "    <tr>\n",
              "      <th>980.0</th>\n",
              "      <td>710</td>\n",
              "      <td>250</td>\n",
              "      <td>86</td>\n",
              "    </tr>\n",
              "    <tr>\n",
              "      <th>960.0</th>\n",
              "      <td>2206</td>\n",
              "      <td>757</td>\n",
              "      <td>348</td>\n",
              "    </tr>\n",
              "    <tr>\n",
              "      <th>940.0</th>\n",
              "      <td>3459</td>\n",
              "      <td>1117</td>\n",
              "      <td>568</td>\n",
              "    </tr>\n",
              "    <tr>\n",
              "      <th>920.0</th>\n",
              "      <td>4666</td>\n",
              "      <td>1650</td>\n",
              "      <td>913</td>\n",
              "    </tr>\n",
              "  </tbody>\n",
              "</table>\n",
              "</div>\n",
              "      <button class=\"colab-df-convert\" onclick=\"convertToInteractive('df-78831583-019c-4487-89df-c0ac251fc856')\"\n",
              "              title=\"Convert this dataframe to an interactive table.\"\n",
              "              style=\"display:none;\">\n",
              "        \n",
              "  <svg xmlns=\"http://www.w3.org/2000/svg\" height=\"24px\"viewBox=\"0 0 24 24\"\n",
              "       width=\"24px\">\n",
              "    <path d=\"M0 0h24v24H0V0z\" fill=\"none\"/>\n",
              "    <path d=\"M18.56 5.44l.94 2.06.94-2.06 2.06-.94-2.06-.94-.94-2.06-.94 2.06-2.06.94zm-11 1L8.5 8.5l.94-2.06 2.06-.94-2.06-.94L8.5 2.5l-.94 2.06-2.06.94zm10 10l.94 2.06.94-2.06 2.06-.94-2.06-.94-.94-2.06-.94 2.06-2.06.94z\"/><path d=\"M17.41 7.96l-1.37-1.37c-.4-.4-.92-.59-1.43-.59-.52 0-1.04.2-1.43.59L10.3 9.45l-7.72 7.72c-.78.78-.78 2.05 0 2.83L4 21.41c.39.39.9.59 1.41.59.51 0 1.02-.2 1.41-.59l7.78-7.78 2.81-2.81c.8-.78.8-2.07 0-2.86zM5.41 20L4 18.59l7.72-7.72 1.47 1.35L5.41 20z\"/>\n",
              "  </svg>\n",
              "      </button>\n",
              "      \n",
              "  <style>\n",
              "    .colab-df-container {\n",
              "      display:flex;\n",
              "      flex-wrap:wrap;\n",
              "      gap: 12px;\n",
              "    }\n",
              "\n",
              "    .colab-df-convert {\n",
              "      background-color: #E8F0FE;\n",
              "      border: none;\n",
              "      border-radius: 50%;\n",
              "      cursor: pointer;\n",
              "      display: none;\n",
              "      fill: #1967D2;\n",
              "      height: 32px;\n",
              "      padding: 0 0 0 0;\n",
              "      width: 32px;\n",
              "    }\n",
              "\n",
              "    .colab-df-convert:hover {\n",
              "      background-color: #E2EBFA;\n",
              "      box-shadow: 0px 1px 2px rgba(60, 64, 67, 0.3), 0px 1px 3px 1px rgba(60, 64, 67, 0.15);\n",
              "      fill: #174EA6;\n",
              "    }\n",
              "\n",
              "    [theme=dark] .colab-df-convert {\n",
              "      background-color: #3B4455;\n",
              "      fill: #D2E3FC;\n",
              "    }\n",
              "\n",
              "    [theme=dark] .colab-df-convert:hover {\n",
              "      background-color: #434B5C;\n",
              "      box-shadow: 0px 1px 3px 1px rgba(0, 0, 0, 0.15);\n",
              "      filter: drop-shadow(0px 1px 2px rgba(0, 0, 0, 0.3));\n",
              "      fill: #FFFFFF;\n",
              "    }\n",
              "  </style>\n",
              "\n",
              "      <script>\n",
              "        const buttonEl =\n",
              "          document.querySelector('#df-78831583-019c-4487-89df-c0ac251fc856 button.colab-df-convert');\n",
              "        buttonEl.style.display =\n",
              "          google.colab.kernel.accessAllowed ? 'block' : 'none';\n",
              "\n",
              "        async function convertToInteractive(key) {\n",
              "          const element = document.querySelector('#df-78831583-019c-4487-89df-c0ac251fc856');\n",
              "          const dataTable =\n",
              "            await google.colab.kernel.invokeFunction('convertToInteractive',\n",
              "                                                     [key], {});\n",
              "          if (!dataTable) return;\n",
              "\n",
              "          const docLinkHtml = 'Like what you see? Visit the ' +\n",
              "            '<a target=\"_blank\" href=https://colab.research.google.com/notebooks/data_table.ipynb>data table notebook</a>'\n",
              "            + ' to learn more about interactive tables.';\n",
              "          element.innerHTML = '';\n",
              "          dataTable['output_type'] = 'display_data';\n",
              "          await google.colab.output.renderOutput(dataTable, element);\n",
              "          const docLink = document.createElement('div');\n",
              "          docLink.innerHTML = docLinkHtml;\n",
              "          element.appendChild(docLink);\n",
              "        }\n",
              "      </script>\n",
              "    </div>\n",
              "  </div>\n",
              "  "
            ]
          },
          "metadata": {},
          "execution_count": 57
        }
      ]
    },
    {
      "cell_type": "markdown",
      "source": [
        "- Correlação de nota de redação de participante por tipo de escola sem os não declarados"
      ],
      "metadata": {
        "id": "ubmFnAVsW5AN"
      }
    },
    {
      "cell_type": "code",
      "source": [
        "df_cross_redacao_escola_tratado = df_cross_redacao_escola.drop(\"nao_declarado\", axis=1)\n",
        "df_cross_redacao_escola_tratado.head(5)"
      ],
      "metadata": {
        "id": "T2rFyeOIXCd2",
        "outputId": "0a09320a-1c60-43d0-81b3-a1758a9045ce",
        "colab": {
          "base_uri": "https://localhost:8080/",
          "height": 238
        }
      },
      "execution_count": 60,
      "outputs": [
        {
          "output_type": "execute_result",
          "data": {
            "text/plain": [
              "ESCOLA        privada  publica\n",
              "NOTA_REDACAO                  \n",
              "1000.0              1        0\n",
              "980.0             250       86\n",
              "960.0             757      348\n",
              "940.0            1117      568\n",
              "920.0            1650      913"
            ],
            "text/html": [
              "\n",
              "  <div id=\"df-eee66322-82c3-47f1-b881-4117c5b7c7c8\">\n",
              "    <div class=\"colab-df-container\">\n",
              "      <div>\n",
              "<style scoped>\n",
              "    .dataframe tbody tr th:only-of-type {\n",
              "        vertical-align: middle;\n",
              "    }\n",
              "\n",
              "    .dataframe tbody tr th {\n",
              "        vertical-align: top;\n",
              "    }\n",
              "\n",
              "    .dataframe thead th {\n",
              "        text-align: right;\n",
              "    }\n",
              "</style>\n",
              "<table border=\"1\" class=\"dataframe\">\n",
              "  <thead>\n",
              "    <tr style=\"text-align: right;\">\n",
              "      <th>ESCOLA</th>\n",
              "      <th>privada</th>\n",
              "      <th>publica</th>\n",
              "    </tr>\n",
              "    <tr>\n",
              "      <th>NOTA_REDACAO</th>\n",
              "      <th></th>\n",
              "      <th></th>\n",
              "    </tr>\n",
              "  </thead>\n",
              "  <tbody>\n",
              "    <tr>\n",
              "      <th>1000.0</th>\n",
              "      <td>1</td>\n",
              "      <td>0</td>\n",
              "    </tr>\n",
              "    <tr>\n",
              "      <th>980.0</th>\n",
              "      <td>250</td>\n",
              "      <td>86</td>\n",
              "    </tr>\n",
              "    <tr>\n",
              "      <th>960.0</th>\n",
              "      <td>757</td>\n",
              "      <td>348</td>\n",
              "    </tr>\n",
              "    <tr>\n",
              "      <th>940.0</th>\n",
              "      <td>1117</td>\n",
              "      <td>568</td>\n",
              "    </tr>\n",
              "    <tr>\n",
              "      <th>920.0</th>\n",
              "      <td>1650</td>\n",
              "      <td>913</td>\n",
              "    </tr>\n",
              "  </tbody>\n",
              "</table>\n",
              "</div>\n",
              "      <button class=\"colab-df-convert\" onclick=\"convertToInteractive('df-eee66322-82c3-47f1-b881-4117c5b7c7c8')\"\n",
              "              title=\"Convert this dataframe to an interactive table.\"\n",
              "              style=\"display:none;\">\n",
              "        \n",
              "  <svg xmlns=\"http://www.w3.org/2000/svg\" height=\"24px\"viewBox=\"0 0 24 24\"\n",
              "       width=\"24px\">\n",
              "    <path d=\"M0 0h24v24H0V0z\" fill=\"none\"/>\n",
              "    <path d=\"M18.56 5.44l.94 2.06.94-2.06 2.06-.94-2.06-.94-.94-2.06-.94 2.06-2.06.94zm-11 1L8.5 8.5l.94-2.06 2.06-.94-2.06-.94L8.5 2.5l-.94 2.06-2.06.94zm10 10l.94 2.06.94-2.06 2.06-.94-2.06-.94-.94-2.06-.94 2.06-2.06.94z\"/><path d=\"M17.41 7.96l-1.37-1.37c-.4-.4-.92-.59-1.43-.59-.52 0-1.04.2-1.43.59L10.3 9.45l-7.72 7.72c-.78.78-.78 2.05 0 2.83L4 21.41c.39.39.9.59 1.41.59.51 0 1.02-.2 1.41-.59l7.78-7.78 2.81-2.81c.8-.78.8-2.07 0-2.86zM5.41 20L4 18.59l7.72-7.72 1.47 1.35L5.41 20z\"/>\n",
              "  </svg>\n",
              "      </button>\n",
              "      \n",
              "  <style>\n",
              "    .colab-df-container {\n",
              "      display:flex;\n",
              "      flex-wrap:wrap;\n",
              "      gap: 12px;\n",
              "    }\n",
              "\n",
              "    .colab-df-convert {\n",
              "      background-color: #E8F0FE;\n",
              "      border: none;\n",
              "      border-radius: 50%;\n",
              "      cursor: pointer;\n",
              "      display: none;\n",
              "      fill: #1967D2;\n",
              "      height: 32px;\n",
              "      padding: 0 0 0 0;\n",
              "      width: 32px;\n",
              "    }\n",
              "\n",
              "    .colab-df-convert:hover {\n",
              "      background-color: #E2EBFA;\n",
              "      box-shadow: 0px 1px 2px rgba(60, 64, 67, 0.3), 0px 1px 3px 1px rgba(60, 64, 67, 0.15);\n",
              "      fill: #174EA6;\n",
              "    }\n",
              "\n",
              "    [theme=dark] .colab-df-convert {\n",
              "      background-color: #3B4455;\n",
              "      fill: #D2E3FC;\n",
              "    }\n",
              "\n",
              "    [theme=dark] .colab-df-convert:hover {\n",
              "      background-color: #434B5C;\n",
              "      box-shadow: 0px 1px 3px 1px rgba(0, 0, 0, 0.15);\n",
              "      filter: drop-shadow(0px 1px 2px rgba(0, 0, 0, 0.3));\n",
              "      fill: #FFFFFF;\n",
              "    }\n",
              "  </style>\n",
              "\n",
              "      <script>\n",
              "        const buttonEl =\n",
              "          document.querySelector('#df-eee66322-82c3-47f1-b881-4117c5b7c7c8 button.colab-df-convert');\n",
              "        buttonEl.style.display =\n",
              "          google.colab.kernel.accessAllowed ? 'block' : 'none';\n",
              "\n",
              "        async function convertToInteractive(key) {\n",
              "          const element = document.querySelector('#df-eee66322-82c3-47f1-b881-4117c5b7c7c8');\n",
              "          const dataTable =\n",
              "            await google.colab.kernel.invokeFunction('convertToInteractive',\n",
              "                                                     [key], {});\n",
              "          if (!dataTable) return;\n",
              "\n",
              "          const docLinkHtml = 'Like what you see? Visit the ' +\n",
              "            '<a target=\"_blank\" href=https://colab.research.google.com/notebooks/data_table.ipynb>data table notebook</a>'\n",
              "            + ' to learn more about interactive tables.';\n",
              "          element.innerHTML = '';\n",
              "          dataTable['output_type'] = 'display_data';\n",
              "          await google.colab.output.renderOutput(dataTable, element);\n",
              "          const docLink = document.createElement('div');\n",
              "          docLink.innerHTML = docLinkHtml;\n",
              "          element.appendChild(docLink);\n",
              "        }\n",
              "      </script>\n",
              "    </div>\n",
              "  </div>\n",
              "  "
            ]
          },
          "metadata": {},
          "execution_count": 60
        }
      ]
    },
    {
      "cell_type": "markdown",
      "source": [
        "Essa análise também é muito boa, porque conseguimos ver que temos um quantidade maior de notas altas de redações nas escolas privadas."
      ],
      "metadata": {
        "id": "y-tVIW2gXOqk"
      }
    },
    {
      "cell_type": "markdown",
      "source": [
        "- Listagem de 10 melhores notas de redações sem repetição"
      ],
      "metadata": {
        "id": "1FHpsNK1YPun"
      }
    },
    {
      "cell_type": "code",
      "source": [
        "df_melhores_redacoes = df.sort_values(by=\"NOTA_REDACAO\", ascending=False)\n",
        "listagem_melhores_redacoes = df_melhores_redacoes.drop_duplicates(['NOTA_REDACAO'])\n",
        "listagem_melhores_redacoes_10 = listagem_melhores_redacoes[['NOTA_REDACAO']].head(10)\n",
        "listagem_melhores_redacoes_10"
      ],
      "metadata": {
        "id": "PGfq3WxoX7tK",
        "outputId": "840d652c-aa85-4b7f-f4a9-685661516270",
        "colab": {
          "base_uri": "https://localhost:8080/",
          "height": 363
        }
      },
      "execution_count": 78,
      "outputs": [
        {
          "output_type": "execute_result",
          "data": {
            "text/plain": [
              "        NOTA_REDACAO\n",
              "280422        1000.0\n",
              "219937         980.0\n",
              "106480         960.0\n",
              "346278         940.0\n",
              "264654         920.0\n",
              "534132         900.0\n",
              "318970         880.0\n",
              "418681         860.0\n",
              "147507         840.0\n",
              "213479         820.0"
            ],
            "text/html": [
              "\n",
              "  <div id=\"df-cf976b01-19f3-4a58-9e28-098f051ba688\">\n",
              "    <div class=\"colab-df-container\">\n",
              "      <div>\n",
              "<style scoped>\n",
              "    .dataframe tbody tr th:only-of-type {\n",
              "        vertical-align: middle;\n",
              "    }\n",
              "\n",
              "    .dataframe tbody tr th {\n",
              "        vertical-align: top;\n",
              "    }\n",
              "\n",
              "    .dataframe thead th {\n",
              "        text-align: right;\n",
              "    }\n",
              "</style>\n",
              "<table border=\"1\" class=\"dataframe\">\n",
              "  <thead>\n",
              "    <tr style=\"text-align: right;\">\n",
              "      <th></th>\n",
              "      <th>NOTA_REDACAO</th>\n",
              "    </tr>\n",
              "  </thead>\n",
              "  <tbody>\n",
              "    <tr>\n",
              "      <th>280422</th>\n",
              "      <td>1000.0</td>\n",
              "    </tr>\n",
              "    <tr>\n",
              "      <th>219937</th>\n",
              "      <td>980.0</td>\n",
              "    </tr>\n",
              "    <tr>\n",
              "      <th>106480</th>\n",
              "      <td>960.0</td>\n",
              "    </tr>\n",
              "    <tr>\n",
              "      <th>346278</th>\n",
              "      <td>940.0</td>\n",
              "    </tr>\n",
              "    <tr>\n",
              "      <th>264654</th>\n",
              "      <td>920.0</td>\n",
              "    </tr>\n",
              "    <tr>\n",
              "      <th>534132</th>\n",
              "      <td>900.0</td>\n",
              "    </tr>\n",
              "    <tr>\n",
              "      <th>318970</th>\n",
              "      <td>880.0</td>\n",
              "    </tr>\n",
              "    <tr>\n",
              "      <th>418681</th>\n",
              "      <td>860.0</td>\n",
              "    </tr>\n",
              "    <tr>\n",
              "      <th>147507</th>\n",
              "      <td>840.0</td>\n",
              "    </tr>\n",
              "    <tr>\n",
              "      <th>213479</th>\n",
              "      <td>820.0</td>\n",
              "    </tr>\n",
              "  </tbody>\n",
              "</table>\n",
              "</div>\n",
              "      <button class=\"colab-df-convert\" onclick=\"convertToInteractive('df-cf976b01-19f3-4a58-9e28-098f051ba688')\"\n",
              "              title=\"Convert this dataframe to an interactive table.\"\n",
              "              style=\"display:none;\">\n",
              "        \n",
              "  <svg xmlns=\"http://www.w3.org/2000/svg\" height=\"24px\"viewBox=\"0 0 24 24\"\n",
              "       width=\"24px\">\n",
              "    <path d=\"M0 0h24v24H0V0z\" fill=\"none\"/>\n",
              "    <path d=\"M18.56 5.44l.94 2.06.94-2.06 2.06-.94-2.06-.94-.94-2.06-.94 2.06-2.06.94zm-11 1L8.5 8.5l.94-2.06 2.06-.94-2.06-.94L8.5 2.5l-.94 2.06-2.06.94zm10 10l.94 2.06.94-2.06 2.06-.94-2.06-.94-.94-2.06-.94 2.06-2.06.94z\"/><path d=\"M17.41 7.96l-1.37-1.37c-.4-.4-.92-.59-1.43-.59-.52 0-1.04.2-1.43.59L10.3 9.45l-7.72 7.72c-.78.78-.78 2.05 0 2.83L4 21.41c.39.39.9.59 1.41.59.51 0 1.02-.2 1.41-.59l7.78-7.78 2.81-2.81c.8-.78.8-2.07 0-2.86zM5.41 20L4 18.59l7.72-7.72 1.47 1.35L5.41 20z\"/>\n",
              "  </svg>\n",
              "      </button>\n",
              "      \n",
              "  <style>\n",
              "    .colab-df-container {\n",
              "      display:flex;\n",
              "      flex-wrap:wrap;\n",
              "      gap: 12px;\n",
              "    }\n",
              "\n",
              "    .colab-df-convert {\n",
              "      background-color: #E8F0FE;\n",
              "      border: none;\n",
              "      border-radius: 50%;\n",
              "      cursor: pointer;\n",
              "      display: none;\n",
              "      fill: #1967D2;\n",
              "      height: 32px;\n",
              "      padding: 0 0 0 0;\n",
              "      width: 32px;\n",
              "    }\n",
              "\n",
              "    .colab-df-convert:hover {\n",
              "      background-color: #E2EBFA;\n",
              "      box-shadow: 0px 1px 2px rgba(60, 64, 67, 0.3), 0px 1px 3px 1px rgba(60, 64, 67, 0.15);\n",
              "      fill: #174EA6;\n",
              "    }\n",
              "\n",
              "    [theme=dark] .colab-df-convert {\n",
              "      background-color: #3B4455;\n",
              "      fill: #D2E3FC;\n",
              "    }\n",
              "\n",
              "    [theme=dark] .colab-df-convert:hover {\n",
              "      background-color: #434B5C;\n",
              "      box-shadow: 0px 1px 3px 1px rgba(0, 0, 0, 0.15);\n",
              "      filter: drop-shadow(0px 1px 2px rgba(0, 0, 0, 0.3));\n",
              "      fill: #FFFFFF;\n",
              "    }\n",
              "  </style>\n",
              "\n",
              "      <script>\n",
              "        const buttonEl =\n",
              "          document.querySelector('#df-cf976b01-19f3-4a58-9e28-098f051ba688 button.colab-df-convert');\n",
              "        buttonEl.style.display =\n",
              "          google.colab.kernel.accessAllowed ? 'block' : 'none';\n",
              "\n",
              "        async function convertToInteractive(key) {\n",
              "          const element = document.querySelector('#df-cf976b01-19f3-4a58-9e28-098f051ba688');\n",
              "          const dataTable =\n",
              "            await google.colab.kernel.invokeFunction('convertToInteractive',\n",
              "                                                     [key], {});\n",
              "          if (!dataTable) return;\n",
              "\n",
              "          const docLinkHtml = 'Like what you see? Visit the ' +\n",
              "            '<a target=\"_blank\" href=https://colab.research.google.com/notebooks/data_table.ipynb>data table notebook</a>'\n",
              "            + ' to learn more about interactive tables.';\n",
              "          element.innerHTML = '';\n",
              "          dataTable['output_type'] = 'display_data';\n",
              "          await google.colab.output.renderOutput(dataTable, element);\n",
              "          const docLink = document.createElement('div');\n",
              "          docLink.innerHTML = docLinkHtml;\n",
              "          element.appendChild(docLink);\n",
              "        }\n",
              "      </script>\n",
              "    </div>\n",
              "  </div>\n",
              "  "
            ]
          },
          "metadata": {},
          "execution_count": 78
        }
      ]
    },
    {
      "cell_type": "markdown",
      "source": [
        "- Quantidade de pessoas de escolas privadas que estão entre as 10 melhores notas de redação do ENEM"
      ],
      "metadata": {
        "id": "LGG9KpQWZ5JL"
      }
    },
    {
      "cell_type": "code",
      "source": [
        "df_privada_melhores_redacao = df[df[\"NOTA_REDACAO\"].isin(list(listagem_melhores_redacoes_10[\"NOTA_REDACAO\"]))]\n",
        "df_privada_melhores_redacao = df_privada_melhores_redacao[df_privada_melhores_redacao[\"ESCOLA\"] == 'privada']\n",
        "len(df_privada_melhores_redacao)"
      ],
      "metadata": {
        "id": "y9fThtgIbgtQ",
        "outputId": "397b40b0-9b45-43cd-9f94-25b5d223f0d5",
        "colab": {
          "base_uri": "https://localhost:8080/"
        }
      },
      "execution_count": 79,
      "outputs": [
        {
          "output_type": "execute_result",
          "data": {
            "text/plain": [
              "13101"
            ]
          },
          "metadata": {},
          "execution_count": 79
        }
      ]
    },
    {
      "cell_type": "markdown",
      "source": [
        "- Quantidade de pessoas de escolas públicas que estão entre as 10 melhores notas de redação do ENEM"
      ],
      "metadata": {
        "id": "uH8l2QbXdXZ7"
      }
    },
    {
      "cell_type": "code",
      "source": [
        "df_publica_melhores_redacao = df[df[\"NOTA_REDACAO\"].isin(list(listagem_melhores_redacoes_10[\"NOTA_REDACAO\"]))]\n",
        "df_publica_melhores_redacao = df_publica_melhores_redacao[df_publica_melhores_redacao[\"ESCOLA\"] == 'publica']\n",
        "len(df_publica_melhores_redacao)"
      ],
      "metadata": {
        "id": "_yXBGBebda4L",
        "outputId": "c1634349-c152-4212-9f45-2968d2eff4b1",
        "colab": {
          "base_uri": "https://localhost:8080/"
        }
      },
      "execution_count": 80,
      "outputs": [
        {
          "output_type": "execute_result",
          "data": {
            "text/plain": [
              "9278"
            ]
          },
          "metadata": {},
          "execution_count": 80
        }
      ]
    },
    {
      "cell_type": "markdown",
      "source": [
        "Através dessa análise conseguimos ver que as escolas privadas tiveram uma quantidade maior de vestibulandos com notas de redação entre as 10 melhores do ENEM. \n",
        "\n",
        "13.101 - 9.278 = 3.823\n",
        "\n",
        "Sendo 3.823 pessoas a mais que estão com notas altas na redação de escolas privadas."
      ],
      "metadata": {
        "id": "YXStzit5d4A1"
      }
    },
    {
      "cell_type": "markdown",
      "source": [
        "- "
      ],
      "metadata": {
        "id": "7mkPNozAijcB"
      }
    },
    {
      "cell_type": "code",
      "source": [
        "df_scatterplot = df[(df['ESCOLA'] == 'privada') | (df['ESCOLA'] == 'publica')]\n",
        "sns.scatterplot(data=df_scatterplot, x=df_scatterplot['IDADE'], y=df_scatterplot['NOTA_REDACAO'], hue=df_scatterplot[\"ESCOLA\"])"
      ],
      "metadata": {
        "id": "AfWwFAe6gV0R",
        "outputId": "87f9f05e-076f-4ce0-e9c0-0114a3d7886d",
        "colab": {
          "base_uri": "https://localhost:8080/",
          "height": 302
        }
      },
      "execution_count": 93,
      "outputs": [
        {
          "output_type": "execute_result",
          "data": {
            "text/plain": [
              "<matplotlib.axes._subplots.AxesSubplot at 0x7fbf0d6ae610>"
            ]
          },
          "metadata": {},
          "execution_count": 93
        },
        {
          "output_type": "display_data",
          "data": {
            "text/plain": [
              "<Figure size 432x288 with 1 Axes>"
            ],
            "image/png": "[encoded data removed]"
          },
          "metadata": {
            "needs_background": "light"
          }
        }
      ]
    }
  ]
}